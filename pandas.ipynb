{
 "cells": [
  {
   "cell_type": "markdown",
   "metadata": {},
   "source": [
    "### What is Pandas?\n",
    "Pandas is a Python library that provides data structures and data analysis tools for data manipulation and analysis. It is built on top of the NumPy package. pandas is a Python package providing fast, flexible, and expressive data structures designed to make working with relational data both easy and intuitive."
   ]
  },
  {
   "cell_type": "code",
   "execution_count": 1,
   "metadata": {
    "ExecuteTime": {
     "end_time": "2024-05-13T15:08:23.683320200Z",
     "start_time": "2024-05-13T15:08:19.674938100Z"
    }
   },
   "outputs": [
    {
     "name": "stdout",
     "output_type": "stream",
     "text": [
      "Requirement already satisfied: pandas in c:\\users\\lenovo\\anaconda3\\lib\\site-packages (1.4.2)\n",
      "Requirement already satisfied: python-dateutil>=2.8.1 in c:\\users\\lenovo\\anaconda3\\lib\\site-packages (from pandas) (2.8.2)\n",
      "Requirement already satisfied: pytz>=2020.1 in c:\\users\\lenovo\\anaconda3\\lib\\site-packages (from pandas) (2021.3)\n",
      "Requirement already satisfied: numpy>=1.18.5 in c:\\users\\lenovo\\anaconda3\\lib\\site-packages (from pandas) (1.21.5)\n",
      "Requirement already satisfied: six>=1.5 in c:\\users\\lenovo\\anaconda3\\lib\\site-packages (from python-dateutil>=2.8.1->pandas) (1.16.0)\n",
      "Note: you may need to restart the kernel to use updated packages.\n"
     ]
    }
   ],
   "source": [
    "# install pandas using pip from PyPI\n",
    "%pip install pandas"
   ]
  },
  {
   "cell_type": "code",
   "execution_count": 2,
   "metadata": {
    "ExecuteTime": {
     "end_time": "2024-05-13T15:08:23.774116200Z",
     "start_time": "2024-05-13T15:08:23.690315600Z"
    }
   },
   "outputs": [],
   "source": [
    "import pandas as pd"
   ]
  },
  {
   "cell_type": "code",
   "execution_count": 3,
   "metadata": {
    "ExecuteTime": {
     "end_time": "2024-05-13T15:08:23.811973400Z",
     "start_time": "2024-05-13T15:08:23.704262700Z"
    }
   },
   "outputs": [
    {
     "data": {
      "text/plain": "<module 'pandas' from 'C:\\\\Users\\\\lenovo\\\\anaconda3\\\\lib\\\\site-packages\\\\pandas\\\\__init__.py'>"
     },
     "execution_count": 3,
     "metadata": {},
     "output_type": "execute_result"
    }
   ],
   "source": [
    "pd"
   ]
  },
  {
   "cell_type": "code",
   "execution_count": 4,
   "metadata": {
    "ExecuteTime": {
     "end_time": "2024-05-13T15:08:27.100759600Z",
     "start_time": "2024-05-13T15:08:23.723209400Z"
    }
   },
   "outputs": [],
   "source": [
    "df = pd.read_csv('stack-overflow-developer-survey-2023/survey_results_public.csv')"
   ]
  },
  {
   "cell_type": "code",
   "execution_count": 5,
   "metadata": {
    "ExecuteTime": {
     "end_time": "2024-05-13T15:08:27.160418400Z",
     "start_time": "2024-05-13T15:08:27.105757400Z"
    }
   },
   "outputs": [
    {
     "data": {
      "text/plain": "       ResponseId     Q120                      MainBranch  \\\n89174       89175  I agree  I am a developer by profession   \n89175       89176  I agree  I am a developer by profession   \n89176       89177  I agree  I am a developer by profession   \n89177       89178  I agree  I am a developer by profession   \n89178       89179  I agree  I am a developer by profession   \n89179       89180  I agree  I am a developer by profession   \n89180       89181  I agree  I am a developer by profession   \n89181       89182  I agree     I code primarily as a hobby   \n89182       89183  I agree  I am a developer by profession   \n89183       89184  I agree  I am a developer by profession   \n\n                      Age                                         Employment  \\\n89174     18-24 years old                                Employed, full-time   \n89175     25-34 years old                                Employed, full-time   \n89176     18-24 years old                                 Student, full-time   \n89177     35-44 years old                                Employed, full-time   \n89178     45-54 years old                                Employed, full-time   \n89179     25-34 years old  Employed, full-time;Independent contractor, fr...   \n89180     18-24 years old             Student, full-time;Employed, part-time   \n89181   Prefer not to say                                I prefer not to say   \n89182  Under 18 years old             Employed, part-time;Student, part-time   \n89183     35-44 years old                                Employed, full-time   \n\n                                 RemoteWork  \\\n89174                             In-person   \n89175                                Remote   \n89176                                   NaN   \n89177                                Remote   \n89178                                Remote   \n89179                                Remote   \n89180  Hybrid (some remote, some in-person)   \n89181                                   NaN   \n89182  Hybrid (some remote, some in-person)   \n89183  Hybrid (some remote, some in-person)   \n\n                                        CodingActivities  \\\n89174  Hobby;Contribute to open-source projects;Freel...   \n89175                       I don’t code outside of work   \n89176                                                NaN   \n89177   Bootstrapping a business;Freelance/contract work   \n89178                                              Hobby   \n89179  Hobby;Bootstrapping a business;Freelance/contr...   \n89180                            School or academic work   \n89181                                                NaN   \n89182                      Hobby;School or academic work   \n89183  Hobby;Professional development or self-paced l...   \n\n                                                 EdLevel  \\\n89174       Bachelor’s degree (B.A., B.S., B.Eng., etc.)   \n89175       Bachelor’s degree (B.A., B.S., B.Eng., etc.)   \n89176       Bachelor’s degree (B.A., B.S., B.Eng., etc.)   \n89177    Master’s degree (M.A., M.S., M.Eng., MBA, etc.)   \n89178       Bachelor’s degree (B.A., B.S., B.Eng., etc.)   \n89179                Associate degree (A.A., A.S., etc.)   \n89180       Bachelor’s degree (B.A., B.S., B.Eng., etc.)   \n89181                                     Something else   \n89182  Secondary school (e.g. American high school, G...   \n89183       Bachelor’s degree (B.A., B.S., B.Eng., etc.)   \n\n                                               LearnCode  \\\n89174            School (i.e., University, College, etc)   \n89175  Hackathons (virtual or in-person);Online Cours...   \n89176  On the job training;Other online resources (e....   \n89177  Books / Physical media;Other online resources ...   \n89178  Online Courses or Certification;On the job tra...   \n89179  Online Courses or Certification;Other online r...   \n89180  Colleague;Online Courses or Certification;Othe...   \n89181  Books / Physical media;Hackathons (virtual or ...   \n89182  Online Courses or Certification;Other online r...   \n89183  Colleague;Online Courses or Certification;Othe...   \n\n                                         LearnCodeOnline  ...  \\\n89174                                                NaN  ...   \n89175  Formal documentation provided by the owner of ...  ...   \n89176  How-to videos;Video-based Online Courses;Writt...  ...   \n89177  Blogs with tips and tricks;How-to videos;Writt...  ...   \n89178  Formal documentation provided by the owner of ...  ...   \n89179  Formal documentation provided by the owner of ...  ...   \n89180  Formal documentation provided by the owner of ...  ...   \n89181                                                NaN  ...   \n89182  Formal documentation provided by the owner of ...  ...   \n89183  Formal documentation provided by the owner of ...  ...   \n\n            Frequency_1       Frequency_2       Frequency_3  \\\n89174             Never             Never  3-5 times a week   \n89175  1-2 times a week  3-5 times a week             Never   \n89176               NaN               NaN               NaN   \n89177  1-2 times a week  1-2 times a week             Never   \n89178  1-2 times a week  1-2 times a week  1-2 times a week   \n89179               NaN               NaN               NaN   \n89180               NaN               NaN               NaN   \n89181               NaN               NaN               NaN   \n89182               NaN               NaN               NaN   \n89183             Never  1-2 times a week  1-2 times a week   \n\n              TimeSearching         TimeAnswering  \\\n89174   30-60 minutes a day   30-60 minutes a day   \n89175  60-120 minutes a day   30-60 minutes a day   \n89176                   NaN                   NaN   \n89177   15-30 minutes a day   30-60 minutes a day   \n89178   15-30 minutes a day  60-120 minutes a day   \n89179                   NaN                   NaN   \n89180                   NaN                   NaN   \n89181                   NaN                   NaN   \n89182                   NaN                   NaN   \n89183  60-120 minutes a day   30-60 minutes a day   \n\n                                        ProfessionalTech  \\\n89174  Continuous integration (CI) and (more often) c...   \n89175  DevOps function;Continuous integration (CI) an...   \n89176                                                NaN   \n89177  Microservices;Developer portal or other centra...   \n89178  DevOps function;Microservices;Automated testin...   \n89179                                                NaN   \n89180                                                NaN   \n89181                                                NaN   \n89182                                                NaN   \n89183  DevOps function;Developer portal or other cent...   \n\n                                                Industry  \\\n89174     Manufacturing, Transportation, or Supply Chain   \n89175  Information Services, IT, Software Development...   \n89176                                                NaN   \n89177                                 Financial Services   \n89178                                          Insurance   \n89179                                                NaN   \n89180                                                NaN   \n89181                                                NaN   \n89182                                                NaN   \n89183  Information Services, IT, Software Development...   \n\n                SurveyLength                  SurveyEase ConvertedCompYearly  \n89174               Too long                        Easy                 NaN  \n89175  Appropriate in length  Neither easy nor difficult                 NaN  \n89176               Too long                        Easy                 NaN  \n89177               Too long  Neither easy nor difficult                 NaN  \n89178  Appropriate in length                        Easy                 NaN  \n89179               Too long  Neither easy nor difficult                 NaN  \n89180               Too long                        Easy                 NaN  \n89181               Too long  Neither easy nor difficult                 NaN  \n89182  Appropriate in length  Neither easy nor difficult                 NaN  \n89183  Appropriate in length                        Easy                 NaN  \n\n[10 rows x 84 columns]",
      "text/html": "<div>\n<style scoped>\n    .dataframe tbody tr th:only-of-type {\n        vertical-align: middle;\n    }\n\n    .dataframe tbody tr th {\n        vertical-align: top;\n    }\n\n    .dataframe thead th {\n        text-align: right;\n    }\n</style>\n<table border=\"1\" class=\"dataframe\">\n  <thead>\n    <tr style=\"text-align: right;\">\n      <th></th>\n      <th>ResponseId</th>\n      <th>Q120</th>\n      <th>MainBranch</th>\n      <th>Age</th>\n      <th>Employment</th>\n      <th>RemoteWork</th>\n      <th>CodingActivities</th>\n      <th>EdLevel</th>\n      <th>LearnCode</th>\n      <th>LearnCodeOnline</th>\n      <th>...</th>\n      <th>Frequency_1</th>\n      <th>Frequency_2</th>\n      <th>Frequency_3</th>\n      <th>TimeSearching</th>\n      <th>TimeAnswering</th>\n      <th>ProfessionalTech</th>\n      <th>Industry</th>\n      <th>SurveyLength</th>\n      <th>SurveyEase</th>\n      <th>ConvertedCompYearly</th>\n    </tr>\n  </thead>\n  <tbody>\n    <tr>\n      <th>89174</th>\n      <td>89175</td>\n      <td>I agree</td>\n      <td>I am a developer by profession</td>\n      <td>18-24 years old</td>\n      <td>Employed, full-time</td>\n      <td>In-person</td>\n      <td>Hobby;Contribute to open-source projects;Freel...</td>\n      <td>Bachelor’s degree (B.A., B.S., B.Eng., etc.)</td>\n      <td>School (i.e., University, College, etc)</td>\n      <td>NaN</td>\n      <td>...</td>\n      <td>Never</td>\n      <td>Never</td>\n      <td>3-5 times a week</td>\n      <td>30-60 minutes a day</td>\n      <td>30-60 minutes a day</td>\n      <td>Continuous integration (CI) and (more often) c...</td>\n      <td>Manufacturing, Transportation, or Supply Chain</td>\n      <td>Too long</td>\n      <td>Easy</td>\n      <td>NaN</td>\n    </tr>\n    <tr>\n      <th>89175</th>\n      <td>89176</td>\n      <td>I agree</td>\n      <td>I am a developer by profession</td>\n      <td>25-34 years old</td>\n      <td>Employed, full-time</td>\n      <td>Remote</td>\n      <td>I don’t code outside of work</td>\n      <td>Bachelor’s degree (B.A., B.S., B.Eng., etc.)</td>\n      <td>Hackathons (virtual or in-person);Online Cours...</td>\n      <td>Formal documentation provided by the owner of ...</td>\n      <td>...</td>\n      <td>1-2 times a week</td>\n      <td>3-5 times a week</td>\n      <td>Never</td>\n      <td>60-120 minutes a day</td>\n      <td>30-60 minutes a day</td>\n      <td>DevOps function;Continuous integration (CI) an...</td>\n      <td>Information Services, IT, Software Development...</td>\n      <td>Appropriate in length</td>\n      <td>Neither easy nor difficult</td>\n      <td>NaN</td>\n    </tr>\n    <tr>\n      <th>89176</th>\n      <td>89177</td>\n      <td>I agree</td>\n      <td>I am a developer by profession</td>\n      <td>18-24 years old</td>\n      <td>Student, full-time</td>\n      <td>NaN</td>\n      <td>NaN</td>\n      <td>Bachelor’s degree (B.A., B.S., B.Eng., etc.)</td>\n      <td>On the job training;Other online resources (e....</td>\n      <td>How-to videos;Video-based Online Courses;Writt...</td>\n      <td>...</td>\n      <td>NaN</td>\n      <td>NaN</td>\n      <td>NaN</td>\n      <td>NaN</td>\n      <td>NaN</td>\n      <td>NaN</td>\n      <td>NaN</td>\n      <td>Too long</td>\n      <td>Easy</td>\n      <td>NaN</td>\n    </tr>\n    <tr>\n      <th>89177</th>\n      <td>89178</td>\n      <td>I agree</td>\n      <td>I am a developer by profession</td>\n      <td>35-44 years old</td>\n      <td>Employed, full-time</td>\n      <td>Remote</td>\n      <td>Bootstrapping a business;Freelance/contract work</td>\n      <td>Master’s degree (M.A., M.S., M.Eng., MBA, etc.)</td>\n      <td>Books / Physical media;Other online resources ...</td>\n      <td>Blogs with tips and tricks;How-to videos;Writt...</td>\n      <td>...</td>\n      <td>1-2 times a week</td>\n      <td>1-2 times a week</td>\n      <td>Never</td>\n      <td>15-30 minutes a day</td>\n      <td>30-60 minutes a day</td>\n      <td>Microservices;Developer portal or other centra...</td>\n      <td>Financial Services</td>\n      <td>Too long</td>\n      <td>Neither easy nor difficult</td>\n      <td>NaN</td>\n    </tr>\n    <tr>\n      <th>89178</th>\n      <td>89179</td>\n      <td>I agree</td>\n      <td>I am a developer by profession</td>\n      <td>45-54 years old</td>\n      <td>Employed, full-time</td>\n      <td>Remote</td>\n      <td>Hobby</td>\n      <td>Bachelor’s degree (B.A., B.S., B.Eng., etc.)</td>\n      <td>Online Courses or Certification;On the job tra...</td>\n      <td>Formal documentation provided by the owner of ...</td>\n      <td>...</td>\n      <td>1-2 times a week</td>\n      <td>1-2 times a week</td>\n      <td>1-2 times a week</td>\n      <td>15-30 minutes a day</td>\n      <td>60-120 minutes a day</td>\n      <td>DevOps function;Microservices;Automated testin...</td>\n      <td>Insurance</td>\n      <td>Appropriate in length</td>\n      <td>Easy</td>\n      <td>NaN</td>\n    </tr>\n    <tr>\n      <th>89179</th>\n      <td>89180</td>\n      <td>I agree</td>\n      <td>I am a developer by profession</td>\n      <td>25-34 years old</td>\n      <td>Employed, full-time;Independent contractor, fr...</td>\n      <td>Remote</td>\n      <td>Hobby;Bootstrapping a business;Freelance/contr...</td>\n      <td>Associate degree (A.A., A.S., etc.)</td>\n      <td>Online Courses or Certification;Other online r...</td>\n      <td>Formal documentation provided by the owner of ...</td>\n      <td>...</td>\n      <td>NaN</td>\n      <td>NaN</td>\n      <td>NaN</td>\n      <td>NaN</td>\n      <td>NaN</td>\n      <td>NaN</td>\n      <td>NaN</td>\n      <td>Too long</td>\n      <td>Neither easy nor difficult</td>\n      <td>NaN</td>\n    </tr>\n    <tr>\n      <th>89180</th>\n      <td>89181</td>\n      <td>I agree</td>\n      <td>I am a developer by profession</td>\n      <td>18-24 years old</td>\n      <td>Student, full-time;Employed, part-time</td>\n      <td>Hybrid (some remote, some in-person)</td>\n      <td>School or academic work</td>\n      <td>Bachelor’s degree (B.A., B.S., B.Eng., etc.)</td>\n      <td>Colleague;Online Courses or Certification;Othe...</td>\n      <td>Formal documentation provided by the owner of ...</td>\n      <td>...</td>\n      <td>NaN</td>\n      <td>NaN</td>\n      <td>NaN</td>\n      <td>NaN</td>\n      <td>NaN</td>\n      <td>NaN</td>\n      <td>NaN</td>\n      <td>Too long</td>\n      <td>Easy</td>\n      <td>NaN</td>\n    </tr>\n    <tr>\n      <th>89181</th>\n      <td>89182</td>\n      <td>I agree</td>\n      <td>I code primarily as a hobby</td>\n      <td>Prefer not to say</td>\n      <td>I prefer not to say</td>\n      <td>NaN</td>\n      <td>NaN</td>\n      <td>Something else</td>\n      <td>Books / Physical media;Hackathons (virtual or ...</td>\n      <td>NaN</td>\n      <td>...</td>\n      <td>NaN</td>\n      <td>NaN</td>\n      <td>NaN</td>\n      <td>NaN</td>\n      <td>NaN</td>\n      <td>NaN</td>\n      <td>NaN</td>\n      <td>Too long</td>\n      <td>Neither easy nor difficult</td>\n      <td>NaN</td>\n    </tr>\n    <tr>\n      <th>89182</th>\n      <td>89183</td>\n      <td>I agree</td>\n      <td>I am a developer by profession</td>\n      <td>Under 18 years old</td>\n      <td>Employed, part-time;Student, part-time</td>\n      <td>Hybrid (some remote, some in-person)</td>\n      <td>Hobby;School or academic work</td>\n      <td>Secondary school (e.g. American high school, G...</td>\n      <td>Online Courses or Certification;Other online r...</td>\n      <td>Formal documentation provided by the owner of ...</td>\n      <td>...</td>\n      <td>NaN</td>\n      <td>NaN</td>\n      <td>NaN</td>\n      <td>NaN</td>\n      <td>NaN</td>\n      <td>NaN</td>\n      <td>NaN</td>\n      <td>Appropriate in length</td>\n      <td>Neither easy nor difficult</td>\n      <td>NaN</td>\n    </tr>\n    <tr>\n      <th>89183</th>\n      <td>89184</td>\n      <td>I agree</td>\n      <td>I am a developer by profession</td>\n      <td>35-44 years old</td>\n      <td>Employed, full-time</td>\n      <td>Hybrid (some remote, some in-person)</td>\n      <td>Hobby;Professional development or self-paced l...</td>\n      <td>Bachelor’s degree (B.A., B.S., B.Eng., etc.)</td>\n      <td>Colleague;Online Courses or Certification;Othe...</td>\n      <td>Formal documentation provided by the owner of ...</td>\n      <td>...</td>\n      <td>Never</td>\n      <td>1-2 times a week</td>\n      <td>1-2 times a week</td>\n      <td>60-120 minutes a day</td>\n      <td>30-60 minutes a day</td>\n      <td>DevOps function;Developer portal or other cent...</td>\n      <td>Information Services, IT, Software Development...</td>\n      <td>Appropriate in length</td>\n      <td>Easy</td>\n      <td>NaN</td>\n    </tr>\n  </tbody>\n</table>\n<p>10 rows × 84 columns</p>\n</div>"
     },
     "execution_count": 5,
     "metadata": {},
     "output_type": "execute_result"
    }
   ],
   "source": [
    "df.tail(10)"
   ]
  },
  {
   "cell_type": "code",
   "execution_count": 6,
   "metadata": {
    "ExecuteTime": {
     "end_time": "2024-05-13T15:08:27.207288500Z",
     "start_time": "2024-05-13T15:08:27.135480600Z"
    }
   },
   "outputs": [
    {
     "data": {
      "text/plain": "(89184, 84)"
     },
     "execution_count": 6,
     "metadata": {},
     "output_type": "execute_result"
    }
   ],
   "source": [
    "df.shape"
   ]
  },
  {
   "cell_type": "code",
   "execution_count": 7,
   "metadata": {
    "ExecuteTime": {
     "end_time": "2024-05-13T15:08:27.366002Z",
     "start_time": "2024-05-13T15:08:27.169392600Z"
    }
   },
   "outputs": [
    {
     "data": {
      "text/plain": "       ResponseId     Q120                      MainBranch  \\\n0               1  I agree                   None of these   \n1               2  I agree  I am a developer by profession   \n2               3  I agree  I am a developer by profession   \n3               4  I agree  I am a developer by profession   \n4               5  I agree  I am a developer by profession   \n...           ...      ...                             ...   \n89179       89180  I agree  I am a developer by profession   \n89180       89181  I agree  I am a developer by profession   \n89181       89182  I agree     I code primarily as a hobby   \n89182       89183  I agree  I am a developer by profession   \n89183       89184  I agree  I am a developer by profession   \n\n                      Age                                         Employment  \\\n0         18-24 years old                                                NaN   \n1         25-34 years old                                Employed, full-time   \n2         45-54 years old                                Employed, full-time   \n3         25-34 years old                                Employed, full-time   \n4         25-34 years old  Employed, full-time;Independent contractor, fr...   \n...                   ...                                                ...   \n89179     25-34 years old  Employed, full-time;Independent contractor, fr...   \n89180     18-24 years old             Student, full-time;Employed, part-time   \n89181   Prefer not to say                                I prefer not to say   \n89182  Under 18 years old             Employed, part-time;Student, part-time   \n89183     35-44 years old                                Employed, full-time   \n\n                                 RemoteWork  \\\n0                                       NaN   \n1                                    Remote   \n2      Hybrid (some remote, some in-person)   \n3      Hybrid (some remote, some in-person)   \n4                                    Remote   \n...                                     ...   \n89179                                Remote   \n89180  Hybrid (some remote, some in-person)   \n89181                                   NaN   \n89182  Hybrid (some remote, some in-person)   \n89183  Hybrid (some remote, some in-person)   \n\n                                        CodingActivities  \\\n0                                                    NaN   \n1      Hobby;Contribute to open-source projects;Boots...   \n2      Hobby;Professional development or self-paced l...   \n3                                                  Hobby   \n4      Hobby;Contribute to open-source projects;Profe...   \n...                                                  ...   \n89179  Hobby;Bootstrapping a business;Freelance/contr...   \n89180                            School or academic work   \n89181                                                NaN   \n89182                      Hobby;School or academic work   \n89183  Hobby;Professional development or self-paced l...   \n\n                                                 EdLevel  \\\n0                                                    NaN   \n1           Bachelor’s degree (B.A., B.S., B.Eng., etc.)   \n2           Bachelor’s degree (B.A., B.S., B.Eng., etc.)   \n3           Bachelor’s degree (B.A., B.S., B.Eng., etc.)   \n4           Bachelor’s degree (B.A., B.S., B.Eng., etc.)   \n...                                                  ...   \n89179                Associate degree (A.A., A.S., etc.)   \n89180       Bachelor’s degree (B.A., B.S., B.Eng., etc.)   \n89181                                     Something else   \n89182  Secondary school (e.g. American high school, G...   \n89183       Bachelor’s degree (B.A., B.S., B.Eng., etc.)   \n\n                                               LearnCode  \\\n0                                                    NaN   \n1      Books / Physical media;Colleague;Friend or fam...   \n2      Books / Physical media;Colleague;On the job tr...   \n3      Colleague;Friend or family member;Other online...   \n4      Books / Physical media;Online Courses or Certi...   \n...                                                  ...   \n89179  Online Courses or Certification;Other online r...   \n89180  Colleague;Online Courses or Certification;Othe...   \n89181  Books / Physical media;Hackathons (virtual or ...   \n89182  Online Courses or Certification;Other online r...   \n89183  Colleague;Online Courses or Certification;Othe...   \n\n                                         LearnCodeOnline  ...  \\\n0                                                    NaN  ...   \n1      Formal documentation provided by the owner of ...  ...   \n2      Formal documentation provided by the owner of ...  ...   \n3      Formal documentation provided by the owner of ...  ...   \n4      Formal documentation provided by the owner of ...  ...   \n...                                                  ...  ...   \n89179  Formal documentation provided by the owner of ...  ...   \n89180  Formal documentation provided by the owner of ...  ...   \n89181                                                NaN  ...   \n89182  Formal documentation provided by the owner of ...  ...   \n89183  Formal documentation provided by the owner of ...  ...   \n\n             Frequency_1        Frequency_2       Frequency_3  \\\n0                    NaN                NaN               NaN   \n1       1-2 times a week   10+ times a week             Never   \n2      6-10 times a week  6-10 times a week  3-5 times a week   \n3       1-2 times a week   10+ times a week  1-2 times a week   \n4       1-2 times a week   1-2 times a week  3-5 times a week   \n...                  ...                ...               ...   \n89179                NaN                NaN               NaN   \n89180                NaN                NaN               NaN   \n89181                NaN                NaN               NaN   \n89182                NaN                NaN               NaN   \n89183              Never   1-2 times a week  1-2 times a week   \n\n              TimeSearching        TimeAnswering  \\\n0                       NaN                  NaN   \n1       15-30 minutes a day  15-30 minutes a day   \n2       30-60 minutes a day  30-60 minutes a day   \n3       15-30 minutes a day  30-60 minutes a day   \n4      60-120 minutes a day  30-60 minutes a day   \n...                     ...                  ...   \n89179                   NaN                  NaN   \n89180                   NaN                  NaN   \n89181                   NaN                  NaN   \n89182                   NaN                  NaN   \n89183  60-120 minutes a day  30-60 minutes a day   \n\n                                        ProfessionalTech  \\\n0                                                    NaN   \n1      DevOps function;Microservices;Automated testin...   \n2      DevOps function;Microservices;Automated testin...   \n3      Automated testing;Continuous integration (CI) ...   \n4      Microservices;Automated testing;Observability ...   \n...                                                  ...   \n89179                                                NaN   \n89180                                                NaN   \n89181                                                NaN   \n89182                                                NaN   \n89183  DevOps function;Developer portal or other cent...   \n\n                                                Industry  \\\n0                                                    NaN   \n1      Information Services, IT, Software Development...   \n2      Information Services, IT, Software Development...   \n3                                                    NaN   \n4                                                  Other   \n...                                                  ...   \n89179                                                NaN   \n89180                                                NaN   \n89181                                                NaN   \n89182                                                NaN   \n89183  Information Services, IT, Software Development...   \n\n                SurveyLength                  SurveyEase ConvertedCompYearly  \n0                        NaN                         NaN                 NaN  \n1      Appropriate in length                        Easy            285000.0  \n2      Appropriate in length                        Easy            250000.0  \n3      Appropriate in length                        Easy            156000.0  \n4      Appropriate in length  Neither easy nor difficult             23456.0  \n...                      ...                         ...                 ...  \n89179               Too long  Neither easy nor difficult                 NaN  \n89180               Too long                        Easy                 NaN  \n89181               Too long  Neither easy nor difficult                 NaN  \n89182  Appropriate in length  Neither easy nor difficult                 NaN  \n89183  Appropriate in length                        Easy                 NaN  \n\n[89184 rows x 84 columns]",
      "text/html": "<div>\n<style scoped>\n    .dataframe tbody tr th:only-of-type {\n        vertical-align: middle;\n    }\n\n    .dataframe tbody tr th {\n        vertical-align: top;\n    }\n\n    .dataframe thead th {\n        text-align: right;\n    }\n</style>\n<table border=\"1\" class=\"dataframe\">\n  <thead>\n    <tr style=\"text-align: right;\">\n      <th></th>\n      <th>ResponseId</th>\n      <th>Q120</th>\n      <th>MainBranch</th>\n      <th>Age</th>\n      <th>Employment</th>\n      <th>RemoteWork</th>\n      <th>CodingActivities</th>\n      <th>EdLevel</th>\n      <th>LearnCode</th>\n      <th>LearnCodeOnline</th>\n      <th>...</th>\n      <th>Frequency_1</th>\n      <th>Frequency_2</th>\n      <th>Frequency_3</th>\n      <th>TimeSearching</th>\n      <th>TimeAnswering</th>\n      <th>ProfessionalTech</th>\n      <th>Industry</th>\n      <th>SurveyLength</th>\n      <th>SurveyEase</th>\n      <th>ConvertedCompYearly</th>\n    </tr>\n  </thead>\n  <tbody>\n    <tr>\n      <th>0</th>\n      <td>1</td>\n      <td>I agree</td>\n      <td>None of these</td>\n      <td>18-24 years old</td>\n      <td>NaN</td>\n      <td>NaN</td>\n      <td>NaN</td>\n      <td>NaN</td>\n      <td>NaN</td>\n      <td>NaN</td>\n      <td>...</td>\n      <td>NaN</td>\n      <td>NaN</td>\n      <td>NaN</td>\n      <td>NaN</td>\n      <td>NaN</td>\n      <td>NaN</td>\n      <td>NaN</td>\n      <td>NaN</td>\n      <td>NaN</td>\n      <td>NaN</td>\n    </tr>\n    <tr>\n      <th>1</th>\n      <td>2</td>\n      <td>I agree</td>\n      <td>I am a developer by profession</td>\n      <td>25-34 years old</td>\n      <td>Employed, full-time</td>\n      <td>Remote</td>\n      <td>Hobby;Contribute to open-source projects;Boots...</td>\n      <td>Bachelor’s degree (B.A., B.S., B.Eng., etc.)</td>\n      <td>Books / Physical media;Colleague;Friend or fam...</td>\n      <td>Formal documentation provided by the owner of ...</td>\n      <td>...</td>\n      <td>1-2 times a week</td>\n      <td>10+ times a week</td>\n      <td>Never</td>\n      <td>15-30 minutes a day</td>\n      <td>15-30 minutes a day</td>\n      <td>DevOps function;Microservices;Automated testin...</td>\n      <td>Information Services, IT, Software Development...</td>\n      <td>Appropriate in length</td>\n      <td>Easy</td>\n      <td>285000.0</td>\n    </tr>\n    <tr>\n      <th>2</th>\n      <td>3</td>\n      <td>I agree</td>\n      <td>I am a developer by profession</td>\n      <td>45-54 years old</td>\n      <td>Employed, full-time</td>\n      <td>Hybrid (some remote, some in-person)</td>\n      <td>Hobby;Professional development or self-paced l...</td>\n      <td>Bachelor’s degree (B.A., B.S., B.Eng., etc.)</td>\n      <td>Books / Physical media;Colleague;On the job tr...</td>\n      <td>Formal documentation provided by the owner of ...</td>\n      <td>...</td>\n      <td>6-10 times a week</td>\n      <td>6-10 times a week</td>\n      <td>3-5 times a week</td>\n      <td>30-60 minutes a day</td>\n      <td>30-60 minutes a day</td>\n      <td>DevOps function;Microservices;Automated testin...</td>\n      <td>Information Services, IT, Software Development...</td>\n      <td>Appropriate in length</td>\n      <td>Easy</td>\n      <td>250000.0</td>\n    </tr>\n    <tr>\n      <th>3</th>\n      <td>4</td>\n      <td>I agree</td>\n      <td>I am a developer by profession</td>\n      <td>25-34 years old</td>\n      <td>Employed, full-time</td>\n      <td>Hybrid (some remote, some in-person)</td>\n      <td>Hobby</td>\n      <td>Bachelor’s degree (B.A., B.S., B.Eng., etc.)</td>\n      <td>Colleague;Friend or family member;Other online...</td>\n      <td>Formal documentation provided by the owner of ...</td>\n      <td>...</td>\n      <td>1-2 times a week</td>\n      <td>10+ times a week</td>\n      <td>1-2 times a week</td>\n      <td>15-30 minutes a day</td>\n      <td>30-60 minutes a day</td>\n      <td>Automated testing;Continuous integration (CI) ...</td>\n      <td>NaN</td>\n      <td>Appropriate in length</td>\n      <td>Easy</td>\n      <td>156000.0</td>\n    </tr>\n    <tr>\n      <th>4</th>\n      <td>5</td>\n      <td>I agree</td>\n      <td>I am a developer by profession</td>\n      <td>25-34 years old</td>\n      <td>Employed, full-time;Independent contractor, fr...</td>\n      <td>Remote</td>\n      <td>Hobby;Contribute to open-source projects;Profe...</td>\n      <td>Bachelor’s degree (B.A., B.S., B.Eng., etc.)</td>\n      <td>Books / Physical media;Online Courses or Certi...</td>\n      <td>Formal documentation provided by the owner of ...</td>\n      <td>...</td>\n      <td>1-2 times a week</td>\n      <td>1-2 times a week</td>\n      <td>3-5 times a week</td>\n      <td>60-120 minutes a day</td>\n      <td>30-60 minutes a day</td>\n      <td>Microservices;Automated testing;Observability ...</td>\n      <td>Other</td>\n      <td>Appropriate in length</td>\n      <td>Neither easy nor difficult</td>\n      <td>23456.0</td>\n    </tr>\n    <tr>\n      <th>...</th>\n      <td>...</td>\n      <td>...</td>\n      <td>...</td>\n      <td>...</td>\n      <td>...</td>\n      <td>...</td>\n      <td>...</td>\n      <td>...</td>\n      <td>...</td>\n      <td>...</td>\n      <td>...</td>\n      <td>...</td>\n      <td>...</td>\n      <td>...</td>\n      <td>...</td>\n      <td>...</td>\n      <td>...</td>\n      <td>...</td>\n      <td>...</td>\n      <td>...</td>\n      <td>...</td>\n    </tr>\n    <tr>\n      <th>89179</th>\n      <td>89180</td>\n      <td>I agree</td>\n      <td>I am a developer by profession</td>\n      <td>25-34 years old</td>\n      <td>Employed, full-time;Independent contractor, fr...</td>\n      <td>Remote</td>\n      <td>Hobby;Bootstrapping a business;Freelance/contr...</td>\n      <td>Associate degree (A.A., A.S., etc.)</td>\n      <td>Online Courses or Certification;Other online r...</td>\n      <td>Formal documentation provided by the owner of ...</td>\n      <td>...</td>\n      <td>NaN</td>\n      <td>NaN</td>\n      <td>NaN</td>\n      <td>NaN</td>\n      <td>NaN</td>\n      <td>NaN</td>\n      <td>NaN</td>\n      <td>Too long</td>\n      <td>Neither easy nor difficult</td>\n      <td>NaN</td>\n    </tr>\n    <tr>\n      <th>89180</th>\n      <td>89181</td>\n      <td>I agree</td>\n      <td>I am a developer by profession</td>\n      <td>18-24 years old</td>\n      <td>Student, full-time;Employed, part-time</td>\n      <td>Hybrid (some remote, some in-person)</td>\n      <td>School or academic work</td>\n      <td>Bachelor’s degree (B.A., B.S., B.Eng., etc.)</td>\n      <td>Colleague;Online Courses or Certification;Othe...</td>\n      <td>Formal documentation provided by the owner of ...</td>\n      <td>...</td>\n      <td>NaN</td>\n      <td>NaN</td>\n      <td>NaN</td>\n      <td>NaN</td>\n      <td>NaN</td>\n      <td>NaN</td>\n      <td>NaN</td>\n      <td>Too long</td>\n      <td>Easy</td>\n      <td>NaN</td>\n    </tr>\n    <tr>\n      <th>89181</th>\n      <td>89182</td>\n      <td>I agree</td>\n      <td>I code primarily as a hobby</td>\n      <td>Prefer not to say</td>\n      <td>I prefer not to say</td>\n      <td>NaN</td>\n      <td>NaN</td>\n      <td>Something else</td>\n      <td>Books / Physical media;Hackathons (virtual or ...</td>\n      <td>NaN</td>\n      <td>...</td>\n      <td>NaN</td>\n      <td>NaN</td>\n      <td>NaN</td>\n      <td>NaN</td>\n      <td>NaN</td>\n      <td>NaN</td>\n      <td>NaN</td>\n      <td>Too long</td>\n      <td>Neither easy nor difficult</td>\n      <td>NaN</td>\n    </tr>\n    <tr>\n      <th>89182</th>\n      <td>89183</td>\n      <td>I agree</td>\n      <td>I am a developer by profession</td>\n      <td>Under 18 years old</td>\n      <td>Employed, part-time;Student, part-time</td>\n      <td>Hybrid (some remote, some in-person)</td>\n      <td>Hobby;School or academic work</td>\n      <td>Secondary school (e.g. American high school, G...</td>\n      <td>Online Courses or Certification;Other online r...</td>\n      <td>Formal documentation provided by the owner of ...</td>\n      <td>...</td>\n      <td>NaN</td>\n      <td>NaN</td>\n      <td>NaN</td>\n      <td>NaN</td>\n      <td>NaN</td>\n      <td>NaN</td>\n      <td>NaN</td>\n      <td>Appropriate in length</td>\n      <td>Neither easy nor difficult</td>\n      <td>NaN</td>\n    </tr>\n    <tr>\n      <th>89183</th>\n      <td>89184</td>\n      <td>I agree</td>\n      <td>I am a developer by profession</td>\n      <td>35-44 years old</td>\n      <td>Employed, full-time</td>\n      <td>Hybrid (some remote, some in-person)</td>\n      <td>Hobby;Professional development or self-paced l...</td>\n      <td>Bachelor’s degree (B.A., B.S., B.Eng., etc.)</td>\n      <td>Colleague;Online Courses or Certification;Othe...</td>\n      <td>Formal documentation provided by the owner of ...</td>\n      <td>...</td>\n      <td>Never</td>\n      <td>1-2 times a week</td>\n      <td>1-2 times a week</td>\n      <td>60-120 minutes a day</td>\n      <td>30-60 minutes a day</td>\n      <td>DevOps function;Developer portal or other cent...</td>\n      <td>Information Services, IT, Software Development...</td>\n      <td>Appropriate in length</td>\n      <td>Easy</td>\n      <td>NaN</td>\n    </tr>\n  </tbody>\n</table>\n<p>89184 rows × 84 columns</p>\n</div>"
     },
     "execution_count": 7,
     "metadata": {},
     "output_type": "execute_result"
    }
   ],
   "source": [
    "pd.set_option('display.max_columns', 20)\n",
    "pd.set_option('display.max_rows', 20)\n",
    "df"
   ]
  },
  {
   "cell_type": "code",
   "execution_count": 8,
   "metadata": {
    "ExecuteTime": {
     "end_time": "2024-05-13T15:08:27.366002Z",
     "start_time": "2024-05-13T15:08:27.250175600Z"
    }
   },
   "outputs": [],
   "source": [
    "schema_df = pd.read_csv(\n",
    "    'stack-overflow-developer-survey-2023/survey_results_schema.csv')"
   ]
  },
  {
   "cell_type": "code",
   "execution_count": 9,
   "metadata": {
    "ExecuteTime": {
     "end_time": "2024-05-13T15:08:27.366999400Z",
     "start_time": "2024-05-13T15:08:27.269123600Z"
    }
   },
   "outputs": [
    {
     "data": {
      "text/plain": "       qid        qname                                           question  \\\n0    QID16           S0  <div><span style=\"font-size:19px;\"><strong>Hel...   \n1    QID12     MetaInfo                                  Browser Meta Info   \n2   QID310         Q310  <div><span style=\"font-size:19px;\"><strong>You...   \n3   QID312         Q120                                                      \n4     QID1           S1  <span style=\"font-size:22px; font-family: aria...   \n..     ...          ...                                                ...   \n73  QID289  Knowledge_7  Waiting on answers to questions often causes i...   \n74  QID289  Knowledge_8  I feel like I have the tools and/or resources ...   \n75  QID290  Frequency_1  Needing help from people outside of your immed...   \n76  QID290  Frequency_2  Interacting with people outside of your immedi...   \n77  QID290  Frequency_3  Encountering knowledge silos (where one indivi...   \n\n   force_resp  type selector  \n0       False    DB       TB  \n1       False  Meta  Browser  \n2       False    DB       TB  \n3        True    MC     SAVR  \n4       False    DB       TB  \n..        ...   ...      ...  \n73        NaN    MC     MAVR  \n74        NaN    MC     MAVR  \n75        NaN    MC     MAVR  \n76        NaN    MC     MAVR  \n77        NaN    MC     MAVR  \n\n[78 rows x 6 columns]",
      "text/html": "<div>\n<style scoped>\n    .dataframe tbody tr th:only-of-type {\n        vertical-align: middle;\n    }\n\n    .dataframe tbody tr th {\n        vertical-align: top;\n    }\n\n    .dataframe thead th {\n        text-align: right;\n    }\n</style>\n<table border=\"1\" class=\"dataframe\">\n  <thead>\n    <tr style=\"text-align: right;\">\n      <th></th>\n      <th>qid</th>\n      <th>qname</th>\n      <th>question</th>\n      <th>force_resp</th>\n      <th>type</th>\n      <th>selector</th>\n    </tr>\n  </thead>\n  <tbody>\n    <tr>\n      <th>0</th>\n      <td>QID16</td>\n      <td>S0</td>\n      <td>&lt;div&gt;&lt;span style=\"font-size:19px;\"&gt;&lt;strong&gt;Hel...</td>\n      <td>False</td>\n      <td>DB</td>\n      <td>TB</td>\n    </tr>\n    <tr>\n      <th>1</th>\n      <td>QID12</td>\n      <td>MetaInfo</td>\n      <td>Browser Meta Info</td>\n      <td>False</td>\n      <td>Meta</td>\n      <td>Browser</td>\n    </tr>\n    <tr>\n      <th>2</th>\n      <td>QID310</td>\n      <td>Q310</td>\n      <td>&lt;div&gt;&lt;span style=\"font-size:19px;\"&gt;&lt;strong&gt;You...</td>\n      <td>False</td>\n      <td>DB</td>\n      <td>TB</td>\n    </tr>\n    <tr>\n      <th>3</th>\n      <td>QID312</td>\n      <td>Q120</td>\n      <td></td>\n      <td>True</td>\n      <td>MC</td>\n      <td>SAVR</td>\n    </tr>\n    <tr>\n      <th>4</th>\n      <td>QID1</td>\n      <td>S1</td>\n      <td>&lt;span style=\"font-size:22px; font-family: aria...</td>\n      <td>False</td>\n      <td>DB</td>\n      <td>TB</td>\n    </tr>\n    <tr>\n      <th>...</th>\n      <td>...</td>\n      <td>...</td>\n      <td>...</td>\n      <td>...</td>\n      <td>...</td>\n      <td>...</td>\n    </tr>\n    <tr>\n      <th>73</th>\n      <td>QID289</td>\n      <td>Knowledge_7</td>\n      <td>Waiting on answers to questions often causes i...</td>\n      <td>NaN</td>\n      <td>MC</td>\n      <td>MAVR</td>\n    </tr>\n    <tr>\n      <th>74</th>\n      <td>QID289</td>\n      <td>Knowledge_8</td>\n      <td>I feel like I have the tools and/or resources ...</td>\n      <td>NaN</td>\n      <td>MC</td>\n      <td>MAVR</td>\n    </tr>\n    <tr>\n      <th>75</th>\n      <td>QID290</td>\n      <td>Frequency_1</td>\n      <td>Needing help from people outside of your immed...</td>\n      <td>NaN</td>\n      <td>MC</td>\n      <td>MAVR</td>\n    </tr>\n    <tr>\n      <th>76</th>\n      <td>QID290</td>\n      <td>Frequency_2</td>\n      <td>Interacting with people outside of your immedi...</td>\n      <td>NaN</td>\n      <td>MC</td>\n      <td>MAVR</td>\n    </tr>\n    <tr>\n      <th>77</th>\n      <td>QID290</td>\n      <td>Frequency_3</td>\n      <td>Encountering knowledge silos (where one indivi...</td>\n      <td>NaN</td>\n      <td>MC</td>\n      <td>MAVR</td>\n    </tr>\n  </tbody>\n</table>\n<p>78 rows × 6 columns</p>\n</div>"
     },
     "execution_count": 9,
     "metadata": {},
     "output_type": "execute_result"
    }
   ],
   "source": [
    "schema_df"
   ]
  },
  {
   "cell_type": "code",
   "execution_count": 10,
   "metadata": {
    "collapsed": false,
    "ExecuteTime": {
     "end_time": "2024-05-13T15:08:27.366999400Z",
     "start_time": "2024-05-13T15:08:27.289726Z"
    }
   },
   "outputs": [
    {
     "data": {
      "text/plain": "0                         None of these\n1        I am a developer by profession\n2        I am a developer by profession\n3        I am a developer by profession\n4        I am a developer by profession\n                      ...              \n89179    I am a developer by profession\n89180    I am a developer by profession\n89181       I code primarily as a hobby\n89182    I am a developer by profession\n89183    I am a developer by profession\nName: MainBranch, Length: 89184, dtype: object"
     },
     "execution_count": 10,
     "metadata": {},
     "output_type": "execute_result"
    }
   ],
   "source": [
    "# select specific columns\n",
    "df['MainBranch']"
   ]
  },
  {
   "cell_type": "code",
   "execution_count": 11,
   "metadata": {
    "ExecuteTime": {
     "end_time": "2024-05-13T15:08:27.367996900Z",
     "start_time": "2024-05-13T15:08:27.306681400Z"
    }
   },
   "outputs": [
    {
     "data": {
      "text/plain": "   ResponseId           Employment                   Country\n0           1                  NaN                       NaN\n1           2  Employed, full-time  United States of America",
      "text/html": "<div>\n<style scoped>\n    .dataframe tbody tr th:only-of-type {\n        vertical-align: middle;\n    }\n\n    .dataframe tbody tr th {\n        vertical-align: top;\n    }\n\n    .dataframe thead th {\n        text-align: right;\n    }\n</style>\n<table border=\"1\" class=\"dataframe\">\n  <thead>\n    <tr style=\"text-align: right;\">\n      <th></th>\n      <th>ResponseId</th>\n      <th>Employment</th>\n      <th>Country</th>\n    </tr>\n  </thead>\n  <tbody>\n    <tr>\n      <th>0</th>\n      <td>1</td>\n      <td>NaN</td>\n      <td>NaN</td>\n    </tr>\n    <tr>\n      <th>1</th>\n      <td>2</td>\n      <td>Employed, full-time</td>\n      <td>United States of America</td>\n    </tr>\n  </tbody>\n</table>\n</div>"
     },
     "execution_count": 11,
     "metadata": {},
     "output_type": "execute_result"
    }
   ],
   "source": [
    "# select specific rows and columns\n",
    "df.loc[[0, 1], ['ResponseId', 'Employment', 'Country']]"
   ]
  },
  {
   "cell_type": "code",
   "execution_count": 12,
   "metadata": {
    "ExecuteTime": {
     "end_time": "2024-05-13T15:08:27.503634300Z",
     "start_time": "2024-05-13T15:08:27.351042500Z"
    }
   },
   "outputs": [
    {
     "data": {
      "text/plain": "               Q120                      MainBranch                 Age  \\\nResponseId                                                                \n1           I agree                   None of these     18-24 years old   \n2           I agree  I am a developer by profession     25-34 years old   \n3           I agree  I am a developer by profession     45-54 years old   \n4           I agree  I am a developer by profession     25-34 years old   \n5           I agree  I am a developer by profession     25-34 years old   \n...             ...                             ...                 ...   \n89180       I agree  I am a developer by profession     25-34 years old   \n89181       I agree  I am a developer by profession     18-24 years old   \n89182       I agree     I code primarily as a hobby   Prefer not to say   \n89183       I agree  I am a developer by profession  Under 18 years old   \n89184       I agree  I am a developer by profession     35-44 years old   \n\n                                                   Employment  \\\nResponseId                                                      \n1                                                         NaN   \n2                                         Employed, full-time   \n3                                         Employed, full-time   \n4                                         Employed, full-time   \n5           Employed, full-time;Independent contractor, fr...   \n...                                                       ...   \n89180       Employed, full-time;Independent contractor, fr...   \n89181                  Student, full-time;Employed, part-time   \n89182                                     I prefer not to say   \n89183                  Employed, part-time;Student, part-time   \n89184                                     Employed, full-time   \n\n                                      RemoteWork  \\\nResponseId                                         \n1                                            NaN   \n2                                         Remote   \n3           Hybrid (some remote, some in-person)   \n4           Hybrid (some remote, some in-person)   \n5                                         Remote   \n...                                          ...   \n89180                                     Remote   \n89181       Hybrid (some remote, some in-person)   \n89182                                        NaN   \n89183       Hybrid (some remote, some in-person)   \n89184       Hybrid (some remote, some in-person)   \n\n                                             CodingActivities  \\\nResponseId                                                      \n1                                                         NaN   \n2           Hobby;Contribute to open-source projects;Boots...   \n3           Hobby;Professional development or self-paced l...   \n4                                                       Hobby   \n5           Hobby;Contribute to open-source projects;Profe...   \n...                                                       ...   \n89180       Hobby;Bootstrapping a business;Freelance/contr...   \n89181                                 School or academic work   \n89182                                                     NaN   \n89183                           Hobby;School or academic work   \n89184       Hobby;Professional development or self-paced l...   \n\n                                                      EdLevel  \\\nResponseId                                                      \n1                                                         NaN   \n2                Bachelor’s degree (B.A., B.S., B.Eng., etc.)   \n3                Bachelor’s degree (B.A., B.S., B.Eng., etc.)   \n4                Bachelor’s degree (B.A., B.S., B.Eng., etc.)   \n5                Bachelor’s degree (B.A., B.S., B.Eng., etc.)   \n...                                                       ...   \n89180                     Associate degree (A.A., A.S., etc.)   \n89181            Bachelor’s degree (B.A., B.S., B.Eng., etc.)   \n89182                                          Something else   \n89183       Secondary school (e.g. American high school, G...   \n89184            Bachelor’s degree (B.A., B.S., B.Eng., etc.)   \n\n                                                    LearnCode  \\\nResponseId                                                      \n1                                                         NaN   \n2           Books / Physical media;Colleague;Friend or fam...   \n3           Books / Physical media;Colleague;On the job tr...   \n4           Colleague;Friend or family member;Other online...   \n5           Books / Physical media;Online Courses or Certi...   \n...                                                       ...   \n89180       Online Courses or Certification;Other online r...   \n89181       Colleague;Online Courses or Certification;Othe...   \n89182       Books / Physical media;Hackathons (virtual or ...   \n89183       Online Courses or Certification;Other online r...   \n89184       Colleague;Online Courses or Certification;Othe...   \n\n                                              LearnCodeOnline  \\\nResponseId                                                      \n1                                                         NaN   \n2           Formal documentation provided by the owner of ...   \n3           Formal documentation provided by the owner of ...   \n4           Formal documentation provided by the owner of ...   \n5           Formal documentation provided by the owner of ...   \n...                                                       ...   \n89180       Formal documentation provided by the owner of ...   \n89181       Formal documentation provided by the owner of ...   \n89182                                                     NaN   \n89183       Formal documentation provided by the owner of ...   \n89184       Formal documentation provided by the owner of ...   \n\n                       LearnCodeCoursesCert  ...        Frequency_1  \\\nResponseId                                   ...                      \n1                                       NaN  ...                NaN   \n2                                     Other  ...   1-2 times a week   \n3                                       NaN  ...  6-10 times a week   \n4                                       NaN  ...   1-2 times a week   \n5                      Other;Codecademy;edX  ...   1-2 times a week   \n...                                     ...  ...                ...   \n89180                                 Udemy  ...                NaN   \n89181                                   NaN  ...                NaN   \n89182                   Codecademy;Coursera  ...                NaN   \n89183                                 Udemy  ...                NaN   \n89184       Codecademy;Pluralsight;Coursera  ...              Never   \n\n                  Frequency_2       Frequency_3         TimeSearching  \\\nResponseId                                                              \n1                         NaN               NaN                   NaN   \n2            10+ times a week             Never   15-30 minutes a day   \n3           6-10 times a week  3-5 times a week   30-60 minutes a day   \n4            10+ times a week  1-2 times a week   15-30 minutes a day   \n5            1-2 times a week  3-5 times a week  60-120 minutes a day   \n...                       ...               ...                   ...   \n89180                     NaN               NaN                   NaN   \n89181                     NaN               NaN                   NaN   \n89182                     NaN               NaN                   NaN   \n89183                     NaN               NaN                   NaN   \n89184        1-2 times a week  1-2 times a week  60-120 minutes a day   \n\n                  TimeAnswering  \\\nResponseId                        \n1                           NaN   \n2           15-30 minutes a day   \n3           30-60 minutes a day   \n4           30-60 minutes a day   \n5           30-60 minutes a day   \n...                         ...   \n89180                       NaN   \n89181                       NaN   \n89182                       NaN   \n89183                       NaN   \n89184       30-60 minutes a day   \n\n                                             ProfessionalTech  \\\nResponseId                                                      \n1                                                         NaN   \n2           DevOps function;Microservices;Automated testin...   \n3           DevOps function;Microservices;Automated testin...   \n4           Automated testing;Continuous integration (CI) ...   \n5           Microservices;Automated testing;Observability ...   \n...                                                       ...   \n89180                                                     NaN   \n89181                                                     NaN   \n89182                                                     NaN   \n89183                                                     NaN   \n89184       DevOps function;Developer portal or other cent...   \n\n                                                     Industry  \\\nResponseId                                                      \n1                                                         NaN   \n2           Information Services, IT, Software Development...   \n3           Information Services, IT, Software Development...   \n4                                                         NaN   \n5                                                       Other   \n...                                                       ...   \n89180                                                     NaN   \n89181                                                     NaN   \n89182                                                     NaN   \n89183                                                     NaN   \n89184       Information Services, IT, Software Development...   \n\n                     SurveyLength                  SurveyEase  \\\nResponseId                                                      \n1                             NaN                         NaN   \n2           Appropriate in length                        Easy   \n3           Appropriate in length                        Easy   \n4           Appropriate in length                        Easy   \n5           Appropriate in length  Neither easy nor difficult   \n...                           ...                         ...   \n89180                    Too long  Neither easy nor difficult   \n89181                    Too long                        Easy   \n89182                    Too long  Neither easy nor difficult   \n89183       Appropriate in length  Neither easy nor difficult   \n89184       Appropriate in length                        Easy   \n\n            ConvertedCompYearly  \nResponseId                       \n1                           NaN  \n2                      285000.0  \n3                      250000.0  \n4                      156000.0  \n5                       23456.0  \n...                         ...  \n89180                       NaN  \n89181                       NaN  \n89182                       NaN  \n89183                       NaN  \n89184                       NaN  \n\n[89184 rows x 83 columns]",
      "text/html": "<div>\n<style scoped>\n    .dataframe tbody tr th:only-of-type {\n        vertical-align: middle;\n    }\n\n    .dataframe tbody tr th {\n        vertical-align: top;\n    }\n\n    .dataframe thead th {\n        text-align: right;\n    }\n</style>\n<table border=\"1\" class=\"dataframe\">\n  <thead>\n    <tr style=\"text-align: right;\">\n      <th></th>\n      <th>Q120</th>\n      <th>MainBranch</th>\n      <th>Age</th>\n      <th>Employment</th>\n      <th>RemoteWork</th>\n      <th>CodingActivities</th>\n      <th>EdLevel</th>\n      <th>LearnCode</th>\n      <th>LearnCodeOnline</th>\n      <th>LearnCodeCoursesCert</th>\n      <th>...</th>\n      <th>Frequency_1</th>\n      <th>Frequency_2</th>\n      <th>Frequency_3</th>\n      <th>TimeSearching</th>\n      <th>TimeAnswering</th>\n      <th>ProfessionalTech</th>\n      <th>Industry</th>\n      <th>SurveyLength</th>\n      <th>SurveyEase</th>\n      <th>ConvertedCompYearly</th>\n    </tr>\n    <tr>\n      <th>ResponseId</th>\n      <th></th>\n      <th></th>\n      <th></th>\n      <th></th>\n      <th></th>\n      <th></th>\n      <th></th>\n      <th></th>\n      <th></th>\n      <th></th>\n      <th></th>\n      <th></th>\n      <th></th>\n      <th></th>\n      <th></th>\n      <th></th>\n      <th></th>\n      <th></th>\n      <th></th>\n      <th></th>\n      <th></th>\n    </tr>\n  </thead>\n  <tbody>\n    <tr>\n      <th>1</th>\n      <td>I agree</td>\n      <td>None of these</td>\n      <td>18-24 years old</td>\n      <td>NaN</td>\n      <td>NaN</td>\n      <td>NaN</td>\n      <td>NaN</td>\n      <td>NaN</td>\n      <td>NaN</td>\n      <td>NaN</td>\n      <td>...</td>\n      <td>NaN</td>\n      <td>NaN</td>\n      <td>NaN</td>\n      <td>NaN</td>\n      <td>NaN</td>\n      <td>NaN</td>\n      <td>NaN</td>\n      <td>NaN</td>\n      <td>NaN</td>\n      <td>NaN</td>\n    </tr>\n    <tr>\n      <th>2</th>\n      <td>I agree</td>\n      <td>I am a developer by profession</td>\n      <td>25-34 years old</td>\n      <td>Employed, full-time</td>\n      <td>Remote</td>\n      <td>Hobby;Contribute to open-source projects;Boots...</td>\n      <td>Bachelor’s degree (B.A., B.S., B.Eng., etc.)</td>\n      <td>Books / Physical media;Colleague;Friend or fam...</td>\n      <td>Formal documentation provided by the owner of ...</td>\n      <td>Other</td>\n      <td>...</td>\n      <td>1-2 times a week</td>\n      <td>10+ times a week</td>\n      <td>Never</td>\n      <td>15-30 minutes a day</td>\n      <td>15-30 minutes a day</td>\n      <td>DevOps function;Microservices;Automated testin...</td>\n      <td>Information Services, IT, Software Development...</td>\n      <td>Appropriate in length</td>\n      <td>Easy</td>\n      <td>285000.0</td>\n    </tr>\n    <tr>\n      <th>3</th>\n      <td>I agree</td>\n      <td>I am a developer by profession</td>\n      <td>45-54 years old</td>\n      <td>Employed, full-time</td>\n      <td>Hybrid (some remote, some in-person)</td>\n      <td>Hobby;Professional development or self-paced l...</td>\n      <td>Bachelor’s degree (B.A., B.S., B.Eng., etc.)</td>\n      <td>Books / Physical media;Colleague;On the job tr...</td>\n      <td>Formal documentation provided by the owner of ...</td>\n      <td>NaN</td>\n      <td>...</td>\n      <td>6-10 times a week</td>\n      <td>6-10 times a week</td>\n      <td>3-5 times a week</td>\n      <td>30-60 minutes a day</td>\n      <td>30-60 minutes a day</td>\n      <td>DevOps function;Microservices;Automated testin...</td>\n      <td>Information Services, IT, Software Development...</td>\n      <td>Appropriate in length</td>\n      <td>Easy</td>\n      <td>250000.0</td>\n    </tr>\n    <tr>\n      <th>4</th>\n      <td>I agree</td>\n      <td>I am a developer by profession</td>\n      <td>25-34 years old</td>\n      <td>Employed, full-time</td>\n      <td>Hybrid (some remote, some in-person)</td>\n      <td>Hobby</td>\n      <td>Bachelor’s degree (B.A., B.S., B.Eng., etc.)</td>\n      <td>Colleague;Friend or family member;Other online...</td>\n      <td>Formal documentation provided by the owner of ...</td>\n      <td>NaN</td>\n      <td>...</td>\n      <td>1-2 times a week</td>\n      <td>10+ times a week</td>\n      <td>1-2 times a week</td>\n      <td>15-30 minutes a day</td>\n      <td>30-60 minutes a day</td>\n      <td>Automated testing;Continuous integration (CI) ...</td>\n      <td>NaN</td>\n      <td>Appropriate in length</td>\n      <td>Easy</td>\n      <td>156000.0</td>\n    </tr>\n    <tr>\n      <th>5</th>\n      <td>I agree</td>\n      <td>I am a developer by profession</td>\n      <td>25-34 years old</td>\n      <td>Employed, full-time;Independent contractor, fr...</td>\n      <td>Remote</td>\n      <td>Hobby;Contribute to open-source projects;Profe...</td>\n      <td>Bachelor’s degree (B.A., B.S., B.Eng., etc.)</td>\n      <td>Books / Physical media;Online Courses or Certi...</td>\n      <td>Formal documentation provided by the owner of ...</td>\n      <td>Other;Codecademy;edX</td>\n      <td>...</td>\n      <td>1-2 times a week</td>\n      <td>1-2 times a week</td>\n      <td>3-5 times a week</td>\n      <td>60-120 minutes a day</td>\n      <td>30-60 minutes a day</td>\n      <td>Microservices;Automated testing;Observability ...</td>\n      <td>Other</td>\n      <td>Appropriate in length</td>\n      <td>Neither easy nor difficult</td>\n      <td>23456.0</td>\n    </tr>\n    <tr>\n      <th>...</th>\n      <td>...</td>\n      <td>...</td>\n      <td>...</td>\n      <td>...</td>\n      <td>...</td>\n      <td>...</td>\n      <td>...</td>\n      <td>...</td>\n      <td>...</td>\n      <td>...</td>\n      <td>...</td>\n      <td>...</td>\n      <td>...</td>\n      <td>...</td>\n      <td>...</td>\n      <td>...</td>\n      <td>...</td>\n      <td>...</td>\n      <td>...</td>\n      <td>...</td>\n      <td>...</td>\n    </tr>\n    <tr>\n      <th>89180</th>\n      <td>I agree</td>\n      <td>I am a developer by profession</td>\n      <td>25-34 years old</td>\n      <td>Employed, full-time;Independent contractor, fr...</td>\n      <td>Remote</td>\n      <td>Hobby;Bootstrapping a business;Freelance/contr...</td>\n      <td>Associate degree (A.A., A.S., etc.)</td>\n      <td>Online Courses or Certification;Other online r...</td>\n      <td>Formal documentation provided by the owner of ...</td>\n      <td>Udemy</td>\n      <td>...</td>\n      <td>NaN</td>\n      <td>NaN</td>\n      <td>NaN</td>\n      <td>NaN</td>\n      <td>NaN</td>\n      <td>NaN</td>\n      <td>NaN</td>\n      <td>Too long</td>\n      <td>Neither easy nor difficult</td>\n      <td>NaN</td>\n    </tr>\n    <tr>\n      <th>89181</th>\n      <td>I agree</td>\n      <td>I am a developer by profession</td>\n      <td>18-24 years old</td>\n      <td>Student, full-time;Employed, part-time</td>\n      <td>Hybrid (some remote, some in-person)</td>\n      <td>School or academic work</td>\n      <td>Bachelor’s degree (B.A., B.S., B.Eng., etc.)</td>\n      <td>Colleague;Online Courses or Certification;Othe...</td>\n      <td>Formal documentation provided by the owner of ...</td>\n      <td>NaN</td>\n      <td>...</td>\n      <td>NaN</td>\n      <td>NaN</td>\n      <td>NaN</td>\n      <td>NaN</td>\n      <td>NaN</td>\n      <td>NaN</td>\n      <td>NaN</td>\n      <td>Too long</td>\n      <td>Easy</td>\n      <td>NaN</td>\n    </tr>\n    <tr>\n      <th>89182</th>\n      <td>I agree</td>\n      <td>I code primarily as a hobby</td>\n      <td>Prefer not to say</td>\n      <td>I prefer not to say</td>\n      <td>NaN</td>\n      <td>NaN</td>\n      <td>Something else</td>\n      <td>Books / Physical media;Hackathons (virtual or ...</td>\n      <td>NaN</td>\n      <td>Codecademy;Coursera</td>\n      <td>...</td>\n      <td>NaN</td>\n      <td>NaN</td>\n      <td>NaN</td>\n      <td>NaN</td>\n      <td>NaN</td>\n      <td>NaN</td>\n      <td>NaN</td>\n      <td>Too long</td>\n      <td>Neither easy nor difficult</td>\n      <td>NaN</td>\n    </tr>\n    <tr>\n      <th>89183</th>\n      <td>I agree</td>\n      <td>I am a developer by profession</td>\n      <td>Under 18 years old</td>\n      <td>Employed, part-time;Student, part-time</td>\n      <td>Hybrid (some remote, some in-person)</td>\n      <td>Hobby;School or academic work</td>\n      <td>Secondary school (e.g. American high school, G...</td>\n      <td>Online Courses or Certification;Other online r...</td>\n      <td>Formal documentation provided by the owner of ...</td>\n      <td>Udemy</td>\n      <td>...</td>\n      <td>NaN</td>\n      <td>NaN</td>\n      <td>NaN</td>\n      <td>NaN</td>\n      <td>NaN</td>\n      <td>NaN</td>\n      <td>NaN</td>\n      <td>Appropriate in length</td>\n      <td>Neither easy nor difficult</td>\n      <td>NaN</td>\n    </tr>\n    <tr>\n      <th>89184</th>\n      <td>I agree</td>\n      <td>I am a developer by profession</td>\n      <td>35-44 years old</td>\n      <td>Employed, full-time</td>\n      <td>Hybrid (some remote, some in-person)</td>\n      <td>Hobby;Professional development or self-paced l...</td>\n      <td>Bachelor’s degree (B.A., B.S., B.Eng., etc.)</td>\n      <td>Colleague;Online Courses or Certification;Othe...</td>\n      <td>Formal documentation provided by the owner of ...</td>\n      <td>Codecademy;Pluralsight;Coursera</td>\n      <td>...</td>\n      <td>Never</td>\n      <td>1-2 times a week</td>\n      <td>1-2 times a week</td>\n      <td>60-120 minutes a day</td>\n      <td>30-60 minutes a day</td>\n      <td>DevOps function;Developer portal or other cent...</td>\n      <td>Information Services, IT, Software Development...</td>\n      <td>Appropriate in length</td>\n      <td>Easy</td>\n      <td>NaN</td>\n    </tr>\n  </tbody>\n</table>\n<p>89184 rows × 83 columns</p>\n</div>"
     },
     "execution_count": 12,
     "metadata": {},
     "output_type": "execute_result"
    }
   ],
   "source": [
    "# custom index\n",
    "df.set_index('ResponseId', inplace=True)\n",
    "df"
   ]
  },
  {
   "cell_type": "code",
   "execution_count": 13,
   "outputs": [
    {
     "data": {
      "text/plain": "Int64Index([    1,     2,     3,     4,     5,     6,     7,     8,     9,\n               10,\n            ...\n            89175, 89176, 89177, 89178, 89179, 89180, 89181, 89182, 89183,\n            89184],\n           dtype='int64', name='ResponseId', length=89184)"
     },
     "execution_count": 13,
     "metadata": {},
     "output_type": "execute_result"
    }
   ],
   "source": [
    "df.index"
   ],
   "metadata": {
    "collapsed": false,
    "ExecuteTime": {
     "end_time": "2024-05-13T15:08:27.599379Z",
     "start_time": "2024-05-13T15:08:27.431827400Z"
    }
   }
  },
  {
   "cell_type": "code",
   "execution_count": 14,
   "outputs": [],
   "source": [
    "# restore default integer range index\n",
    "df.reset_index(inplace=True)"
   ],
   "metadata": {
    "collapsed": false,
    "ExecuteTime": {
     "end_time": "2024-05-13T15:08:27.600378600Z",
     "start_time": "2024-05-13T15:08:27.449778700Z"
    }
   }
  },
  {
   "cell_type": "code",
   "execution_count": 15,
   "outputs": [
    {
     "data": {
      "text/plain": "       ResponseId                             LanguageHaveWorkedWith\n1               2                         HTML/CSS;JavaScript;Python\n7               8  Go;HTML/CSS;JavaScript;Python;Rust;SQL;TypeScript\n9              10     HTML/CSS;Java;JavaScript;Python;SQL;TypeScript\n10             11                  C#;C++;HTML/CSS;JavaScript;Python\n11             12  C#;HTML/CSS;JavaScript;Kotlin;PowerShell;Pytho...\n...           ...                                                ...\n89172       89173  Bash/Shell (all shells);HTML/CSS;JavaScript;Pe...\n89176       89177  HTML/CSS;Java;JavaScript;PHP;Python;SQL;TypeSc...\n89180       89181                               Dart;Java;Python;SQL\n89181       89182  Assembly;Bash/Shell (all shells);C;C#;Python;R...\n89182       89183  Bash/Shell (all shells);C#;HTML/CSS;Java;JavaS...\n\n[43158 rows x 2 columns]",
      "text/html": "<div>\n<style scoped>\n    .dataframe tbody tr th:only-of-type {\n        vertical-align: middle;\n    }\n\n    .dataframe tbody tr th {\n        vertical-align: top;\n    }\n\n    .dataframe thead th {\n        text-align: right;\n    }\n</style>\n<table border=\"1\" class=\"dataframe\">\n  <thead>\n    <tr style=\"text-align: right;\">\n      <th></th>\n      <th>ResponseId</th>\n      <th>LanguageHaveWorkedWith</th>\n    </tr>\n  </thead>\n  <tbody>\n    <tr>\n      <th>1</th>\n      <td>2</td>\n      <td>HTML/CSS;JavaScript;Python</td>\n    </tr>\n    <tr>\n      <th>7</th>\n      <td>8</td>\n      <td>Go;HTML/CSS;JavaScript;Python;Rust;SQL;TypeScript</td>\n    </tr>\n    <tr>\n      <th>9</th>\n      <td>10</td>\n      <td>HTML/CSS;Java;JavaScript;Python;SQL;TypeScript</td>\n    </tr>\n    <tr>\n      <th>10</th>\n      <td>11</td>\n      <td>C#;C++;HTML/CSS;JavaScript;Python</td>\n    </tr>\n    <tr>\n      <th>11</th>\n      <td>12</td>\n      <td>C#;HTML/CSS;JavaScript;Kotlin;PowerShell;Pytho...</td>\n    </tr>\n    <tr>\n      <th>...</th>\n      <td>...</td>\n      <td>...</td>\n    </tr>\n    <tr>\n      <th>89172</th>\n      <td>89173</td>\n      <td>Bash/Shell (all shells);HTML/CSS;JavaScript;Pe...</td>\n    </tr>\n    <tr>\n      <th>89176</th>\n      <td>89177</td>\n      <td>HTML/CSS;Java;JavaScript;PHP;Python;SQL;TypeSc...</td>\n    </tr>\n    <tr>\n      <th>89180</th>\n      <td>89181</td>\n      <td>Dart;Java;Python;SQL</td>\n    </tr>\n    <tr>\n      <th>89181</th>\n      <td>89182</td>\n      <td>Assembly;Bash/Shell (all shells);C;C#;Python;R...</td>\n    </tr>\n    <tr>\n      <th>89182</th>\n      <td>89183</td>\n      <td>Bash/Shell (all shells);C#;HTML/CSS;Java;JavaS...</td>\n    </tr>\n  </tbody>\n</table>\n<p>43158 rows × 2 columns</p>\n</div>"
     },
     "execution_count": 15,
     "metadata": {},
     "output_type": "execute_result"
    }
   ],
   "source": [
    "# filter rows\n",
    "filt = df['LanguageHaveWorkedWith'].str.contains('Python', na=False)\n",
    "df.loc[filt, ['ResponseId', 'LanguageHaveWorkedWith']]"
   ],
   "metadata": {
    "collapsed": false,
    "ExecuteTime": {
     "end_time": "2024-05-13T15:08:27.846208900Z",
     "start_time": "2024-05-13T15:08:27.458758300Z"
    }
   }
  },
  {
   "cell_type": "code",
   "execution_count": 16,
   "outputs": [
    {
     "data": {
      "text/plain": "0             NaN\n1        285000.0\n2        250000.0\n3        156000.0\n4         23456.0\n           ...   \n89179         NaN\n89180         NaN\n89181         NaN\n89182         NaN\n89183         NaN\nName: SalaryUSD, Length: 89184, dtype: float64"
     },
     "execution_count": 16,
     "metadata": {},
     "output_type": "execute_result"
    }
   ],
   "source": [
    "# update data\n",
    "df.rename(columns={'ConvertedCompYearly': 'SalaryUSD'}, inplace=True)\n",
    "df['SalaryUSD']"
   ],
   "metadata": {
    "collapsed": false,
    "ExecuteTime": {
     "end_time": "2024-05-13T15:08:27.864166500Z",
     "start_time": "2024-05-13T15:08:27.690141500Z"
    }
   }
  },
  {
   "cell_type": "code",
   "execution_count": 17,
   "outputs": [
    {
     "data": {
      "text/plain": "0          NaN\n1         True\n2         True\n3         True\n4         True\n         ...  \n89179    False\n89180      NaN\n89181      NaN\n89182      NaN\n89183     True\nName: TBranch, Length: 89184, dtype: object"
     },
     "execution_count": 17,
     "metadata": {},
     "output_type": "execute_result"
    }
   ],
   "source": [
    "df['TBranch'] = df['TBranch'].map({'Yes': True, 'No': False})\n",
    "df['TBranch']"
   ],
   "metadata": {
    "collapsed": false,
    "ExecuteTime": {
     "end_time": "2024-05-13T15:08:27.879127100Z",
     "start_time": "2024-05-13T15:08:27.698115200Z"
    }
   }
  },
  {
   "cell_type": "code",
   "execution_count": 18,
   "outputs": [
    {
     "data": {
      "text/plain": "0                                                      NaN\n1        Employed, full-time - Senior Executive (C-Suit...\n2                Employed, full-time - Developer, back-end\n3               Employed, full-time - Developer, front-end\n4        Employed, full-time;Independent contractor, fr...\n                               ...                        \n89179    Employed, full-time;Independent contractor, fr...\n89180    Student, full-time;Employed, part-time - Devel...\n89181                                                  NaN\n89182    Employed, part-time;Student, part-time - Syste...\n89183          Employed, full-time - Developer, full-stack\nName: Emp_DevType, Length: 89184, dtype: object"
     },
     "execution_count": 18,
     "metadata": {},
     "output_type": "execute_result"
    }
   ],
   "source": [
    "# add a new column\n",
    "df['Emp_DevType'] = df['Employment'] + ' - ' + df['DevType']\n",
    "df['Emp_DevType']"
   ],
   "metadata": {
    "collapsed": false,
    "ExecuteTime": {
     "end_time": "2024-05-13T15:08:28.078634100Z",
     "start_time": "2024-05-13T15:08:27.791865Z"
    }
   }
  },
  {
   "cell_type": "code",
   "execution_count": 20,
   "outputs": [
    {
     "ename": "KeyError",
     "evalue": "\"['Emp_DevType'] not found in axis\"",
     "output_type": "error",
     "traceback": [
      "\u001B[1;31m---------------------------------------------------------------------------\u001B[0m",
      "\u001B[1;31mKeyError\u001B[0m                                  Traceback (most recent call last)",
      "Input \u001B[1;32mIn [20]\u001B[0m, in \u001B[0;36m<cell line: 2>\u001B[1;34m()\u001B[0m\n\u001B[0;32m      1\u001B[0m \u001B[38;5;66;03m# remove a column\u001B[39;00m\n\u001B[1;32m----> 2\u001B[0m \u001B[43mdf\u001B[49m\u001B[38;5;241;43m.\u001B[39;49m\u001B[43mdrop\u001B[49m\u001B[43m(\u001B[49m\u001B[43mcolumns\u001B[49m\u001B[38;5;241;43m=\u001B[39;49m\u001B[43m[\u001B[49m\u001B[38;5;124;43m'\u001B[39;49m\u001B[38;5;124;43mEmp_DevType\u001B[39;49m\u001B[38;5;124;43m'\u001B[39;49m\u001B[43m]\u001B[49m\u001B[43m,\u001B[49m\u001B[43m \u001B[49m\u001B[43minplace\u001B[49m\u001B[38;5;241;43m=\u001B[39;49m\u001B[38;5;28;43;01mTrue\u001B[39;49;00m\u001B[43m)\u001B[49m\n",
      "File \u001B[1;32m~\\anaconda3\\lib\\site-packages\\pandas\\util\\_decorators.py:311\u001B[0m, in \u001B[0;36mdeprecate_nonkeyword_arguments.<locals>.decorate.<locals>.wrapper\u001B[1;34m(*args, **kwargs)\u001B[0m\n\u001B[0;32m    305\u001B[0m \u001B[38;5;28;01mif\u001B[39;00m \u001B[38;5;28mlen\u001B[39m(args) \u001B[38;5;241m>\u001B[39m num_allow_args:\n\u001B[0;32m    306\u001B[0m     warnings\u001B[38;5;241m.\u001B[39mwarn(\n\u001B[0;32m    307\u001B[0m         msg\u001B[38;5;241m.\u001B[39mformat(arguments\u001B[38;5;241m=\u001B[39marguments),\n\u001B[0;32m    308\u001B[0m         \u001B[38;5;167;01mFutureWarning\u001B[39;00m,\n\u001B[0;32m    309\u001B[0m         stacklevel\u001B[38;5;241m=\u001B[39mstacklevel,\n\u001B[0;32m    310\u001B[0m     )\n\u001B[1;32m--> 311\u001B[0m \u001B[38;5;28;01mreturn\u001B[39;00m func(\u001B[38;5;241m*\u001B[39margs, \u001B[38;5;241m*\u001B[39m\u001B[38;5;241m*\u001B[39mkwargs)\n",
      "File \u001B[1;32m~\\anaconda3\\lib\\site-packages\\pandas\\core\\frame.py:4954\u001B[0m, in \u001B[0;36mDataFrame.drop\u001B[1;34m(self, labels, axis, index, columns, level, inplace, errors)\u001B[0m\n\u001B[0;32m   4806\u001B[0m \u001B[38;5;129m@deprecate_nonkeyword_arguments\u001B[39m(version\u001B[38;5;241m=\u001B[39m\u001B[38;5;28;01mNone\u001B[39;00m, allowed_args\u001B[38;5;241m=\u001B[39m[\u001B[38;5;124m\"\u001B[39m\u001B[38;5;124mself\u001B[39m\u001B[38;5;124m\"\u001B[39m, \u001B[38;5;124m\"\u001B[39m\u001B[38;5;124mlabels\u001B[39m\u001B[38;5;124m\"\u001B[39m])\n\u001B[0;32m   4807\u001B[0m \u001B[38;5;28;01mdef\u001B[39;00m \u001B[38;5;21mdrop\u001B[39m(\n\u001B[0;32m   4808\u001B[0m     \u001B[38;5;28mself\u001B[39m,\n\u001B[1;32m   (...)\u001B[0m\n\u001B[0;32m   4815\u001B[0m     errors: \u001B[38;5;28mstr\u001B[39m \u001B[38;5;241m=\u001B[39m \u001B[38;5;124m\"\u001B[39m\u001B[38;5;124mraise\u001B[39m\u001B[38;5;124m\"\u001B[39m,\n\u001B[0;32m   4816\u001B[0m ):\n\u001B[0;32m   4817\u001B[0m \u001B[38;5;250m    \u001B[39m\u001B[38;5;124;03m\"\"\"\u001B[39;00m\n\u001B[0;32m   4818\u001B[0m \u001B[38;5;124;03m    Drop specified labels from rows or columns.\u001B[39;00m\n\u001B[0;32m   4819\u001B[0m \n\u001B[1;32m   (...)\u001B[0m\n\u001B[0;32m   4952\u001B[0m \u001B[38;5;124;03m            weight  1.0     0.8\u001B[39;00m\n\u001B[0;32m   4953\u001B[0m \u001B[38;5;124;03m    \"\"\"\u001B[39;00m\n\u001B[1;32m-> 4954\u001B[0m     \u001B[38;5;28;01mreturn\u001B[39;00m \u001B[38;5;28;43msuper\u001B[39;49m\u001B[43m(\u001B[49m\u001B[43m)\u001B[49m\u001B[38;5;241;43m.\u001B[39;49m\u001B[43mdrop\u001B[49m\u001B[43m(\u001B[49m\n\u001B[0;32m   4955\u001B[0m \u001B[43m        \u001B[49m\u001B[43mlabels\u001B[49m\u001B[38;5;241;43m=\u001B[39;49m\u001B[43mlabels\u001B[49m\u001B[43m,\u001B[49m\n\u001B[0;32m   4956\u001B[0m \u001B[43m        \u001B[49m\u001B[43maxis\u001B[49m\u001B[38;5;241;43m=\u001B[39;49m\u001B[43maxis\u001B[49m\u001B[43m,\u001B[49m\n\u001B[0;32m   4957\u001B[0m \u001B[43m        \u001B[49m\u001B[43mindex\u001B[49m\u001B[38;5;241;43m=\u001B[39;49m\u001B[43mindex\u001B[49m\u001B[43m,\u001B[49m\n\u001B[0;32m   4958\u001B[0m \u001B[43m        \u001B[49m\u001B[43mcolumns\u001B[49m\u001B[38;5;241;43m=\u001B[39;49m\u001B[43mcolumns\u001B[49m\u001B[43m,\u001B[49m\n\u001B[0;32m   4959\u001B[0m \u001B[43m        \u001B[49m\u001B[43mlevel\u001B[49m\u001B[38;5;241;43m=\u001B[39;49m\u001B[43mlevel\u001B[49m\u001B[43m,\u001B[49m\n\u001B[0;32m   4960\u001B[0m \u001B[43m        \u001B[49m\u001B[43minplace\u001B[49m\u001B[38;5;241;43m=\u001B[39;49m\u001B[43minplace\u001B[49m\u001B[43m,\u001B[49m\n\u001B[0;32m   4961\u001B[0m \u001B[43m        \u001B[49m\u001B[43merrors\u001B[49m\u001B[38;5;241;43m=\u001B[39;49m\u001B[43merrors\u001B[49m\u001B[43m,\u001B[49m\n\u001B[0;32m   4962\u001B[0m \u001B[43m    \u001B[49m\u001B[43m)\u001B[49m\n",
      "File \u001B[1;32m~\\anaconda3\\lib\\site-packages\\pandas\\core\\generic.py:4267\u001B[0m, in \u001B[0;36mNDFrame.drop\u001B[1;34m(self, labels, axis, index, columns, level, inplace, errors)\u001B[0m\n\u001B[0;32m   4265\u001B[0m \u001B[38;5;28;01mfor\u001B[39;00m axis, labels \u001B[38;5;129;01min\u001B[39;00m axes\u001B[38;5;241m.\u001B[39mitems():\n\u001B[0;32m   4266\u001B[0m     \u001B[38;5;28;01mif\u001B[39;00m labels \u001B[38;5;129;01mis\u001B[39;00m \u001B[38;5;129;01mnot\u001B[39;00m \u001B[38;5;28;01mNone\u001B[39;00m:\n\u001B[1;32m-> 4267\u001B[0m         obj \u001B[38;5;241m=\u001B[39m \u001B[43mobj\u001B[49m\u001B[38;5;241;43m.\u001B[39;49m\u001B[43m_drop_axis\u001B[49m\u001B[43m(\u001B[49m\u001B[43mlabels\u001B[49m\u001B[43m,\u001B[49m\u001B[43m \u001B[49m\u001B[43maxis\u001B[49m\u001B[43m,\u001B[49m\u001B[43m \u001B[49m\u001B[43mlevel\u001B[49m\u001B[38;5;241;43m=\u001B[39;49m\u001B[43mlevel\u001B[49m\u001B[43m,\u001B[49m\u001B[43m \u001B[49m\u001B[43merrors\u001B[49m\u001B[38;5;241;43m=\u001B[39;49m\u001B[43merrors\u001B[49m\u001B[43m)\u001B[49m\n\u001B[0;32m   4269\u001B[0m \u001B[38;5;28;01mif\u001B[39;00m inplace:\n\u001B[0;32m   4270\u001B[0m     \u001B[38;5;28mself\u001B[39m\u001B[38;5;241m.\u001B[39m_update_inplace(obj)\n",
      "File \u001B[1;32m~\\anaconda3\\lib\\site-packages\\pandas\\core\\generic.py:4311\u001B[0m, in \u001B[0;36mNDFrame._drop_axis\u001B[1;34m(self, labels, axis, level, errors, consolidate, only_slice)\u001B[0m\n\u001B[0;32m   4309\u001B[0m         new_axis \u001B[38;5;241m=\u001B[39m axis\u001B[38;5;241m.\u001B[39mdrop(labels, level\u001B[38;5;241m=\u001B[39mlevel, errors\u001B[38;5;241m=\u001B[39merrors)\n\u001B[0;32m   4310\u001B[0m     \u001B[38;5;28;01melse\u001B[39;00m:\n\u001B[1;32m-> 4311\u001B[0m         new_axis \u001B[38;5;241m=\u001B[39m \u001B[43maxis\u001B[49m\u001B[38;5;241;43m.\u001B[39;49m\u001B[43mdrop\u001B[49m\u001B[43m(\u001B[49m\u001B[43mlabels\u001B[49m\u001B[43m,\u001B[49m\u001B[43m \u001B[49m\u001B[43merrors\u001B[49m\u001B[38;5;241;43m=\u001B[39;49m\u001B[43merrors\u001B[49m\u001B[43m)\u001B[49m\n\u001B[0;32m   4312\u001B[0m     indexer \u001B[38;5;241m=\u001B[39m axis\u001B[38;5;241m.\u001B[39mget_indexer(new_axis)\n\u001B[0;32m   4314\u001B[0m \u001B[38;5;66;03m# Case for non-unique axis\u001B[39;00m\n\u001B[0;32m   4315\u001B[0m \u001B[38;5;28;01melse\u001B[39;00m:\n",
      "File \u001B[1;32m~\\anaconda3\\lib\\site-packages\\pandas\\core\\indexes\\base.py:6644\u001B[0m, in \u001B[0;36mIndex.drop\u001B[1;34m(self, labels, errors)\u001B[0m\n\u001B[0;32m   6642\u001B[0m \u001B[38;5;28;01mif\u001B[39;00m mask\u001B[38;5;241m.\u001B[39many():\n\u001B[0;32m   6643\u001B[0m     \u001B[38;5;28;01mif\u001B[39;00m errors \u001B[38;5;241m!=\u001B[39m \u001B[38;5;124m\"\u001B[39m\u001B[38;5;124mignore\u001B[39m\u001B[38;5;124m\"\u001B[39m:\n\u001B[1;32m-> 6644\u001B[0m         \u001B[38;5;28;01mraise\u001B[39;00m \u001B[38;5;167;01mKeyError\u001B[39;00m(\u001B[38;5;124mf\u001B[39m\u001B[38;5;124m\"\u001B[39m\u001B[38;5;132;01m{\u001B[39;00m\u001B[38;5;28mlist\u001B[39m(labels[mask])\u001B[38;5;132;01m}\u001B[39;00m\u001B[38;5;124m not found in axis\u001B[39m\u001B[38;5;124m\"\u001B[39m)\n\u001B[0;32m   6645\u001B[0m     indexer \u001B[38;5;241m=\u001B[39m indexer[\u001B[38;5;241m~\u001B[39mmask]\n\u001B[0;32m   6646\u001B[0m \u001B[38;5;28;01mreturn\u001B[39;00m \u001B[38;5;28mself\u001B[39m\u001B[38;5;241m.\u001B[39mdelete(indexer)\n",
      "\u001B[1;31mKeyError\u001B[0m: \"['Emp_DevType'] not found in axis\""
     ]
    }
   ],
   "source": [
    "# remove a column\n",
    "df.drop(columns=['Emp_DevType'], inplace=True)"
   ],
   "metadata": {
    "collapsed": false,
    "ExecuteTime": {
     "end_time": "2024-05-13T15:09:25.918094Z",
     "start_time": "2024-05-13T15:09:24.579687700Z"
    }
   }
  },
  {
   "cell_type": "code",
   "execution_count": 21,
   "outputs": [
    {
     "data": {
      "text/plain": "           Country  SalaryUSD\n88347  Afghanistan  9203683.0\n86038  Afghanistan    68000.0\n1334   Afghanistan     2403.0\n57361  Afghanistan     2288.0\n17872  Afghanistan     1144.0\n...            ...        ...\n60945  Afghanistan        NaN\n61075  Afghanistan        NaN\n61079  Afghanistan        NaN\n61452  Afghanistan        NaN\n62549  Afghanistan        NaN\n\n[50 rows x 2 columns]",
      "text/html": "<div>\n<style scoped>\n    .dataframe tbody tr th:only-of-type {\n        vertical-align: middle;\n    }\n\n    .dataframe tbody tr th {\n        vertical-align: top;\n    }\n\n    .dataframe thead th {\n        text-align: right;\n    }\n</style>\n<table border=\"1\" class=\"dataframe\">\n  <thead>\n    <tr style=\"text-align: right;\">\n      <th></th>\n      <th>Country</th>\n      <th>SalaryUSD</th>\n    </tr>\n  </thead>\n  <tbody>\n    <tr>\n      <th>88347</th>\n      <td>Afghanistan</td>\n      <td>9203683.0</td>\n    </tr>\n    <tr>\n      <th>86038</th>\n      <td>Afghanistan</td>\n      <td>68000.0</td>\n    </tr>\n    <tr>\n      <th>1334</th>\n      <td>Afghanistan</td>\n      <td>2403.0</td>\n    </tr>\n    <tr>\n      <th>57361</th>\n      <td>Afghanistan</td>\n      <td>2288.0</td>\n    </tr>\n    <tr>\n      <th>17872</th>\n      <td>Afghanistan</td>\n      <td>1144.0</td>\n    </tr>\n    <tr>\n      <th>...</th>\n      <td>...</td>\n      <td>...</td>\n    </tr>\n    <tr>\n      <th>60945</th>\n      <td>Afghanistan</td>\n      <td>NaN</td>\n    </tr>\n    <tr>\n      <th>61075</th>\n      <td>Afghanistan</td>\n      <td>NaN</td>\n    </tr>\n    <tr>\n      <th>61079</th>\n      <td>Afghanistan</td>\n      <td>NaN</td>\n    </tr>\n    <tr>\n      <th>61452</th>\n      <td>Afghanistan</td>\n      <td>NaN</td>\n    </tr>\n    <tr>\n      <th>62549</th>\n      <td>Afghanistan</td>\n      <td>NaN</td>\n    </tr>\n  </tbody>\n</table>\n<p>50 rows × 2 columns</p>\n</div>"
     },
     "execution_count": 21,
     "metadata": {},
     "output_type": "execute_result"
    }
   ],
   "source": [
    "# sort dataframe\n",
    "df.sort_values(by=['Country', 'SalaryUSD'], ascending=[True, False], inplace=True)\n",
    "df[['Country', 'SalaryUSD']].head(50)"
   ],
   "metadata": {
    "collapsed": false,
    "ExecuteTime": {
     "end_time": "2024-05-13T15:09:29.907425200Z",
     "start_time": "2024-05-13T15:09:29.724312300Z"
    }
   }
  },
  {
   "cell_type": "code",
   "execution_count": 22,
   "outputs": [
    {
     "data": {
      "text/plain": "56141    120000.0\n65249    100000.0\n57743     56815.0\n63379     53000.0\n72679     46751.0\n11621     45000.0\n82939     42270.0\n21976     38959.0\n43159     38959.0\n47791     34673.0\nName: SalaryUSD, dtype: float64"
     },
     "execution_count": 22,
     "metadata": {},
     "output_type": "execute_result"
    }
   ],
   "source": [
    "df[df['Country'] == 'Egypt'].SalaryUSD.nlargest(10)"
   ],
   "metadata": {
    "collapsed": false,
    "ExecuteTime": {
     "end_time": "2024-05-13T15:09:30.810191700Z",
     "start_time": "2024-05-13T15:09:30.791241300Z"
    }
   }
  },
  {
   "cell_type": "code",
   "execution_count": 23,
   "outputs": [
    {
     "data": {
      "text/plain": "1749"
     },
     "execution_count": 23,
     "metadata": {},
     "output_type": "execute_result"
    }
   ],
   "source": [
    "# cleaning missing data\n",
    "df['YearsCode'].isnull().sum()"
   ],
   "metadata": {
    "collapsed": false,
    "ExecuteTime": {
     "end_time": "2024-05-13T15:09:31.537155Z",
     "start_time": "2024-05-13T15:09:31.514697200Z"
    }
   }
  },
  {
   "cell_type": "code",
   "execution_count": 24,
   "outputs": [],
   "source": [
    "df['YearsCode'].fillna(0, inplace=True)"
   ],
   "metadata": {
    "collapsed": false,
    "ExecuteTime": {
     "end_time": "2024-05-13T15:09:32.368760500Z",
     "start_time": "2024-05-13T15:09:32.344221300Z"
    }
   }
  },
  {
   "cell_type": "code",
   "execution_count": 25,
   "outputs": [],
   "source": [
    "df['YearsCode'].replace('Less than 1 year', 0, inplace=True)"
   ],
   "metadata": {
    "collapsed": false,
    "ExecuteTime": {
     "end_time": "2024-05-13T15:09:32.698571400Z",
     "start_time": "2024-05-13T15:09:32.674065700Z"
    }
   }
  },
  {
   "cell_type": "code",
   "execution_count": 26,
   "outputs": [],
   "source": [
    "df['YearsCode'].replace('More than 50 years', 51, inplace=True)"
   ],
   "metadata": {
    "collapsed": false,
    "ExecuteTime": {
     "end_time": "2024-05-13T15:09:32.976952700Z",
     "start_time": "2024-05-13T15:09:32.957586600Z"
    }
   }
  },
  {
   "cell_type": "code",
   "execution_count": 27,
   "outputs": [],
   "source": [
    "df['YearsCode'] = df['YearsCode'].astype(float)"
   ],
   "metadata": {
    "collapsed": false,
    "ExecuteTime": {
     "end_time": "2024-05-13T15:09:33.401960600Z",
     "start_time": "2024-05-13T15:09:33.240390700Z"
    }
   }
  },
  {
   "cell_type": "code",
   "execution_count": 28,
   "outputs": [
    {
     "data": {
      "text/plain": "13.692949407965555"
     },
     "execution_count": 28,
     "metadata": {},
     "output_type": "execute_result"
    }
   ],
   "source": [
    "df['YearsCode'].mean()"
   ],
   "metadata": {
    "collapsed": false,
    "ExecuteTime": {
     "end_time": "2024-05-13T15:09:33.571505400Z",
     "start_time": "2024-05-13T15:09:33.506678800Z"
    }
   }
  },
  {
   "cell_type": "code",
   "execution_count": 29,
   "outputs": [
    {
     "data": {
      "text/plain": "10.0"
     },
     "execution_count": 29,
     "metadata": {},
     "output_type": "execute_result"
    }
   ],
   "source": [
    "df['YearsCode'].median()"
   ],
   "metadata": {
    "collapsed": false,
    "ExecuteTime": {
     "end_time": "2024-05-13T15:09:33.868711400Z",
     "start_time": "2024-05-13T15:09:33.806876100Z"
    }
   }
  },
  {
   "cell_type": "code",
   "execution_count": 30,
   "outputs": [
    {
     "data": {
      "text/plain": "       ResponseId     Q120                      MainBranch              Age  \\\n56141       56142  I agree  I am a developer by profession  25-34 years old   \n65249       65250  I agree  I am a developer by profession  35-44 years old   \n57743       57744  I agree  I am a developer by profession  25-34 years old   \n63379       63380  I agree  I am a developer by profession  18-24 years old   \n72679       72680  I agree  I am a developer by profession  25-34 years old   \n\n                                              Employment  \\\n56141  Employed, full-time;Independent contractor, fr...   \n65249  Independent contractor, freelancer, or self-em...   \n57743                                Employed, full-time   \n63379                                Employed, full-time   \n72679                                Employed, full-time   \n\n                                 RemoteWork  \\\n56141                                Remote   \n65249                                Remote   \n57743                             In-person   \n63379                                Remote   \n72679  Hybrid (some remote, some in-person)   \n\n                                        CodingActivities  \\\n56141  Hobby;Contribute to open-source projects;Profe...   \n65249                       I don’t code outside of work   \n57743                                              Hobby   \n63379                      Hobby;Freelance/contract work   \n72679                      Hobby;Freelance/contract work   \n\n                                               EdLevel  \\\n56141     Bachelor’s degree (B.A., B.S., B.Eng., etc.)   \n65249     Bachelor’s degree (B.A., B.S., B.Eng., etc.)   \n57743     Bachelor’s degree (B.A., B.S., B.Eng., etc.)   \n63379     Bachelor’s degree (B.A., B.S., B.Eng., etc.)   \n72679  Master’s degree (M.A., M.S., M.Eng., MBA, etc.)   \n\n                                               LearnCode  \\\n56141  Online Courses or Certification;Other online r...   \n65249  Books / Physical media;Other online resources ...   \n57743  Books / Physical media;Online Courses or Certi...   \n63379  Other online resources (e.g., videos, blogs, f...   \n72679            School (i.e., University, College, etc)   \n\n                                         LearnCodeOnline  ...  \\\n56141  Blogs with tips and tricks;Recorded coding ses...  ...   \n65249  Formal documentation provided by the owner of ...  ...   \n57743  Formal documentation provided by the owner of ...  ...   \n63379  Formal documentation provided by the owner of ...  ...   \n72679                                                NaN  ...   \n\n            Frequency_1       Frequency_2       Frequency_3  \\\n56141               NaN               NaN               NaN   \n65249               NaN               NaN               NaN   \n57743  1-2 times a week  3-5 times a week  3-5 times a week   \n63379               NaN               NaN               NaN   \n72679               NaN               NaN               NaN   \n\n                TimeSearching         TimeAnswering  \\\n56141                     NaN                   NaN   \n65249                     NaN                   NaN   \n57743  Over 120 minutes a day  60-120 minutes a day   \n63379                     NaN                   NaN   \n72679                     NaN                   NaN   \n\n                                        ProfessionalTech            Industry  \\\n56141                                                NaN                 NaN   \n65249                                                NaN                 NaN   \n57743  DevOps function;Microservices;Continuous integ...  Financial Services   \n63379                                                NaN                 NaN   \n72679                                                NaN                 NaN   \n\n                SurveyLength                  SurveyEase SalaryUSD  \n56141               Too long  Neither easy nor difficult  120000.0  \n65249  Appropriate in length  Neither easy nor difficult  100000.0  \n57743  Appropriate in length                        Easy   56815.0  \n63379  Appropriate in length                        Easy   53000.0  \n72679  Appropriate in length                        Easy   46751.0  \n\n[5 rows x 84 columns]",
      "text/html": "<div>\n<style scoped>\n    .dataframe tbody tr th:only-of-type {\n        vertical-align: middle;\n    }\n\n    .dataframe tbody tr th {\n        vertical-align: top;\n    }\n\n    .dataframe thead th {\n        text-align: right;\n    }\n</style>\n<table border=\"1\" class=\"dataframe\">\n  <thead>\n    <tr style=\"text-align: right;\">\n      <th></th>\n      <th>ResponseId</th>\n      <th>Q120</th>\n      <th>MainBranch</th>\n      <th>Age</th>\n      <th>Employment</th>\n      <th>RemoteWork</th>\n      <th>CodingActivities</th>\n      <th>EdLevel</th>\n      <th>LearnCode</th>\n      <th>LearnCodeOnline</th>\n      <th>...</th>\n      <th>Frequency_1</th>\n      <th>Frequency_2</th>\n      <th>Frequency_3</th>\n      <th>TimeSearching</th>\n      <th>TimeAnswering</th>\n      <th>ProfessionalTech</th>\n      <th>Industry</th>\n      <th>SurveyLength</th>\n      <th>SurveyEase</th>\n      <th>SalaryUSD</th>\n    </tr>\n  </thead>\n  <tbody>\n    <tr>\n      <th>56141</th>\n      <td>56142</td>\n      <td>I agree</td>\n      <td>I am a developer by profession</td>\n      <td>25-34 years old</td>\n      <td>Employed, full-time;Independent contractor, fr...</td>\n      <td>Remote</td>\n      <td>Hobby;Contribute to open-source projects;Profe...</td>\n      <td>Bachelor’s degree (B.A., B.S., B.Eng., etc.)</td>\n      <td>Online Courses or Certification;Other online r...</td>\n      <td>Blogs with tips and tricks;Recorded coding ses...</td>\n      <td>...</td>\n      <td>NaN</td>\n      <td>NaN</td>\n      <td>NaN</td>\n      <td>NaN</td>\n      <td>NaN</td>\n      <td>NaN</td>\n      <td>NaN</td>\n      <td>Too long</td>\n      <td>Neither easy nor difficult</td>\n      <td>120000.0</td>\n    </tr>\n    <tr>\n      <th>65249</th>\n      <td>65250</td>\n      <td>I agree</td>\n      <td>I am a developer by profession</td>\n      <td>35-44 years old</td>\n      <td>Independent contractor, freelancer, or self-em...</td>\n      <td>Remote</td>\n      <td>I don’t code outside of work</td>\n      <td>Bachelor’s degree (B.A., B.S., B.Eng., etc.)</td>\n      <td>Books / Physical media;Other online resources ...</td>\n      <td>Formal documentation provided by the owner of ...</td>\n      <td>...</td>\n      <td>NaN</td>\n      <td>NaN</td>\n      <td>NaN</td>\n      <td>NaN</td>\n      <td>NaN</td>\n      <td>NaN</td>\n      <td>NaN</td>\n      <td>Appropriate in length</td>\n      <td>Neither easy nor difficult</td>\n      <td>100000.0</td>\n    </tr>\n    <tr>\n      <th>57743</th>\n      <td>57744</td>\n      <td>I agree</td>\n      <td>I am a developer by profession</td>\n      <td>25-34 years old</td>\n      <td>Employed, full-time</td>\n      <td>In-person</td>\n      <td>Hobby</td>\n      <td>Bachelor’s degree (B.A., B.S., B.Eng., etc.)</td>\n      <td>Books / Physical media;Online Courses or Certi...</td>\n      <td>Formal documentation provided by the owner of ...</td>\n      <td>...</td>\n      <td>1-2 times a week</td>\n      <td>3-5 times a week</td>\n      <td>3-5 times a week</td>\n      <td>Over 120 minutes a day</td>\n      <td>60-120 minutes a day</td>\n      <td>DevOps function;Microservices;Continuous integ...</td>\n      <td>Financial Services</td>\n      <td>Appropriate in length</td>\n      <td>Easy</td>\n      <td>56815.0</td>\n    </tr>\n    <tr>\n      <th>63379</th>\n      <td>63380</td>\n      <td>I agree</td>\n      <td>I am a developer by profession</td>\n      <td>18-24 years old</td>\n      <td>Employed, full-time</td>\n      <td>Remote</td>\n      <td>Hobby;Freelance/contract work</td>\n      <td>Bachelor’s degree (B.A., B.S., B.Eng., etc.)</td>\n      <td>Other online resources (e.g., videos, blogs, f...</td>\n      <td>Formal documentation provided by the owner of ...</td>\n      <td>...</td>\n      <td>NaN</td>\n      <td>NaN</td>\n      <td>NaN</td>\n      <td>NaN</td>\n      <td>NaN</td>\n      <td>NaN</td>\n      <td>NaN</td>\n      <td>Appropriate in length</td>\n      <td>Easy</td>\n      <td>53000.0</td>\n    </tr>\n    <tr>\n      <th>72679</th>\n      <td>72680</td>\n      <td>I agree</td>\n      <td>I am a developer by profession</td>\n      <td>25-34 years old</td>\n      <td>Employed, full-time</td>\n      <td>Hybrid (some remote, some in-person)</td>\n      <td>Hobby;Freelance/contract work</td>\n      <td>Master’s degree (M.A., M.S., M.Eng., MBA, etc.)</td>\n      <td>School (i.e., University, College, etc)</td>\n      <td>NaN</td>\n      <td>...</td>\n      <td>NaN</td>\n      <td>NaN</td>\n      <td>NaN</td>\n      <td>NaN</td>\n      <td>NaN</td>\n      <td>NaN</td>\n      <td>NaN</td>\n      <td>Appropriate in length</td>\n      <td>Easy</td>\n      <td>46751.0</td>\n    </tr>\n  </tbody>\n</table>\n<p>5 rows × 84 columns</p>\n</div>"
     },
     "execution_count": 30,
     "metadata": {},
     "output_type": "execute_result"
    }
   ],
   "source": [
    "# Export dataframe\n",
    "Egyptian_df = df[df['Country'] == 'Egypt']\n",
    "Egyptian_df.head()"
   ],
   "metadata": {
    "collapsed": false,
    "ExecuteTime": {
     "end_time": "2024-05-13T15:09:34.795720500Z",
     "start_time": "2024-05-13T15:09:34.727860100Z"
    }
   }
  },
  {
   "cell_type": "code",
   "execution_count": 31,
   "outputs": [],
   "source": [
    "Egyptian_df.to_csv('stack-overflow-developer-survey-2023/exported/egyptian_data.csv', index=False)"
   ],
   "metadata": {
    "collapsed": false,
    "ExecuteTime": {
     "end_time": "2024-05-13T15:09:35.029053700Z",
     "start_time": "2024-05-13T15:09:34.973204100Z"
    }
   }
  },
  {
   "cell_type": "code",
   "execution_count": 32,
   "outputs": [],
   "source": [
    "Egyptian_df.to_csv('stack-overflow-developer-survey-2023/exported/egyptian_data.tsv', sep='\\t', index=False)"
   ],
   "metadata": {
    "collapsed": false,
    "ExecuteTime": {
     "end_time": "2024-05-13T15:09:35.182643600Z",
     "start_time": "2024-05-13T15:09:35.128789100Z"
    }
   }
  },
  {
   "cell_type": "code",
   "execution_count": 33,
   "outputs": [],
   "source": [
    "Egyptian_df.to_excel('stack-overflow-developer-survey-2023/exported/egyptian_data.xlsx', index=False)"
   ],
   "metadata": {
    "collapsed": false,
    "ExecuteTime": {
     "end_time": "2024-05-13T15:09:36.413254200Z",
     "start_time": "2024-05-13T15:09:35.272404500Z"
    }
   }
  },
  {
   "cell_type": "code",
   "execution_count": 34,
   "outputs": [],
   "source": [
    "## Thank you for reading"
   ],
   "metadata": {
    "collapsed": false,
    "ExecuteTime": {
     "end_time": "2024-05-13T15:09:36.429376600Z",
     "start_time": "2024-05-13T15:09:36.420224700Z"
    }
   }
  }
 ],
 "metadata": {
  "kernelspec": {
   "display_name": "base",
   "language": "python",
   "name": "python3"
  },
  "language_info": {
   "codemirror_mode": {
    "name": "ipython",
    "version": 3
   },
   "file_extension": ".py",
   "mimetype": "text/x-python",
   "name": "python",
   "nbconvert_exporter": "python",
   "pygments_lexer": "ipython3",
   "version": "3.9.12"
  }
 },
 "nbformat": 4,
 "nbformat_minor": 2
}
