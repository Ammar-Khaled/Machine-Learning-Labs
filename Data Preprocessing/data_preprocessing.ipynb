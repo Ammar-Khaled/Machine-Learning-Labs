{
 "cells": [
  {
   "cell_type": "code",
   "execution_count": 1,
   "metadata": {
    "ExecuteTime": {
     "end_time": "2024-05-11T11:01:12.169692200Z",
     "start_time": "2024-05-11T11:01:11.980004Z"
    }
   },
   "outputs": [],
   "source": [
    "from pandas import read_csv\n",
    "import numpy as np"
   ]
  },
  {
   "cell_type": "code",
   "execution_count": 2,
   "metadata": {
    "ExecuteTime": {
     "end_time": "2024-05-11T11:01:12.170689900Z",
     "start_time": "2024-05-11T11:01:11.989988900Z"
    }
   },
   "outputs": [],
   "source": [
    "dataset = read_csv('social_media_dataset.csv')"
   ]
  },
  {
   "cell_type": "code",
   "execution_count": 3,
   "metadata": {
    "ExecuteTime": {
     "end_time": "2024-05-11T11:01:12.181660200Z",
     "start_time": "2024-05-11T11:01:12.001946Z"
    }
   },
   "outputs": [
    {
     "data": {
      "text/html": [
       "<div>\n",
       "<style scoped>\n",
       "    .dataframe tbody tr th:only-of-type {\n",
       "        vertical-align: middle;\n",
       "    }\n",
       "\n",
       "    .dataframe tbody tr th {\n",
       "        vertical-align: top;\n",
       "    }\n",
       "\n",
       "    .dataframe thead th {\n",
       "        text-align: right;\n",
       "    }\n",
       "</style>\n",
       "<table border=\"1\" class=\"dataframe\">\n",
       "  <thead>\n",
       "    <tr style=\"text-align: right;\">\n",
       "      <th></th>\n",
       "      <th>age</th>\n",
       "      <th>income</th>\n",
       "      <th>gender</th>\n",
       "      <th>platform</th>\n",
       "      <th>interests</th>\n",
       "      <th>location</th>\n",
       "      <th>demographics</th>\n",
       "      <th>profession</th>\n",
       "      <th>indebt</th>\n",
       "      <th>isHomeOwner</th>\n",
       "      <th>Owns_Car</th>\n",
       "      <th>time_spent</th>\n",
       "    </tr>\n",
       "  </thead>\n",
       "  <tbody>\n",
       "    <tr>\n",
       "      <th>0</th>\n",
       "      <td>56</td>\n",
       "      <td>19774</td>\n",
       "      <td>male</td>\n",
       "      <td>Instagram</td>\n",
       "      <td>Sports</td>\n",
       "      <td>United Kingdom</td>\n",
       "      <td>Urban</td>\n",
       "      <td>Software Engineer</td>\n",
       "      <td>True</td>\n",
       "      <td>False</td>\n",
       "      <td>False</td>\n",
       "      <td>3</td>\n",
       "    </tr>\n",
       "    <tr>\n",
       "      <th>1</th>\n",
       "      <td>46</td>\n",
       "      <td>10564</td>\n",
       "      <td>female</td>\n",
       "      <td>Facebook</td>\n",
       "      <td>Travel</td>\n",
       "      <td>United Kingdom</td>\n",
       "      <td>Urban</td>\n",
       "      <td>Student</td>\n",
       "      <td>True</td>\n",
       "      <td>True</td>\n",
       "      <td>True</td>\n",
       "      <td>2</td>\n",
       "    </tr>\n",
       "    <tr>\n",
       "      <th>2</th>\n",
       "      <td>32</td>\n",
       "      <td>13258</td>\n",
       "      <td>male</td>\n",
       "      <td>Instagram</td>\n",
       "      <td>Sports</td>\n",
       "      <td>Australia</td>\n",
       "      <td>Sub_Urban</td>\n",
       "      <td>Marketer Manager</td>\n",
       "      <td>False</td>\n",
       "      <td>False</td>\n",
       "      <td>False</td>\n",
       "      <td>8</td>\n",
       "    </tr>\n",
       "    <tr>\n",
       "      <th>3</th>\n",
       "      <td>60</td>\n",
       "      <td>12500</td>\n",
       "      <td>male</td>\n",
       "      <td>Instagram</td>\n",
       "      <td>Travel</td>\n",
       "      <td>United Kingdom</td>\n",
       "      <td>Urban</td>\n",
       "      <td>Student</td>\n",
       "      <td>False</td>\n",
       "      <td>True</td>\n",
       "      <td>False</td>\n",
       "      <td>5</td>\n",
       "    </tr>\n",
       "    <tr>\n",
       "      <th>4</th>\n",
       "      <td>25</td>\n",
       "      <td>14566</td>\n",
       "      <td>male</td>\n",
       "      <td>Instagram</td>\n",
       "      <td>Lifestlye</td>\n",
       "      <td>Australia</td>\n",
       "      <td>Urban</td>\n",
       "      <td>Software Engineer</td>\n",
       "      <td>False</td>\n",
       "      <td>True</td>\n",
       "      <td>True</td>\n",
       "      <td>1</td>\n",
       "    </tr>\n",
       "    <tr>\n",
       "      <th>...</th>\n",
       "      <td>...</td>\n",
       "      <td>...</td>\n",
       "      <td>...</td>\n",
       "      <td>...</td>\n",
       "      <td>...</td>\n",
       "      <td>...</td>\n",
       "      <td>...</td>\n",
       "      <td>...</td>\n",
       "      <td>...</td>\n",
       "      <td>...</td>\n",
       "      <td>...</td>\n",
       "      <td>...</td>\n",
       "    </tr>\n",
       "    <tr>\n",
       "      <th>995</th>\n",
       "      <td>22</td>\n",
       "      <td>18536</td>\n",
       "      <td>female</td>\n",
       "      <td>Instagram</td>\n",
       "      <td>Lifestlye</td>\n",
       "      <td>United Kingdom</td>\n",
       "      <td>Rural</td>\n",
       "      <td>Marketer Manager</td>\n",
       "      <td>False</td>\n",
       "      <td>True</td>\n",
       "      <td>False</td>\n",
       "      <td>8</td>\n",
       "    </tr>\n",
       "    <tr>\n",
       "      <th>996</th>\n",
       "      <td>40</td>\n",
       "      <td>12711</td>\n",
       "      <td>male</td>\n",
       "      <td>YouTube</td>\n",
       "      <td>Travel</td>\n",
       "      <td>United Kingdom</td>\n",
       "      <td>Rural</td>\n",
       "      <td>Software Engineer</td>\n",
       "      <td>True</td>\n",
       "      <td>False</td>\n",
       "      <td>False</td>\n",
       "      <td>6</td>\n",
       "    </tr>\n",
       "    <tr>\n",
       "      <th>997</th>\n",
       "      <td>27</td>\n",
       "      <td>17595</td>\n",
       "      <td>male</td>\n",
       "      <td>YouTube</td>\n",
       "      <td>Travel</td>\n",
       "      <td>United Kingdom</td>\n",
       "      <td>Rural</td>\n",
       "      <td>Student</td>\n",
       "      <td>True</td>\n",
       "      <td>False</td>\n",
       "      <td>True</td>\n",
       "      <td>5</td>\n",
       "    </tr>\n",
       "    <tr>\n",
       "      <th>998</th>\n",
       "      <td>61</td>\n",
       "      <td>16273</td>\n",
       "      <td>female</td>\n",
       "      <td>YouTube</td>\n",
       "      <td>Sports</td>\n",
       "      <td>Australia</td>\n",
       "      <td>Sub_Urban</td>\n",
       "      <td>Marketer Manager</td>\n",
       "      <td>True</td>\n",
       "      <td>True</td>\n",
       "      <td>False</td>\n",
       "      <td>4</td>\n",
       "    </tr>\n",
       "    <tr>\n",
       "      <th>999</th>\n",
       "      <td>19</td>\n",
       "      <td>16284</td>\n",
       "      <td>female</td>\n",
       "      <td>YouTube</td>\n",
       "      <td>Travel</td>\n",
       "      <td>Australia</td>\n",
       "      <td>Rural</td>\n",
       "      <td>Student</td>\n",
       "      <td>False</td>\n",
       "      <td>True</td>\n",
       "      <td>False</td>\n",
       "      <td>8</td>\n",
       "    </tr>\n",
       "  </tbody>\n",
       "</table>\n",
       "<p>1000 rows × 12 columns</p>\n",
       "</div>"
      ],
      "text/plain": [
       "     age  income  gender   platform  interests        location demographics  \\\n",
       "0     56   19774    male  Instagram     Sports  United Kingdom        Urban   \n",
       "1     46   10564  female   Facebook     Travel  United Kingdom        Urban   \n",
       "2     32   13258    male  Instagram     Sports       Australia    Sub_Urban   \n",
       "3     60   12500    male  Instagram     Travel  United Kingdom        Urban   \n",
       "4     25   14566    male  Instagram  Lifestlye       Australia        Urban   \n",
       "..   ...     ...     ...        ...        ...             ...          ...   \n",
       "995   22   18536  female  Instagram  Lifestlye  United Kingdom        Rural   \n",
       "996   40   12711    male    YouTube     Travel  United Kingdom        Rural   \n",
       "997   27   17595    male    YouTube     Travel  United Kingdom        Rural   \n",
       "998   61   16273  female    YouTube     Sports       Australia    Sub_Urban   \n",
       "999   19   16284  female    YouTube     Travel       Australia        Rural   \n",
       "\n",
       "            profession  indebt  isHomeOwner  Owns_Car  time_spent  \n",
       "0    Software Engineer    True        False     False           3  \n",
       "1              Student    True         True      True           2  \n",
       "2     Marketer Manager   False        False     False           8  \n",
       "3              Student   False         True     False           5  \n",
       "4    Software Engineer   False         True      True           1  \n",
       "..                 ...     ...          ...       ...         ...  \n",
       "995   Marketer Manager   False         True     False           8  \n",
       "996  Software Engineer    True        False     False           6  \n",
       "997            Student    True        False      True           5  \n",
       "998   Marketer Manager    True         True     False           4  \n",
       "999            Student   False         True     False           8  \n",
       "\n",
       "[1000 rows x 12 columns]"
      ]
     },
     "execution_count": 3,
     "metadata": {},
     "output_type": "execute_result"
    }
   ],
   "source": [
    "dataset"
   ]
  },
  {
   "cell_type": "code",
   "execution_count": 4,
   "metadata": {
    "ExecuteTime": {
     "end_time": "2024-05-11T11:01:12.182656400Z",
     "start_time": "2024-05-11T11:01:12.033057800Z"
    },
    "collapsed": false
   },
   "outputs": [
    {
     "name": "stdout",
     "output_type": "stream",
     "text": [
      "<class 'pandas.core.frame.DataFrame'>\n",
      "RangeIndex: 1000 entries, 0 to 999\n",
      "Data columns (total 12 columns):\n",
      " #   Column        Non-Null Count  Dtype \n",
      "---  ------        --------------  ----- \n",
      " 0   age           1000 non-null   int64 \n",
      " 1   income        1000 non-null   int64 \n",
      " 2   gender        1000 non-null   object\n",
      " 3   platform      1000 non-null   object\n",
      " 4   interests     1000 non-null   object\n",
      " 5   location      1000 non-null   object\n",
      " 6   demographics  1000 non-null   object\n",
      " 7   profession    1000 non-null   object\n",
      " 8   indebt        1000 non-null   bool  \n",
      " 9   isHomeOwner   1000 non-null   bool  \n",
      " 10  Owns_Car      1000 non-null   bool  \n",
      " 11  time_spent    1000 non-null   int64 \n",
      "dtypes: bool(3), int64(3), object(6)\n",
      "memory usage: 73.4+ KB\n"
     ]
    }
   ],
   "source": [
    "dataset.info()"
   ]
  },
  {
   "cell_type": "code",
   "execution_count": 5,
   "metadata": {
    "ExecuteTime": {
     "end_time": "2024-05-11T11:01:12.183654200Z",
     "start_time": "2024-05-11T11:01:12.067964400Z"
    },
    "collapsed": false
   },
   "outputs": [
    {
     "data": {
      "text/html": [
       "<div>\n",
       "<style scoped>\n",
       "    .dataframe tbody tr th:only-of-type {\n",
       "        vertical-align: middle;\n",
       "    }\n",
       "\n",
       "    .dataframe tbody tr th {\n",
       "        vertical-align: top;\n",
       "    }\n",
       "\n",
       "    .dataframe thead th {\n",
       "        text-align: right;\n",
       "    }\n",
       "</style>\n",
       "<table border=\"1\" class=\"dataframe\">\n",
       "  <thead>\n",
       "    <tr style=\"text-align: right;\">\n",
       "      <th></th>\n",
       "      <th>age</th>\n",
       "      <th>income</th>\n",
       "      <th>time_spent</th>\n",
       "    </tr>\n",
       "  </thead>\n",
       "  <tbody>\n",
       "    <tr>\n",
       "      <th>count</th>\n",
       "      <td>1000.000000</td>\n",
       "      <td>1000.000000</td>\n",
       "      <td>1000.000000</td>\n",
       "    </tr>\n",
       "    <tr>\n",
       "      <th>mean</th>\n",
       "      <td>40.986000</td>\n",
       "      <td>15014.823000</td>\n",
       "      <td>5.029000</td>\n",
       "    </tr>\n",
       "    <tr>\n",
       "      <th>std</th>\n",
       "      <td>13.497852</td>\n",
       "      <td>2958.628221</td>\n",
       "      <td>2.537834</td>\n",
       "    </tr>\n",
       "    <tr>\n",
       "      <th>min</th>\n",
       "      <td>18.000000</td>\n",
       "      <td>10012.000000</td>\n",
       "      <td>1.000000</td>\n",
       "    </tr>\n",
       "    <tr>\n",
       "      <th>25%</th>\n",
       "      <td>29.000000</td>\n",
       "      <td>12402.250000</td>\n",
       "      <td>3.000000</td>\n",
       "    </tr>\n",
       "    <tr>\n",
       "      <th>50%</th>\n",
       "      <td>42.000000</td>\n",
       "      <td>14904.500000</td>\n",
       "      <td>5.000000</td>\n",
       "    </tr>\n",
       "    <tr>\n",
       "      <th>75%</th>\n",
       "      <td>52.000000</td>\n",
       "      <td>17674.250000</td>\n",
       "      <td>7.000000</td>\n",
       "    </tr>\n",
       "    <tr>\n",
       "      <th>max</th>\n",
       "      <td>64.000000</td>\n",
       "      <td>19980.000000</td>\n",
       "      <td>9.000000</td>\n",
       "    </tr>\n",
       "  </tbody>\n",
       "</table>\n",
       "</div>"
      ],
      "text/plain": [
       "               age        income   time_spent\n",
       "count  1000.000000   1000.000000  1000.000000\n",
       "mean     40.986000  15014.823000     5.029000\n",
       "std      13.497852   2958.628221     2.537834\n",
       "min      18.000000  10012.000000     1.000000\n",
       "25%      29.000000  12402.250000     3.000000\n",
       "50%      42.000000  14904.500000     5.000000\n",
       "75%      52.000000  17674.250000     7.000000\n",
       "max      64.000000  19980.000000     9.000000"
      ]
     },
     "execution_count": 5,
     "metadata": {},
     "output_type": "execute_result"
    }
   ],
   "source": [
    "dataset.describe()  # Descriptive statistics"
   ]
  },
  {
   "cell_type": "code",
   "execution_count": 6,
   "metadata": {
    "ExecuteTime": {
     "end_time": "2024-05-11T11:01:12.184652400Z",
     "start_time": "2024-05-11T11:01:12.095889100Z"
    }
   },
   "outputs": [
    {
     "data": {
      "text/plain": [
       "array([[56, 19774, 'male', ..., True, False, False],\n",
       "       [46, 10564, 'female', ..., True, True, True],\n",
       "       [32, 13258, 'male', ..., False, False, False],\n",
       "       ...,\n",
       "       [27, 17595, 'male', ..., True, False, True],\n",
       "       [61, 16273, 'female', ..., True, True, False],\n",
       "       [19, 16284, 'female', ..., False, True, False]], dtype=object)"
      ]
     },
     "execution_count": 6,
     "metadata": {},
     "output_type": "execute_result"
    }
   ],
   "source": [
    "# Extracting the independent variables (features)\n",
    "X = dataset.iloc[:, :-1].values\n",
    "X"
   ]
  },
  {
   "cell_type": "code",
   "execution_count": 7,
   "metadata": {
    "ExecuteTime": {
     "end_time": "2024-05-11T11:01:12.185649500Z",
     "start_time": "2024-05-11T11:01:12.110848400Z"
    }
   },
   "outputs": [
    {
     "data": {
      "text/plain": [
       "array([3, 2, 8, 5, 1, 3, 8, 4, 7, 2, 7, 5, 5, 6, 9, 6, 8, 7, 9, 4, 2, 7,\n",
       "       6, 1, 9, 9, 2, 3, 5, 5, 1, 8, 8, 4, 7, 3, 6, 9, 1, 5, 4, 8, 1, 9,\n",
       "       6, 4, 9, 5, 5, 5, 1, 1, 8, 8, 6, 4, 2, 2, 9, 5, 4, 1, 7, 3, 6, 5,\n",
       "       5, 5, 1, 1, 3, 4, 5, 2, 8, 2, 9, 2, 9, 7, 8, 2, 7, 6, 4, 7, 4, 2,\n",
       "       7, 8, 2, 5, 1, 7, 8, 6, 5, 6, 2, 1, 7, 7, 2, 2, 1, 8, 8, 1, 8, 9,\n",
       "       4, 1, 1, 3, 5, 5, 9, 2, 2, 6, 9, 1, 9, 9, 9, 5, 9, 4, 2, 6, 4, 6,\n",
       "       3, 6, 2, 2, 9, 7, 3, 1, 8, 6, 7, 9, 5, 1, 7, 5, 3, 9, 1, 1, 1, 3,\n",
       "       6, 3, 8, 2, 9, 3, 5, 8, 2, 6, 5, 9, 5, 2, 5, 4, 7, 6, 2, 5, 7, 7,\n",
       "       5, 9, 4, 3, 4, 5, 6, 3, 2, 4, 5, 4, 3, 8, 4, 2, 2, 1, 4, 9, 7, 7,\n",
       "       7, 8, 1, 8, 4, 4, 4, 6, 7, 6, 1, 8, 7, 6, 6, 5, 6, 9, 9, 8, 9, 8,\n",
       "       8, 1, 5, 4, 2, 8, 3, 4, 7, 9, 2, 3, 4, 1, 7, 2, 5, 1, 3, 2, 1, 7,\n",
       "       5, 1, 6, 5, 3, 7, 9, 9, 9, 2, 3, 7, 5, 2, 3, 6, 7, 9, 1, 7, 8, 3,\n",
       "       4, 6, 7, 4, 8, 5, 1, 4, 3, 9, 8, 1, 6, 9, 7, 4, 1, 2, 5, 5, 8, 6,\n",
       "       8, 2, 3, 6, 3, 6, 6, 2, 7, 2, 6, 1, 3, 2, 7, 4, 8, 6, 4, 5, 9, 7,\n",
       "       9, 7, 1, 8, 4, 3, 7, 3, 8, 6, 5, 4, 8, 8, 1, 9, 5, 4, 6, 6, 2, 8,\n",
       "       7, 1, 5, 6, 4, 2, 4, 1, 7, 2, 2, 9, 5, 2, 9, 9, 1, 3, 4, 7, 4, 2,\n",
       "       7, 6, 3, 6, 6, 5, 4, 1, 6, 2, 3, 8, 6, 3, 7, 4, 9, 5, 3, 2, 2, 3,\n",
       "       2, 4, 2, 9, 2, 9, 6, 1, 4, 1, 6, 4, 3, 3, 9, 6, 9, 5, 2, 8, 5, 2,\n",
       "       4, 9, 4, 4, 2, 6, 2, 7, 3, 3, 5, 3, 2, 9, 2, 2, 8, 9, 7, 3, 9, 3,\n",
       "       5, 9, 3, 7, 1, 4, 4, 7, 8, 1, 5, 7, 4, 4, 4, 6, 7, 2, 5, 4, 3, 7,\n",
       "       6, 7, 5, 6, 5, 7, 2, 5, 6, 6, 5, 7, 8, 7, 5, 1, 5, 2, 5, 5, 2, 5,\n",
       "       4, 1, 3, 1, 5, 4, 7, 5, 4, 2, 4, 2, 8, 3, 9, 4, 6, 5, 1, 9, 1, 8,\n",
       "       9, 9, 1, 2, 1, 2, 8, 5, 7, 2, 8, 6, 8, 1, 1, 7, 8, 3, 5, 1, 7, 5,\n",
       "       8, 8, 9, 7, 1, 3, 8, 3, 8, 1, 5, 4, 5, 8, 4, 4, 3, 7, 3, 3, 5, 5,\n",
       "       6, 8, 6, 1, 8, 8, 9, 9, 2, 2, 3, 1, 4, 4, 9, 9, 9, 7, 2, 5, 4, 8,\n",
       "       2, 6, 5, 2, 1, 8, 2, 7, 9, 9, 8, 9, 2, 6, 4, 4, 5, 3, 1, 8, 5, 3,\n",
       "       7, 7, 1, 9, 2, 5, 5, 8, 8, 7, 7, 6, 6, 9, 6, 2, 2, 5, 4, 2, 3, 7,\n",
       "       8, 6, 5, 1, 8, 3, 6, 3, 7, 7, 9, 5, 8, 8, 1, 5, 3, 1, 4, 8, 3, 2,\n",
       "       9, 5, 7, 2, 9, 9, 4, 4, 6, 6, 1, 9, 2, 5, 9, 4, 3, 7, 6, 8, 3, 5,\n",
       "       4, 4, 4, 8, 6, 3, 5, 6, 5, 6, 8, 7, 5, 6, 4, 9, 4, 1, 7, 7, 4, 3,\n",
       "       8, 5, 7, 4, 4, 8, 8, 2, 2, 3, 3, 1, 3, 6, 8, 6, 5, 4, 3, 4, 7, 1,\n",
       "       7, 1, 2, 4, 1, 9, 6, 1, 1, 6, 4, 4, 6, 7, 9, 5, 9, 4, 2, 3, 1, 6,\n",
       "       6, 1, 3, 5, 3, 3, 3, 5, 5, 4, 1, 5, 5, 4, 6, 4, 7, 7, 2, 3, 1, 8,\n",
       "       9, 4, 6, 9, 6, 9, 4, 8, 9, 4, 5, 8, 6, 7, 3, 7, 8, 6, 9, 6, 9, 4,\n",
       "       8, 4, 2, 9, 5, 4, 2, 1, 7, 6, 2, 8, 4, 8, 7, 5, 8, 9, 5, 5, 2, 5,\n",
       "       3, 7, 5, 8, 1, 3, 3, 9, 5, 9, 9, 1, 2, 5, 4, 9, 7, 6, 7, 1, 1, 8,\n",
       "       2, 9, 7, 6, 1, 1, 2, 6, 6, 2, 1, 5, 5, 2, 6, 9, 2, 2, 3, 7, 6, 8,\n",
       "       8, 6, 3, 3, 1, 7, 5, 4, 4, 4, 6, 8, 8, 5, 6, 4, 9, 8, 1, 2, 9, 8,\n",
       "       3, 8, 1, 4, 3, 6, 7, 4, 7, 9, 2, 3, 5, 3, 8, 8, 8, 9, 4, 5, 5, 8,\n",
       "       7, 9, 8, 2, 4, 6, 2, 7, 3, 3, 2, 8, 6, 1, 1, 7, 8, 5, 5, 4, 6, 6,\n",
       "       3, 9, 7, 1, 7, 5, 5, 2, 4, 6, 7, 5, 9, 3, 1, 4, 9, 4, 2, 5, 3, 9,\n",
       "       4, 6, 2, 6, 3, 9, 2, 9, 5, 8, 2, 6, 3, 5, 8, 1, 5, 3, 4, 2, 9, 3,\n",
       "       2, 9, 7, 6, 1, 5, 3, 1, 4, 2, 2, 3, 8, 8, 7, 6, 9, 4, 1, 8, 7, 7,\n",
       "       3, 4, 9, 6, 5, 3, 9, 5, 5, 4, 4, 1, 7, 9, 3, 2, 3, 1, 6, 7, 2, 8,\n",
       "       6, 4, 5, 8, 3, 3, 4, 1, 9, 8, 8, 6, 7, 6, 9, 3, 3, 3, 3, 9, 4, 7,\n",
       "       9, 7, 9, 3, 4, 8, 6, 5, 4, 8], dtype=int64)"
      ]
     },
     "execution_count": 7,
     "metadata": {},
     "output_type": "execute_result"
    }
   ],
   "source": [
    "# Extracting the dependent variable (label) => 'time spent on social media platform'\n",
    "y = dataset.iloc[:, -1].values\n",
    "y"
   ]
  },
  {
   "cell_type": "code",
   "execution_count": 8,
   "metadata": {
    "ExecuteTime": {
     "end_time": "2024-05-11T11:01:12.187646600Z",
     "start_time": "2024-05-11T11:01:12.128801300Z"
    }
   },
   "outputs": [],
   "source": [
    "# scaling the age and income features\n",
    "from sklearn.preprocessing import StandardScaler\n",
    "scaler = StandardScaler()\n",
    "X[:, 0:2] = scaler.fit_transform(X[:, 0:2])"
   ]
  },
  {
   "cell_type": "code",
   "execution_count": 9,
   "metadata": {
    "ExecuteTime": {
     "end_time": "2024-05-11T11:01:12.189639800Z",
     "start_time": "2024-05-11T11:01:12.140771700Z"
    },
    "collapsed": false
   },
   "outputs": [
    {
     "data": {
      "text/plain": [
       "array([[1.1128817500082018, 1.609380435596781, 'male', ..., True, False,\n",
       "        False],\n",
       "       [0.37165239739850314, -1.5051063363485266, 'female', ..., True,\n",
       "        True, True],\n",
       "       [-0.666068696255075, -0.5940935932843944, 'male', ..., False,\n",
       "        False, False],\n",
       "       ...,\n",
       "       [-1.0366833725599243, 0.87252194742427, 'male', ..., True, False,\n",
       "        True],\n",
       "       [1.483496426313051, 0.42546966593548646, 'female', ..., True,\n",
       "        True, False],\n",
       "       [-1.6296668546476831, 0.4291894655545308, 'female', ..., False,\n",
       "        True, False]], dtype=object)"
      ]
     },
     "execution_count": 9,
     "metadata": {},
     "output_type": "execute_result"
    }
   ],
   "source": [
    "X"
   ]
  },
  {
   "cell_type": "code",
   "execution_count": 10,
   "metadata": {
    "ExecuteTime": {
     "end_time": "2024-05-11T11:01:12.291365700Z",
     "start_time": "2024-05-11T11:01:12.155730200Z"
    }
   },
   "outputs": [],
   "source": [
    "from sklearn.impute import SimpleImputer\n",
    "imputer = SimpleImputer(missing_values=np.nan, strategy='most_frequent')"
   ]
  },
  {
   "cell_type": "code",
   "execution_count": 11,
   "metadata": {
    "ExecuteTime": {
     "end_time": "2024-05-11T11:01:12.310315Z",
     "start_time": "2024-05-11T11:01:12.204597600Z"
    }
   },
   "outputs": [],
   "source": [
    "imputer.fit(X[:, :])\n",
    "X = imputer.transform(X[:, :])"
   ]
  },
  {
   "cell_type": "code",
   "execution_count": 12,
   "metadata": {
    "ExecuteTime": {
     "end_time": "2024-05-11T11:01:12.378389800Z",
     "start_time": "2024-05-11T11:01:12.222549600Z"
    }
   },
   "outputs": [
    {
     "data": {
      "text/plain": [
       "array([[1.1128817500082018, 1.609380435596781, 'male', ..., True, False,\n",
       "        False],\n",
       "       [0.37165239739850314, -1.5051063363485266, 'female', ..., True,\n",
       "        True, True],\n",
       "       [-0.666068696255075, -0.5940935932843944, 'male', ..., False,\n",
       "        False, False],\n",
       "       ...,\n",
       "       [-1.0366833725599243, 0.87252194742427, 'male', ..., True, False,\n",
       "        True],\n",
       "       [1.483496426313051, 0.42546966593548646, 'female', ..., True,\n",
       "        True, False],\n",
       "       [-1.6296668546476831, 0.4291894655545308, 'female', ..., False,\n",
       "        True, False]], dtype=object)"
      ]
     },
     "execution_count": 12,
     "metadata": {},
     "output_type": "execute_result"
    }
   ],
   "source": [
    "X"
   ]
  },
  {
   "cell_type": "code",
   "execution_count": 13,
   "metadata": {
    "ExecuteTime": {
     "end_time": "2024-05-11T11:01:12.417285400Z",
     "start_time": "2024-05-11T11:01:12.236513100Z"
    }
   },
   "outputs": [],
   "source": [
    "from sklearn.compose import ColumnTransformer\n",
    "from sklearn.preprocessing import OneHotEncoder"
   ]
  },
  {
   "cell_type": "code",
   "execution_count": 14,
   "metadata": {
    "ExecuteTime": {
     "end_time": "2024-05-11T11:01:12.445210900Z",
     "start_time": "2024-05-11T11:01:12.254464200Z"
    }
   },
   "outputs": [],
   "source": [
    "transformer = ColumnTransformer(\n",
    "    transformers=[(\"categorical_encoder\", OneHotEncoder(), [2, 3, 4, 5, 6, 7])], remainder='passthrough')"
   ]
  },
  {
   "cell_type": "code",
   "execution_count": 15,
   "metadata": {
    "ExecuteTime": {
     "end_time": "2024-05-11T11:01:12.445210900Z",
     "start_time": "2024-05-11T11:01:12.264437800Z"
    }
   },
   "outputs": [],
   "source": [
    "X = np.array(transformer.fit_transform(X))"
   ]
  },
  {
   "cell_type": "code",
   "execution_count": 16,
   "metadata": {
    "ExecuteTime": {
     "end_time": "2024-05-11T11:01:12.445210900Z",
     "start_time": "2024-05-11T11:01:12.279398100Z"
    }
   },
   "outputs": [
    {
     "data": {
      "text/plain": [
       "array([[0.0, 1.0, 0.0, ..., True, False, False],\n",
       "       [1.0, 0.0, 1.0, ..., True, True, True],\n",
       "       [0.0, 1.0, 0.0, ..., False, False, False],\n",
       "       ...,\n",
       "       [0.0, 1.0, 0.0, ..., True, False, True],\n",
       "       [1.0, 0.0, 0.0, ..., True, True, False],\n",
       "       [1.0, 0.0, 0.0, ..., False, True, False]], dtype=object)"
      ]
     },
     "execution_count": 16,
     "metadata": {},
     "output_type": "execute_result"
    }
   ],
   "source": [
    "X"
   ]
  },
  {
   "cell_type": "code",
   "execution_count": 17,
   "metadata": {
    "ExecuteTime": {
     "end_time": "2024-05-11T11:01:12.446208600Z",
     "start_time": "2024-05-11T11:01:12.296353Z"
    },
    "collapsed": false
   },
   "outputs": [],
   "source": [
    "# Encoding True/False values\n",
    "from sklearn.preprocessing import LabelEncoder\n",
    "le = LabelEncoder()\n",
    "for i in [19, 20, 21]:\n",
    "    X[:, i] = le.fit_transform(X[:, i])"
   ]
  },
  {
   "cell_type": "code",
   "execution_count": 18,
   "metadata": {
    "ExecuteTime": {
     "end_time": "2024-05-11T11:01:12.527730500Z",
     "start_time": "2024-05-11T11:01:12.312310900Z"
    },
    "collapsed": false
   },
   "outputs": [
    {
     "data": {
      "text/plain": [
       "array([[0.0, 1.0, 0.0, ..., 1, 0, 0],\n",
       "       [1.0, 0.0, 1.0, ..., 1, 1, 1],\n",
       "       [0.0, 1.0, 0.0, ..., 0, 0, 0],\n",
       "       ...,\n",
       "       [0.0, 1.0, 0.0, ..., 1, 0, 1],\n",
       "       [1.0, 0.0, 0.0, ..., 1, 1, 0],\n",
       "       [1.0, 0.0, 0.0, ..., 0, 1, 0]], dtype=object)"
      ]
     },
     "execution_count": 18,
     "metadata": {},
     "output_type": "execute_result"
    }
   ],
   "source": [
    "X"
   ]
  },
  {
   "cell_type": "code",
   "execution_count": 19,
   "metadata": {
    "ExecuteTime": {
     "end_time": "2024-05-11T11:01:12.561601300Z",
     "start_time": "2024-05-11T11:01:12.353449600Z"
    }
   },
   "outputs": [],
   "source": [
    "from sklearn.model_selection import train_test_split\n",
    "X_train, X_test, y_train, y_test = train_test_split(\n",
    "    X, y, test_size=.1, random_state=1)"
   ]
  },
  {
   "cell_type": "code",
   "execution_count": 20,
   "metadata": {
    "ExecuteTime": {
     "end_time": "2024-05-11T11:01:12.562639500Z",
     "start_time": "2024-05-11T11:01:12.358444700Z"
    },
    "collapsed": false
   },
   "outputs": [
    {
     "name": "stdout",
     "output_type": "stream",
     "text": [
      "X_train shape:  (900, 22)\n",
      "X_test shape:  (100, 22)\n",
      "y_train shape:  (900,)\n",
      "y_test shape:  (100,)\n"
     ]
    }
   ],
   "source": [
    "print(\"X_train shape: \", X_train.shape)\n",
    "print(\"X_test shape: \", X_test.shape)\n",
    "print(\"y_train shape: \", y_train.shape)\n",
    "print(\"y_test shape: \", y_test.shape)"
   ]
  },
  {
   "cell_type": "code",
   "execution_count": 21,
   "metadata": {
    "ExecuteTime": {
     "end_time": "2024-05-11T11:01:12.594512600Z",
     "start_time": "2024-05-11T11:01:12.373404Z"
    }
   },
   "outputs": [
    {
     "data": {
      "text/plain": [
       "array([[0.0, 1.0, 0.0, ..., 0, 0, 1],\n",
       "       [1.0, 0.0, 0.0, ..., 0, 1, 0],\n",
       "       [0.0, 1.0, 1.0, ..., 1, 0, 1],\n",
       "       ...,\n",
       "       [0.0, 1.0, 0.0, ..., 0, 0, 1],\n",
       "       [0.0, 1.0, 0.0, ..., 0, 0, 0],\n",
       "       [0.0, 1.0, 0.0, ..., 1, 1, 0]], dtype=object)"
      ]
     },
     "execution_count": 21,
     "metadata": {},
     "output_type": "execute_result"
    }
   ],
   "source": [
    "X_train"
   ]
  },
  {
   "cell_type": "code",
   "execution_count": 22,
   "metadata": {
    "ExecuteTime": {
     "end_time": "2024-05-11T11:01:12.616493300Z",
     "start_time": "2024-05-11T11:01:12.393350400Z"
    }
   },
   "outputs": [
    {
     "data": {
      "text/plain": [
       "array([[1.0, 0.0, 1.0, ..., 1, 1, 1],\n",
       "       [0.0, 1.0, 0.0, ..., 0, 0, 1],\n",
       "       [0.0, 1.0, 1.0, ..., 1, 1, 0],\n",
       "       ...,\n",
       "       [1.0, 0.0, 0.0, ..., 0, 0, 1],\n",
       "       [1.0, 0.0, 0.0, ..., 1, 1, 1],\n",
       "       [0.0, 1.0, 0.0, ..., 0, 1, 0]], dtype=object)"
      ]
     },
     "execution_count": 22,
     "metadata": {},
     "output_type": "execute_result"
    }
   ],
   "source": [
    "X_test"
   ]
  },
  {
   "cell_type": "code",
   "execution_count": 23,
   "metadata": {
    "ExecuteTime": {
     "end_time": "2024-05-11T11:01:12.617491400Z",
     "start_time": "2024-05-11T11:01:12.405319800Z"
    }
   },
   "outputs": [
    {
     "data": {
      "text/plain": [
       "array([2, 6, 8, 8, 5, 6, 4, 3, 5, 7, 5, 9, 5, 5, 2, 7, 5, 6, 9, 7, 4, 8,\n",
       "       5, 4, 4, 1, 6, 9, 6, 4, 6, 9, 3, 8, 5, 8, 3, 8, 4, 5, 2, 2, 7, 9,\n",
       "       1, 7, 8, 8, 8, 5, 3, 5, 7, 7, 2, 2, 1, 6, 4, 7, 3, 6, 5, 6, 2, 2,\n",
       "       6, 1, 1, 9, 4, 2, 9, 6, 5, 8, 5, 5, 4, 8, 9, 1, 5, 3, 1, 7, 1, 4,\n",
       "       2, 3, 4, 8, 1, 6, 4, 4, 8, 2, 1, 6, 4, 4, 9, 5, 4, 3, 4, 7, 2, 9,\n",
       "       6, 9, 8, 7, 4, 4, 6, 9, 7, 4, 7, 9, 4, 4, 8, 8, 1, 4, 4, 6, 1, 9,\n",
       "       2, 8, 6, 4, 1, 7, 5, 5, 8, 7, 8, 7, 3, 4, 7, 7, 2, 3, 3, 5, 8, 4,\n",
       "       6, 8, 3, 2, 3, 6, 1, 8, 4, 8, 8, 2, 9, 8, 4, 8, 2, 1, 8, 1, 3, 5,\n",
       "       2, 3, 3, 2, 3, 7, 8, 9, 3, 6, 5, 4, 2, 7, 3, 4, 8, 7, 5, 5, 3, 1,\n",
       "       3, 7, 9, 5, 4, 5, 8, 8, 6, 2, 6, 8, 4, 2, 8, 1, 9, 7, 6, 9, 9, 6,\n",
       "       7, 2, 6, 1, 3, 3, 6, 5, 7, 6, 9, 3, 7, 7, 2, 6, 5, 6, 8, 9, 5, 5,\n",
       "       5, 5, 2, 7, 4, 2, 8, 1, 1, 5, 2, 6, 9, 6, 3, 3, 6, 9, 9, 6, 3, 6,\n",
       "       1, 4, 8, 2, 1, 1, 5, 2, 1, 9, 1, 2, 8, 9, 8, 4, 7, 7, 3, 1, 9, 9,\n",
       "       4, 7, 5, 5, 6, 8, 7, 8, 9, 2, 1, 2, 2, 6, 2, 4, 8, 8, 9, 9, 8, 5,\n",
       "       6, 9, 2, 7, 5, 2, 5, 6, 8, 5, 6, 7, 5, 4, 5, 4, 3, 3, 5, 8, 4, 8,\n",
       "       5, 6, 5, 1, 6, 8, 9, 7, 4, 6, 6, 7, 8, 3, 1, 5, 2, 7, 4, 4, 1, 2,\n",
       "       3, 8, 5, 1, 3, 5, 3, 6, 2, 1, 1, 8, 5, 6, 2, 5, 2, 1, 7, 1, 2, 5,\n",
       "       7, 6, 5, 8, 4, 8, 1, 7, 2, 3, 7, 6, 9, 8, 8, 4, 5, 6, 1, 4, 9, 9,\n",
       "       2, 4, 8, 1, 1, 3, 3, 4, 4, 2, 2, 2, 9, 3, 7, 1, 2, 9, 7, 4, 7, 1,\n",
       "       9, 2, 1, 2, 7, 2, 5, 9, 1, 9, 8, 1, 2, 2, 8, 1, 4, 1, 7, 4, 5, 1,\n",
       "       6, 3, 4, 3, 3, 4, 1, 2, 3, 5, 2, 4, 7, 6, 2, 1, 9, 4, 7, 3, 4, 8,\n",
       "       9, 1, 6, 3, 4, 6, 2, 9, 9, 4, 2, 4, 2, 5, 9, 1, 1, 8, 2, 5, 4, 5,\n",
       "       2, 5, 8, 3, 4, 8, 6, 9, 3, 7, 8, 9, 5, 6, 8, 9, 4, 2, 4, 2, 7, 5,\n",
       "       1, 7, 5, 5, 9, 7, 1, 6, 8, 3, 3, 7, 4, 2, 3, 9, 8, 1, 5, 9, 5, 5,\n",
       "       2, 6, 6, 9, 2, 3, 3, 4, 3, 1, 4, 1, 4, 3, 2, 4, 1, 3, 9, 9, 2, 6,\n",
       "       3, 5, 3, 7, 2, 3, 5, 4, 3, 2, 3, 3, 3, 7, 1, 8, 2, 7, 9, 9, 9, 5,\n",
       "       7, 3, 5, 1, 6, 6, 6, 7, 8, 1, 3, 8, 9, 3, 1, 6, 1, 7, 5, 3, 6, 5,\n",
       "       7, 1, 9, 1, 2, 5, 6, 5, 1, 7, 7, 1, 6, 2, 1, 7, 8, 3, 5, 7, 3, 9,\n",
       "       8, 7, 4, 9, 7, 2, 9, 6, 7, 9, 3, 2, 7, 3, 5, 3, 8, 5, 3, 4, 8, 2,\n",
       "       7, 3, 3, 4, 6, 3, 9, 6, 9, 4, 2, 4, 5, 4, 8, 1, 9, 9, 7, 5, 5, 2,\n",
       "       2, 4, 9, 9, 9, 5, 2, 9, 6, 7, 4, 5, 3, 9, 6, 6, 1, 7, 1, 7, 7, 7,\n",
       "       4, 4, 3, 6, 7, 1, 8, 6, 6, 7, 4, 3, 4, 8, 5, 7, 2, 9, 4, 5, 2, 6,\n",
       "       2, 2, 2, 5, 6, 3, 3, 9, 1, 6, 3, 5, 4, 4, 5, 1, 9, 7, 9, 2, 7, 6,\n",
       "       2, 5, 5, 6, 3, 7, 4, 7, 6, 7, 2, 4, 7, 4, 7, 8, 2, 7, 8, 1, 8, 9,\n",
       "       8, 9, 1, 1, 3, 2, 7, 5, 5, 7, 3, 5, 8, 8, 3, 4, 8, 8, 2, 5, 2, 5,\n",
       "       2, 3, 3, 9, 4, 8, 9, 5, 4, 1, 5, 7, 7, 9, 5, 8, 7, 1, 6, 8, 4, 6,\n",
       "       4, 1, 9, 2, 9, 1, 9, 5, 5, 3, 8, 5, 6, 8, 3, 6, 1, 4, 9, 5, 9, 6,\n",
       "       9, 8, 5, 6, 2, 6, 4, 9, 7, 6, 6, 5, 1, 1, 9, 4, 5, 2, 2, 9, 1, 2,\n",
       "       1, 4, 9, 1, 5, 3, 4, 9, 5, 7, 4, 9, 9, 6, 4, 8, 8, 9, 3, 3, 9, 4,\n",
       "       4, 4, 8, 6, 4, 2, 6, 1, 4, 9, 8, 2, 4, 9, 2, 8, 3, 9, 7, 3, 5, 5,\n",
       "       6, 4, 2, 9, 9, 4, 6, 3, 6, 5, 3, 3, 6, 5, 6, 5, 5, 2, 2, 9],\n",
       "      dtype=int64)"
      ]
     },
     "execution_count": 23,
     "metadata": {},
     "output_type": "execute_result"
    }
   ],
   "source": [
    "y_train"
   ]
  },
  {
   "cell_type": "code",
   "execution_count": 24,
   "metadata": {
    "ExecuteTime": {
     "end_time": "2024-05-11T11:01:12.617491400Z",
     "start_time": "2024-05-11T11:01:12.421276Z"
    }
   },
   "outputs": [
    {
     "data": {
      "text/plain": [
       "array([8, 1, 8, 9, 5, 5, 8, 3, 5, 5, 2, 7, 6, 9, 8, 6, 1, 8, 6, 8, 1, 4,\n",
       "       8, 5, 6, 6, 8, 6, 5, 2, 5, 6, 9, 8, 3, 8, 9, 7, 5, 3, 1, 6, 2, 7,\n",
       "       8, 5, 2, 8, 7, 8, 4, 7, 4, 3, 3, 1, 5, 4, 1, 4, 7, 3, 2, 9, 4, 6,\n",
       "       3, 3, 6, 7, 3, 3, 7, 6, 2, 5, 2, 1, 1, 4, 2, 8, 7, 6, 3, 9, 1, 4,\n",
       "       7, 5, 4, 8, 4, 4, 7, 1, 9, 7, 7, 6], dtype=int64)"
      ]
     },
     "execution_count": 24,
     "metadata": {},
     "output_type": "execute_result"
    }
   ],
   "source": [
    "y_test"
   ]
  },
  {
   "cell_type": "code",
   "execution_count": 25,
   "metadata": {
    "ExecuteTime": {
     "end_time": "2024-05-11T11:01:12.618489200Z",
     "start_time": "2024-05-11T11:01:12.438230500Z"
    }
   },
   "outputs": [],
   "source": [
    "# Saving the preprocessed data\n",
    "import csv\n",
    "with open(\"preprocessed.csv\", 'w', newline='') as csvfile:\n",
    "    writer = csv.writer(csvfile)\n",
    "\n",
    "    # Concatenate X with y\n",
    "    concatenated_data = np.concatenate((X, y.reshape(-1, 1)), axis=1)\n",
    "\n",
    "    # write the concatenated data\n",
    "    for row in concatenated_data:\n",
    "        writer.writerow(row)"
   ]
  }
 ],
 "metadata": {
  "kernelspec": {
   "display_name": "Python 3 (ipykernel)",
   "language": "python",
   "name": "python3"
  },
  "language_info": {
   "codemirror_mode": {
    "name": "ipython",
    "version": 3
   },
   "file_extension": ".py",
   "mimetype": "text/x-python",
   "name": "python",
   "nbconvert_exporter": "python",
   "pygments_lexer": "ipython3",
   "version": "3.9.12"
  }
 },
 "nbformat": 4,
 "nbformat_minor": 1
}
