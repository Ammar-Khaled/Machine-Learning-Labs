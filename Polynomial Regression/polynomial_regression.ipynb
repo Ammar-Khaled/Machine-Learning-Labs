{
 "cells": [
  {
   "cell_type": "markdown",
   "metadata": {
    "collapsed": false
   },
   "source": [
    "### 1- Data preprocessing"
   ]
  },
  {
   "cell_type": "code",
   "execution_count": 1,
   "id": "1dd4155c",
   "metadata": {
    "ExecuteTime": {
     "end_time": "2024-05-11T11:35:49.199640100Z",
     "start_time": "2024-05-11T11:35:49.115862900Z"
    }
   },
   "outputs": [],
   "source": [
    "import pandas as pd\n",
    "import numpy as np\n",
    "import matplotlib.pyplot as plt"
   ]
  },
  {
   "cell_type": "code",
   "execution_count": 2,
   "id": "599e46ee",
   "metadata": {
    "ExecuteTime": {
     "end_time": "2024-05-11T11:35:49.201633400Z",
     "start_time": "2024-05-11T11:35:49.131819700Z"
    }
   },
   "outputs": [
    {
     "data": {
      "text/html": [
       "<div>\n",
       "<style scoped>\n",
       "    .dataframe tbody tr th:only-of-type {\n",
       "        vertical-align: middle;\n",
       "    }\n",
       "\n",
       "    .dataframe tbody tr th {\n",
       "        vertical-align: top;\n",
       "    }\n",
       "\n",
       "    .dataframe thead th {\n",
       "        text-align: right;\n",
       "    }\n",
       "</style>\n",
       "<table border=\"1\" class=\"dataframe\">\n",
       "  <thead>\n",
       "    <tr style=\"text-align: right;\">\n",
       "      <th></th>\n",
       "      <th>gender</th>\n",
       "      <th>stream</th>\n",
       "      <th>age</th>\n",
       "      <th>gpa</th>\n",
       "      <th>years_of_experience</th>\n",
       "      <th>salary</th>\n",
       "    </tr>\n",
       "  </thead>\n",
       "  <tbody>\n",
       "    <tr>\n",
       "      <th>0</th>\n",
       "      <td>Male</td>\n",
       "      <td>Computer Science</td>\n",
       "      <td>25</td>\n",
       "      <td>3.7</td>\n",
       "      <td>2</td>\n",
       "      <td>60000</td>\n",
       "    </tr>\n",
       "    <tr>\n",
       "      <th>1</th>\n",
       "      <td>Female</td>\n",
       "      <td>Electrical Engineering</td>\n",
       "      <td>24</td>\n",
       "      <td>3.6</td>\n",
       "      <td>1</td>\n",
       "      <td>65000</td>\n",
       "    </tr>\n",
       "    <tr>\n",
       "      <th>2</th>\n",
       "      <td>Male</td>\n",
       "      <td>Mechanical Engineering</td>\n",
       "      <td>26</td>\n",
       "      <td>3.8</td>\n",
       "      <td>3</td>\n",
       "      <td>58000</td>\n",
       "    </tr>\n",
       "    <tr>\n",
       "      <th>3</th>\n",
       "      <td>Female</td>\n",
       "      <td>Information Technology</td>\n",
       "      <td>23</td>\n",
       "      <td>3.5</td>\n",
       "      <td>2</td>\n",
       "      <td>0</td>\n",
       "    </tr>\n",
       "    <tr>\n",
       "      <th>4</th>\n",
       "      <td>Male</td>\n",
       "      <td>Computer Science</td>\n",
       "      <td>24</td>\n",
       "      <td>3.9</td>\n",
       "      <td>2</td>\n",
       "      <td>62000</td>\n",
       "    </tr>\n",
       "    <tr>\n",
       "      <th>...</th>\n",
       "      <td>...</td>\n",
       "      <td>...</td>\n",
       "      <td>...</td>\n",
       "      <td>...</td>\n",
       "      <td>...</td>\n",
       "      <td>...</td>\n",
       "    </tr>\n",
       "    <tr>\n",
       "      <th>695</th>\n",
       "      <td>Male</td>\n",
       "      <td>Computer Science</td>\n",
       "      <td>23</td>\n",
       "      <td>3.8</td>\n",
       "      <td>3</td>\n",
       "      <td>67000</td>\n",
       "    </tr>\n",
       "    <tr>\n",
       "      <th>696</th>\n",
       "      <td>Female</td>\n",
       "      <td>Electronics and Communication</td>\n",
       "      <td>26</td>\n",
       "      <td>3.9</td>\n",
       "      <td>3</td>\n",
       "      <td>66000</td>\n",
       "    </tr>\n",
       "    <tr>\n",
       "      <th>697</th>\n",
       "      <td>Male</td>\n",
       "      <td>Computer Science</td>\n",
       "      <td>24</td>\n",
       "      <td>3.8</td>\n",
       "      <td>3</td>\n",
       "      <td>65000</td>\n",
       "    </tr>\n",
       "    <tr>\n",
       "      <th>698</th>\n",
       "      <td>Female</td>\n",
       "      <td>Electrical Engineering</td>\n",
       "      <td>23</td>\n",
       "      <td>3.7</td>\n",
       "      <td>2</td>\n",
       "      <td>66000</td>\n",
       "    </tr>\n",
       "    <tr>\n",
       "      <th>699</th>\n",
       "      <td>Male</td>\n",
       "      <td>Information Technology</td>\n",
       "      <td>26</td>\n",
       "      <td>3.6</td>\n",
       "      <td>1</td>\n",
       "      <td>0</td>\n",
       "    </tr>\n",
       "  </tbody>\n",
       "</table>\n",
       "<p>700 rows × 6 columns</p>\n",
       "</div>"
      ],
      "text/plain": [
       "     gender                         stream  age  gpa  years_of_experience  \\\n",
       "0      Male               Computer Science   25  3.7                    2   \n",
       "1    Female         Electrical Engineering   24  3.6                    1   \n",
       "2      Male         Mechanical Engineering   26  3.8                    3   \n",
       "3    Female         Information Technology   23  3.5                    2   \n",
       "4      Male               Computer Science   24  3.9                    2   \n",
       "..      ...                            ...  ...  ...                  ...   \n",
       "695    Male               Computer Science   23  3.8                    3   \n",
       "696  Female  Electronics and Communication   26  3.9                    3   \n",
       "697    Male               Computer Science   24  3.8                    3   \n",
       "698  Female         Electrical Engineering   23  3.7                    2   \n",
       "699    Male         Information Technology   26  3.6                    1   \n",
       "\n",
       "     salary  \n",
       "0     60000  \n",
       "1     65000  \n",
       "2     58000  \n",
       "3         0  \n",
       "4     62000  \n",
       "..      ...  \n",
       "695   67000  \n",
       "696   66000  \n",
       "697   65000  \n",
       "698   66000  \n",
       "699       0  \n",
       "\n",
       "[700 rows x 6 columns]"
      ]
     },
     "execution_count": 2,
     "metadata": {},
     "output_type": "execute_result"
    }
   ],
   "source": [
    "dataset = pd.read_csv('job_placement.csv')\n",
    "dataset"
   ]
  },
  {
   "cell_type": "code",
   "execution_count": 3,
   "id": "a540f74d",
   "metadata": {
    "ExecuteTime": {
     "end_time": "2024-05-11T11:35:49.219586800Z",
     "start_time": "2024-05-11T11:35:49.176699700Z"
    },
    "collapsed": false
   },
   "outputs": [
    {
     "name": "stdout",
     "output_type": "stream",
     "text": [
      "<class 'pandas.core.frame.DataFrame'>\n",
      "RangeIndex: 700 entries, 0 to 699\n",
      "Data columns (total 6 columns):\n",
      " #   Column               Non-Null Count  Dtype  \n",
      "---  ------               --------------  -----  \n",
      " 0   gender               700 non-null    object \n",
      " 1   stream               700 non-null    object \n",
      " 2   age                  700 non-null    int64  \n",
      " 3   gpa                  700 non-null    float64\n",
      " 4   years_of_experience  700 non-null    int64  \n",
      " 5   salary               700 non-null    int64  \n",
      "dtypes: float64(1), int64(3), object(2)\n",
      "memory usage: 32.9+ KB\n"
     ]
    }
   ],
   "source": [
    "dataset.info()"
   ]
  },
  {
   "cell_type": "code",
   "execution_count": 4,
   "id": "9f99f827",
   "metadata": {
    "ExecuteTime": {
     "end_time": "2024-05-11T11:35:49.220584500Z",
     "start_time": "2024-05-11T11:35:49.208614800Z"
    }
   },
   "outputs": [],
   "source": [
    "X = dataset.iloc[:, :-1].values\n",
    "y = dataset.iloc[:, -1].values"
   ]
  },
  {
   "cell_type": "code",
   "execution_count": 5,
   "id": "0e8b925e",
   "metadata": {},
   "outputs": [
    {
     "data": {
      "text/plain": [
       "array([60000, 65000, 58000, 66000, 62000, 63000, 59000, 66000, 64000,\n",
       "       57000, 61000, 66000, 63000, 64000, 66000, 66000, 61000, 62000,\n",
       "       59000, 65000, 67000, 66000, 60000, 63000, 60000, 66000, 64000,\n",
       "       66000, 59000, 62000, 61000, 66000, 65000, 64000, 67000, 66000,\n",
       "       63000, 62000, 60000, 61000, 66000, 65000, 66000, 63000, 64000,\n",
       "       66000, 65000, 66000, 67000, 68000, 66000, 67000, 66000, 65000,\n",
       "       66000, 66000, 63000, 62000, 60000, 61000, 66000, 65000, 66000,\n",
       "       63000, 64000, 66000, 65000, 66000, 67000, 68000, 66000, 67000,\n",
       "       66000, 65000, 66000, 66000, 63000, 62000, 60000, 61000, 66000,\n",
       "       65000, 66000, 63000, 64000, 66000, 65000, 66000, 67000, 68000,\n",
       "       66000, 67000, 66000, 65000, 66000, 66000, 63000, 62000, 60000,\n",
       "       61000, 66000, 65000, 66000, 63000, 64000, 66000, 65000, 66000,\n",
       "       67000, 68000, 66000, 67000, 66000, 65000, 66000, 66000, 63000,\n",
       "       62000, 60000, 61000, 66000, 65000, 66000, 63000, 64000, 66000,\n",
       "       65000, 66000, 67000, 68000, 66000, 67000, 66000, 65000, 66000,\n",
       "       66000, 63000, 62000, 60000, 61000, 66000, 65000, 66000, 63000,\n",
       "       64000, 66000, 65000, 66000, 67000, 68000, 66000, 67000, 66000,\n",
       "       65000, 66000, 66000, 63000, 62000, 60000, 61000, 66000, 65000,\n",
       "       66000, 63000, 64000, 66000, 65000, 66000, 67000, 68000, 66000,\n",
       "       67000, 66000, 65000, 66000, 66000, 63000, 62000, 60000, 61000,\n",
       "       66000, 65000, 66000, 63000, 64000, 66000, 65000, 66000, 61000,\n",
       "       64000, 66000, 67000, 68000, 66000, 67000, 66000, 65000, 66000,\n",
       "       66000, 63000, 64000, 66000, 67000, 68000, 66000, 67000, 66000,\n",
       "       65000, 66000, 66000, 63000, 64000, 66000, 67000, 68000, 66000,\n",
       "       67000, 66000, 65000, 66000, 66000, 63000, 64000, 66000, 67000,\n",
       "       68000, 66000, 67000, 66000, 65000, 66000, 66000, 63000, 64000,\n",
       "       66000, 67000, 68000, 66000, 67000, 66000, 65000, 66000, 66000,\n",
       "       63000, 64000, 66000, 67000, 68000, 66000, 67000, 66000, 65000,\n",
       "       66000, 66000, 63000, 64000, 66000, 67000, 68000, 66000, 67000,\n",
       "       66000, 65000, 66000, 66000, 63000, 64000, 66000, 67000, 68000,\n",
       "       66000, 67000, 66000, 65000, 66000, 64000, 65000, 67000, 68000,\n",
       "       66000, 67000, 66000, 65000, 66000, 66000, 63000, 62000, 60000,\n",
       "       61000, 66000, 65000, 66000, 63000, 64000, 67000, 68000, 66000,\n",
       "       67000, 66000, 65000, 66000, 66000, 63000, 62000, 60000, 61000,\n",
       "       66000, 65000, 66000, 63000, 64000, 67000, 68000, 66000, 67000,\n",
       "       66000, 65000, 66000, 66000, 63000, 62000, 60000, 61000, 66000,\n",
       "       65000, 66000, 63000, 64000, 67000, 66000, 67000, 66000, 65000,\n",
       "       65000, 66000, 66000, 63000, 62000, 60000, 61000, 66000, 65000,\n",
       "       66000, 63000, 64000, 67000, 66000, 67000, 66000, 65000, 66000,\n",
       "       66000, 63000, 62000, 60000, 61000, 66000, 65000, 66000, 63000,\n",
       "       64000, 67000, 66000, 67000, 66000, 65000, 66000, 66000, 63000,\n",
       "       62000, 60000, 61000, 66000, 65000, 66000, 63000, 64000, 67000,\n",
       "       67000, 66000, 65000, 66000, 66000, 63000, 62000, 60000, 61000,\n",
       "       66000, 65000, 66000, 63000, 64000, 67000, 66000, 67000, 66000,\n",
       "       65000, 66000, 66000, 63000, 62000, 60000, 61000, 66000, 65000,\n",
       "       66000, 63000, 64000, 67000, 66000, 67000, 66000, 65000, 66000,\n",
       "       66000, 63000, 62000, 60000, 61000, 66000, 65000, 66000, 63000,\n",
       "       64000, 67000, 66000, 67000, 66000, 65000, 66000, 66000, 63000,\n",
       "       62000, 60000, 61000, 66000, 65000, 66000, 63000, 64000, 67000,\n",
       "       66000, 67000, 66000, 65000, 66000, 66000, 63000, 62000, 60000,\n",
       "       61000, 66000, 65000, 66000, 63000, 64000, 67000, 66000, 67000,\n",
       "       66000, 65000, 66000, 66000, 63000, 62000, 60000, 61000, 66000,\n",
       "       65000, 66000, 63000, 64000, 67000, 66000, 67000, 66000, 65000,\n",
       "       66000, 66000, 63000, 62000, 60000, 61000, 66000, 65000, 66000,\n",
       "       63000, 64000, 67000, 66000, 67000, 66000, 65000, 66000, 66000,\n",
       "       63000, 62000, 60000, 61000, 66000, 65000, 66000, 63000, 64000,\n",
       "       67000, 66000, 67000, 66000, 65000, 66000, 66000, 63000, 62000,\n",
       "       60000, 61000, 66000, 65000, 66000, 63000, 64000, 67000, 67000,\n",
       "       66000, 65000, 66000, 66000, 63000, 62000, 60000, 61000, 66000,\n",
       "       65000, 66000, 63000, 64000, 67000, 66000, 67000, 66000, 65000,\n",
       "       66000, 66000, 63000, 62000, 60000, 66000, 65000, 66000, 63000,\n",
       "       64000, 67000, 66000, 67000, 66000, 65000, 66000, 66000, 63000,\n",
       "       62000, 60000, 61000, 66000, 65000, 66000, 63000, 64000, 67000,\n",
       "       66000, 67000, 66000, 65000, 66000, 66000, 63000, 62000, 60000,\n",
       "       61000, 66000, 65000, 66000, 63000, 64000, 67000, 66000, 67000,\n",
       "       66000, 65000, 66000, 66000, 63000, 62000, 60000, 61000, 66000,\n",
       "       65000, 66000, 63000, 64000, 67000, 67000, 66000, 65000, 66000,\n",
       "       66000, 63000, 62000, 60000, 61000, 66000, 65000, 66000, 63000,\n",
       "       64000, 67000, 66000, 67000, 66000, 65000, 66000, 66000, 63000,\n",
       "       62000, 60000, 61000, 66000, 65000, 66000, 63000, 64000, 67000,\n",
       "       66000, 67000, 66000, 65000, 66000, 66000, 63000, 62000, 60000,\n",
       "       61000, 66000, 65000, 66000, 63000, 64000, 67000, 66000, 67000,\n",
       "       66000, 65000, 66000, 66000, 63000, 62000, 60000, 61000, 66000,\n",
       "       65000, 66000, 63000, 64000, 67000, 66000, 67000, 66000, 65000,\n",
       "       66000, 66000, 63000, 62000, 60000, 61000, 66000, 65000, 66000,\n",
       "       63000, 64000, 67000, 66000, 67000, 66000, 65000, 66000, 66000,\n",
       "       63000, 62000, 60000, 61000, 66000, 65000, 66000, 63000, 64000,\n",
       "       67000, 66000, 67000, 66000, 65000, 66000, 66000], dtype=int64)"
      ]
     },
     "execution_count": 5,
     "metadata": {},
     "output_type": "execute_result"
    }
   ],
   "source": [
    "# imputing zero salaries with most frequent salary\n",
    "\n",
    "from sklearn.impute import SimpleImputer\n",
    "imputer = SimpleImputer(missing_values=0, strategy='most_frequent')\n",
    "imputer.fit(y.reshape(-1, 1))\n",
    "y = imputer.transform(y.reshape(-1, 1))\n",
    "y = y.reshape(-1)\n",
    "y"
   ]
  },
  {
   "cell_type": "code",
   "execution_count": 6,
   "id": "89fc4287",
   "metadata": {
    "ExecuteTime": {
     "end_time": "2024-05-11T11:35:49.382149700Z",
     "start_time": "2024-05-11T11:35:49.258481400Z"
    }
   },
   "outputs": [
    {
     "data": {
      "text/plain": [
       "array([[0.0, 1.0, 1.0, ..., 25, 3.7, 2],\n",
       "       [1.0, 0.0, 0.0, ..., 24, 3.6, 1],\n",
       "       [0.0, 1.0, 0.0, ..., 26, 3.8, 3],\n",
       "       ...,\n",
       "       [0.0, 1.0, 1.0, ..., 24, 3.8, 3],\n",
       "       [1.0, 0.0, 0.0, ..., 23, 3.7, 2],\n",
       "       [0.0, 1.0, 0.0, ..., 26, 3.6, 1]], dtype=object)"
      ]
     },
     "execution_count": 6,
     "metadata": {},
     "output_type": "execute_result"
    }
   ],
   "source": [
    "from sklearn.compose import ColumnTransformer\n",
    "from sklearn.preprocessing import OneHotEncoder\n",
    "cat_cols = [0, 1]\n",
    "ct = ColumnTransformer(transformers=[(\n",
    "    'my_encoder', OneHotEncoder(), cat_cols)], remainder='passthrough')\n",
    "X = np.array(ct.fit_transform(X))\n",
    "X"
   ]
  },
  {
   "cell_type": "markdown",
   "id": "944d2042",
   "metadata": {
    "collapsed": false
   },
   "source": [
    "### 2-Linear Regression"
   ]
  },
  {
   "cell_type": "code",
   "execution_count": 7,
   "id": "f3c651fd",
   "metadata": {
    "ExecuteTime": {
     "end_time": "2024-05-11T11:35:52.009824900Z",
     "start_time": "2024-05-11T11:35:49.285409200Z"
    }
   },
   "outputs": [],
   "source": [
    "from sklearn.model_selection import train_test_split\n",
    "X_train, X_test, y_train, y_test = train_test_split(\n",
    "    X, y, test_size=0.2, random_state=1)"
   ]
  },
  {
   "cell_type": "code",
   "execution_count": 8,
   "id": "c20a7f40",
   "metadata": {
    "scrolled": true
   },
   "outputs": [
    {
     "name": "stdout",
     "output_type": "stream",
     "text": [
      "Training Data..\n",
      "The shape of training features:  (560, 10)\n",
      "The shape of training labels:  (560,)\n"
     ]
    }
   ],
   "source": [
    "print(\"Training Data..\")\n",
    "print(\"The shape of training features: \", X_train.shape)\n",
    "print(\"The shape of training labels: \", y_train.shape)"
   ]
  },
  {
   "cell_type": "code",
   "execution_count": 9,
   "id": "94ff2ee1",
   "metadata": {},
   "outputs": [
    {
     "name": "stdout",
     "output_type": "stream",
     "text": [
      "Testing Data..\n",
      "The shape of testing features:  (140, 10)\n",
      "The shape of testing labels:  (140,)\n"
     ]
    }
   ],
   "source": [
    "print(\"Testing Data..\")\n",
    "print(\"The shape of testing features: \", X_test.shape)\n",
    "print(\"The shape of testing labels: \", y_test.shape)"
   ]
  },
  {
   "cell_type": "code",
   "execution_count": 10,
   "id": "e2c62a17",
   "metadata": {},
   "outputs": [
    {
     "data": {
      "text/plain": [
       "LinearRegression()"
      ]
     },
     "execution_count": 10,
     "metadata": {},
     "output_type": "execute_result"
    }
   ],
   "source": [
    "from sklearn.linear_model import LinearRegression\n",
    "linear_regressor = LinearRegression()\n",
    "linear_regressor.fit(X_train, y_train)"
   ]
  },
  {
   "cell_type": "code",
   "execution_count": 11,
   "id": "ecf76754",
   "metadata": {},
   "outputs": [
    {
     "name": "stdout",
     "output_type": "stream",
     "text": [
      "The Training Accuracy =  18.0 %\n"
     ]
    }
   ],
   "source": [
    "training_acc = np.ceil(linear_regressor.score(X_train, y_train) * 100)\n",
    "print(\"The Training Accuracy = \", training_acc, \"%\")"
   ]
  },
  {
   "cell_type": "code",
   "execution_count": 12,
   "id": "410cf2fd",
   "metadata": {},
   "outputs": [
    {
     "name": "stdout",
     "output_type": "stream",
     "text": [
      "The Testing_acc Accuracy =  15.0 %\n"
     ]
    }
   ],
   "source": [
    "testing_acc = np.ceil(linear_regressor.score(X_test, y_test) * 100)\n",
    "print(\"The Testing_acc Accuracy = \", testing_acc, \"%\")"
   ]
  },
  {
   "cell_type": "code",
   "execution_count": 13,
   "id": "b59f2e30",
   "metadata": {},
   "outputs": [
    {
     "name": "stdout",
     "output_type": "stream",
     "text": [
      "[ 192.52736172 -192.52736172  140.91140602 -297.92356592   72.19623517\n",
      "   44.77962705   40.03629769  -85.43838561 5722.51857754  328.42383224]\n",
      "44598.17394370033\n"
     ]
    }
   ],
   "source": [
    "print(linear_regressor.coef_)\n",
    "print(linear_regressor.intercept_)"
   ]
  },
  {
   "cell_type": "code",
   "execution_count": 14,
   "id": "63ea95bc",
   "metadata": {},
   "outputs": [
    {
     "name": "stdout",
     "output_type": "stream",
     "text": [
      "y = 44598.17394370033\n",
      "  + 192.52736171591351 X0\n",
      "  + -192.5273617159157 X1\n",
      "  + 140.91140601840883 X2\n",
      "  + -297.9235659244165 X3\n",
      "  + 72.19623516799645 X4\n",
      "  + 44.77962705215755 X5\n",
      "  + 40.03629768585839 X6\n",
      "  + -85.43838560960864 X7\n",
      "  + 5722.5185775440605 X8\n",
      "  + 328.42383223651694 X9\n"
     ]
    }
   ],
   "source": [
    "print(f\"y = {linear_regressor.intercept_}\")\n",
    "for i in range(len(linear_regressor.coef_)):\n",
    "    print(f\"  + {linear_regressor.coef_[i]} X{i}\")"
   ]
  },
  {
   "cell_type": "markdown",
   "id": "ad81612e",
   "metadata": {
    "collapsed": false
   },
   "source": [
    "### 3-Polynomial Regression"
   ]
  },
  {
   "cell_type": "code",
   "execution_count": 15,
   "id": "0019b981",
   "metadata": {},
   "outputs": [],
   "source": [
    "from sklearn.preprocessing import PolynomialFeatures\n",
    "poly_features = PolynomialFeatures(degree=4)"
   ]
  },
  {
   "cell_type": "code",
   "execution_count": 16,
   "id": "b82a1eb2",
   "metadata": {
    "collapsed": false
   },
   "outputs": [],
   "source": [
    "# choose the gpa column for the polynomial transformation\n",
    "X_train = X_train[:, -2:-1]"
   ]
  },
  {
   "cell_type": "code",
   "execution_count": 17,
   "id": "de638787",
   "metadata": {
    "collapsed": false
   },
   "outputs": [],
   "source": [
    "X_poly = poly_features.fit_transform(X_train)"
   ]
  },
  {
   "cell_type": "code",
   "execution_count": 18,
   "id": "ec8c53b0",
   "metadata": {
    "collapsed": false
   },
   "outputs": [],
   "source": [
    "poly_regressor = LinearRegression()"
   ]
  },
  {
   "cell_type": "code",
   "execution_count": 19,
   "id": "b1745bd9",
   "metadata": {
    "collapsed": false
   },
   "outputs": [
    {
     "data": {
      "text/plain": [
       "LinearRegression()"
      ]
     },
     "execution_count": 19,
     "metadata": {},
     "output_type": "execute_result"
    }
   ],
   "source": [
    "poly_regressor.fit(X_poly, y_train)"
   ]
  },
  {
   "cell_type": "code",
   "execution_count": 20,
   "id": "42838124",
   "metadata": {},
   "outputs": [
    {
     "name": "stdout",
     "output_type": "stream",
     "text": [
      "The Training Accuracy =  18.0 %\n"
     ]
    }
   ],
   "source": [
    "training_acc = np.ceil(poly_regressor.score(X_poly, y_train) * 100)\n",
    "print(\"The Training Accuracy = \", training_acc, \"%\")"
   ]
  },
  {
   "cell_type": "code",
   "execution_count": 21,
   "id": "2c0c4bc9",
   "metadata": {},
   "outputs": [
    {
     "name": "stdout",
     "output_type": "stream",
     "text": [
      "The Testing_acc Accuracy =  24.0 %\n"
     ]
    }
   ],
   "source": [
    "testing_acc = np.ceil(poly_regressor.score(\n",
    "    poly_features.fit_transform(X_test[:, -2:-1]), y_test) * 100)\n",
    "print(\"The Testing_acc Accuracy = \", testing_acc, \"%\")"
   ]
  },
  {
   "cell_type": "code",
   "execution_count": 22,
   "id": "8ff7aad0",
   "metadata": {
    "collapsed": false
   },
   "outputs": [
    {
     "data": {
      "text/plain": [
       "Text(0, 0.5, 'salary')"
      ]
     },
     "execution_count": 22,
     "metadata": {},
     "output_type": "execute_result"
    },
    {
     "data": {
      "image/png": "[encoded data removed]",
      "text/plain": [
       "<Figure size 432x288 with 1 Axes>"
      ]
     },
     "metadata": {
      "needs_background": "light"
     },
     "output_type": "display_data"
    }
   ],
   "source": [
    "plt.scatter(X_train, y_train, color='red')\n",
    "plt.plot(X_train, poly_regressor.predict(X_poly), color='blue')\n",
    "plt.title('Polynomial Regression')\n",
    "plt.xlabel('gpa')\n",
    "plt.ylabel('salary')"
   ]
  }
 ],
 "metadata": {
  "kernelspec": {
   "display_name": "Python 3 (ipykernel)",
   "language": "python",
   "name": "python3"
  },
  "language_info": {
   "codemirror_mode": {
    "name": "ipython",
    "version": 3
   },
   "file_extension": ".py",
   "mimetype": "text/x-python",
   "name": "python",
   "nbconvert_exporter": "python",
   "pygments_lexer": "ipython3",
   "version": "3.9.12"
  }
 },
 "nbformat": 4,
 "nbformat_minor": 5
}
