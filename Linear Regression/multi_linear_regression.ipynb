{
 "cells": [
  {
   "cell_type": "code",
   "execution_count": 22,
   "id": "1dd4155c",
   "metadata": {
    "ExecuteTime": {
     "end_time": "2024-03-12T12:36:10.913873400Z",
     "start_time": "2024-03-12T12:36:10.858574900Z"
    }
   },
   "outputs": [],
   "source": [
    "import pandas as pd\n",
    "import numpy as np\n",
    "import matplotlib.pyplot as plt\n",
    "from sklearn.model_selection import train_test_split"
   ]
  },
  {
   "cell_type": "code",
   "execution_count": 23,
   "id": "599e46ee",
   "metadata": {
    "ExecuteTime": {
     "end_time": "2024-03-12T12:36:11.053213Z",
     "start_time": "2024-03-12T12:36:10.869991600Z"
    }
   },
   "outputs": [],
   "source": [
    "dataset = pd.read_csv('../Data Preprocessing/preprocessed.csv', header=None)\n",
    "X = dataset.iloc[:, :-1].values\n",
    "y = dataset.iloc[:, -1].values"
   ]
  },
  {
   "cell_type": "code",
   "execution_count": 24,
   "id": "b368a356",
   "metadata": {},
   "outputs": [],
   "source": [
    "X_train, X_test, y_train, y_test = train_test_split(\n",
    "    X, y, test_size=.2, random_state=1)"
   ]
  },
  {
   "cell_type": "code",
   "execution_count": 25,
   "id": "c20a7f40",
   "metadata": {
    "ExecuteTime": {
     "end_time": "2024-03-12T12:36:11.071166100Z",
     "start_time": "2024-03-12T12:36:11.044565600Z"
    },
    "scrolled": true
   },
   "outputs": [
    {
     "name": "stdout",
     "output_type": "stream",
     "text": [
      "Trainig Data..\n",
      "The shape of training features:  (800, 22)\n",
      "The shape of training labels:  (800,)\n"
     ]
    }
   ],
   "source": [
    "print(\"Trainig Data..\")\n",
    "print(\"The shape of training features: \", X_train.shape)\n",
    "print(\"The shape of training labels: \", y_train.shape)"
   ]
  },
  {
   "cell_type": "code",
   "execution_count": 26,
   "id": "94ff2ee1",
   "metadata": {
    "ExecuteTime": {
     "end_time": "2024-03-12T12:36:12.380439200Z",
     "start_time": "2024-03-12T12:36:11.059196500Z"
    }
   },
   "outputs": [
    {
     "name": "stdout",
     "output_type": "stream",
     "text": [
      "Testing Data..\n",
      "The shape of testing features:  (200, 22)\n",
      "The shape of testing labels:  (200,)\n"
     ]
    }
   ],
   "source": [
    "print(\"Testing Data..\")\n",
    "print(\"The shape of testing features: \", X_test.shape)\n",
    "print(\"The shape of testing labels: \", y_test.shape)"
   ]
  },
  {
   "cell_type": "code",
   "execution_count": 27,
   "id": "e2c62a17",
   "metadata": {
    "ExecuteTime": {
     "end_time": "2024-03-12T12:36:12.496685500Z",
     "start_time": "2024-03-12T12:36:11.077147600Z"
    }
   },
   "outputs": [],
   "source": [
    "from sklearn.linear_model import LinearRegression"
   ]
  },
  {
   "cell_type": "code",
   "execution_count": 28,
   "id": "865c2759",
   "metadata": {
    "ExecuteTime": {
     "end_time": "2024-03-12T12:36:12.496685500Z",
     "start_time": "2024-03-12T12:36:11.090113100Z"
    }
   },
   "outputs": [],
   "source": [
    "regressor = LinearRegression()"
   ]
  },
  {
   "cell_type": "code",
   "execution_count": 29,
   "id": "944c9ae1",
   "metadata": {
    "ExecuteTime": {
     "end_time": "2024-03-12T12:36:12.503938100Z",
     "start_time": "2024-03-12T12:36:12.380439200Z"
    }
   },
   "outputs": [
    {
     "data": {
      "text/plain": [
       "LinearRegression()"
      ]
     },
     "execution_count": 29,
     "metadata": {},
     "output_type": "execute_result"
    }
   ],
   "source": [
    "# Train the model\n",
    "regressor.fit(X_train, y_train)"
   ]
  },
  {
   "cell_type": "code",
   "execution_count": 30,
   "id": "ecf76754",
   "metadata": {
    "ExecuteTime": {
     "end_time": "2024-03-12T12:36:12.504936Z",
     "start_time": "2024-03-12T12:36:12.380439200Z"
    }
   },
   "outputs": [
    {
     "name": "stdout",
     "output_type": "stream",
     "text": [
      "The Training Accuracy =  3.0 %\n"
     ]
    }
   ],
   "source": [
    "training_acc = np.ceil(regressor.score(X_train, y_train) * 100)\n",
    "print(\"The Training Accuracy = \", training_acc, \"%\")"
   ]
  },
  {
   "cell_type": "code",
   "execution_count": 31,
   "id": "f44c21a8",
   "metadata": {
    "ExecuteTime": {
     "end_time": "2024-03-12T12:36:12.504936Z",
     "start_time": "2024-03-12T12:36:12.380439200Z"
    }
   },
   "outputs": [
    {
     "name": "stdout",
     "output_type": "stream",
     "text": [
      "[[4.97 8.  ]\n",
      " [5.16 1.  ]\n",
      " [4.91 8.  ]\n",
      " [5.59 9.  ]\n",
      " [4.79 5.  ]\n",
      " [5.41 5.  ]\n",
      " [5.34 8.  ]\n",
      " [5.2  3.  ]\n",
      " [5.3  5.  ]\n",
      " [4.92 5.  ]\n",
      " [5.82 2.  ]\n",
      " [4.98 7.  ]\n",
      " [5.09 6.  ]\n",
      " [5.03 9.  ]\n",
      " [5.09 8.  ]\n",
      " [5.58 6.  ]\n",
      " [5.5  1.  ]\n",
      " [4.22 8.  ]\n",
      " [5.14 6.  ]\n",
      " [4.83 8.  ]\n",
      " [4.81 1.  ]\n",
      " [4.64 4.  ]\n",
      " [4.23 8.  ]\n",
      " [4.66 5.  ]\n",
      " [4.88 6.  ]\n",
      " [4.47 6.  ]\n",
      " [4.41 8.  ]\n",
      " [4.91 6.  ]\n",
      " [5.91 5.  ]\n",
      " [5.52 2.  ]\n",
      " [5.69 5.  ]\n",
      " [5.43 6.  ]\n",
      " [5.26 9.  ]\n",
      " [4.84 8.  ]\n",
      " [5.13 3.  ]\n",
      " [6.   8.  ]\n",
      " [4.73 9.  ]\n",
      " [4.98 7.  ]\n",
      " [4.93 5.  ]\n",
      " [5.41 3.  ]\n",
      " [4.66 1.  ]\n",
      " [4.7  6.  ]\n",
      " [4.73 2.  ]\n",
      " [5.   7.  ]\n",
      " [5.38 8.  ]\n",
      " [5.06 5.  ]\n",
      " [5.45 2.  ]\n",
      " [4.91 8.  ]\n",
      " [5.03 7.  ]\n",
      " [5.47 8.  ]\n",
      " [4.79 4.  ]\n",
      " [5.77 7.  ]\n",
      " [5.17 4.  ]\n",
      " [5.21 3.  ]\n",
      " [4.95 3.  ]\n",
      " [5.61 1.  ]\n",
      " [5.06 5.  ]\n",
      " [5.01 4.  ]\n",
      " [5.34 1.  ]\n",
      " [5.33 4.  ]\n",
      " [5.02 7.  ]\n",
      " [4.91 3.  ]\n",
      " [4.55 2.  ]\n",
      " [5.09 9.  ]\n",
      " [4.43 4.  ]\n",
      " [5.06 6.  ]\n",
      " [5.45 3.  ]\n",
      " [4.9  3.  ]\n",
      " [5.96 6.  ]\n",
      " [5.26 7.  ]\n",
      " [5.19 3.  ]\n",
      " [5.31 3.  ]\n",
      " [5.07 7.  ]\n",
      " [5.71 6.  ]\n",
      " [4.09 2.  ]\n",
      " [5.   5.  ]\n",
      " [5.75 2.  ]\n",
      " [4.77 1.  ]\n",
      " [5.31 1.  ]\n",
      " [5.39 4.  ]\n",
      " [6.12 2.  ]\n",
      " [5.47 8.  ]\n",
      " [4.86 7.  ]\n",
      " [6.18 6.  ]\n",
      " [4.73 3.  ]\n",
      " [4.96 9.  ]\n",
      " [4.84 1.  ]\n",
      " [4.52 4.  ]\n",
      " [4.26 7.  ]\n",
      " [5.8  5.  ]\n",
      " [5.04 4.  ]\n",
      " [5.88 8.  ]\n",
      " [4.92 4.  ]\n",
      " [4.98 4.  ]\n",
      " [5.55 7.  ]\n",
      " [4.16 1.  ]\n",
      " [4.56 9.  ]\n",
      " [4.66 7.  ]\n",
      " [5.64 7.  ]\n",
      " [5.24 6.  ]\n",
      " [5.39 2.  ]\n",
      " [4.96 6.  ]\n",
      " [4.33 8.  ]\n",
      " [5.28 8.  ]\n",
      " [5.48 5.  ]\n",
      " [5.12 6.  ]\n",
      " [4.68 4.  ]\n",
      " [4.72 3.  ]\n",
      " [4.89 5.  ]\n",
      " [4.49 7.  ]\n",
      " [5.71 5.  ]\n",
      " [4.87 9.  ]\n",
      " [4.98 5.  ]\n",
      " [4.84 5.  ]\n",
      " [5.37 2.  ]\n",
      " [5.31 7.  ]\n",
      " [5.22 5.  ]\n",
      " [5.75 6.  ]\n",
      " [4.64 9.  ]\n",
      " [5.2  7.  ]\n",
      " [4.73 4.  ]\n",
      " [4.33 8.  ]\n",
      " [4.84 5.  ]\n",
      " [4.69 4.  ]\n",
      " [4.22 4.  ]\n",
      " [5.18 1.  ]\n",
      " [4.8  6.  ]\n",
      " [4.81 9.  ]\n",
      " [5.09 6.  ]\n",
      " [5.17 4.  ]\n",
      " [4.8  6.  ]\n",
      " [4.32 9.  ]\n",
      " [5.81 3.  ]\n",
      " [5.46 8.  ]\n",
      " [4.65 5.  ]\n",
      " [5.75 8.  ]\n",
      " [4.77 3.  ]\n",
      " [4.98 8.  ]\n",
      " [5.2  4.  ]\n",
      " [4.42 5.  ]\n",
      " [4.98 2.  ]\n",
      " [4.3  2.  ]\n",
      " [5.66 7.  ]\n",
      " [5.24 9.  ]\n",
      " [4.92 1.  ]\n",
      " [4.76 7.  ]\n",
      " [5.08 8.  ]\n",
      " [5.48 8.  ]\n",
      " [5.01 8.  ]\n",
      " [5.64 5.  ]\n",
      " [5.14 3.  ]\n",
      " [4.41 5.  ]\n",
      " [5.38 7.  ]\n",
      " [5.25 7.  ]\n",
      " [4.41 2.  ]\n",
      " [4.19 2.  ]\n",
      " [4.33 1.  ]\n",
      " [5.27 6.  ]\n",
      " [4.62 4.  ]\n",
      " [5.17 7.  ]\n",
      " [5.29 3.  ]\n",
      " [4.48 6.  ]\n",
      " [5.66 5.  ]\n",
      " [5.07 6.  ]\n",
      " [4.54 2.  ]\n",
      " [4.98 2.  ]\n",
      " [5.07 6.  ]\n",
      " [5.05 1.  ]\n",
      " [4.17 1.  ]\n",
      " [4.89 9.  ]\n",
      " [4.3  4.  ]\n",
      " [5.59 2.  ]\n",
      " [5.38 9.  ]\n",
      " [4.12 6.  ]\n",
      " [5.12 5.  ]\n",
      " [5.12 8.  ]\n",
      " [4.48 5.  ]\n",
      " [5.12 5.  ]\n",
      " [4.81 4.  ]\n",
      " [4.96 8.  ]\n",
      " [4.57 9.  ]\n",
      " [4.8  1.  ]\n",
      " [4.66 5.  ]\n",
      " [5.2  3.  ]\n",
      " [5.33 1.  ]\n",
      " [4.43 7.  ]\n",
      " [4.36 1.  ]\n",
      " [5.73 4.  ]\n",
      " [4.8  2.  ]\n",
      " [5.55 3.  ]\n",
      " [4.56 4.  ]\n",
      " [4.51 8.  ]\n",
      " [5.1  1.  ]\n",
      " [4.95 6.  ]\n",
      " [5.57 4.  ]\n",
      " [4.69 4.  ]\n",
      " [5.73 8.  ]\n",
      " [5.32 2.  ]\n",
      " [5.45 1.  ]\n",
      " [5.14 6.  ]]\n"
     ]
    }
   ],
   "source": [
    "y_pred = regressor.predict(X_test)\n",
    "np.set_printoptions(precision=2)\n",
    "print(np.concatenate((y_pred.reshape(len(y_pred), 1), y_test.reshape(len(y_test), 1)), 1))"
   ]
  },
  {
   "cell_type": "code",
   "execution_count": 32,
   "id": "410cf2fd",
   "metadata": {
    "ExecuteTime": {
     "end_time": "2024-03-12T12:36:12.504936Z",
     "start_time": "2024-03-12T12:36:12.380439200Z"
    }
   },
   "outputs": [
    {
     "name": "stdout",
     "output_type": "stream",
     "text": [
      "The Testing_acc Accuracy =  -2.0 %\n"
     ]
    }
   ],
   "source": [
    "testing_acc = np.ceil(regressor.score(X_test, y_test) * 100)\n",
    "print(\"The Testing_acc Accuracy = \", testing_acc, \"%\")"
   ]
  },
  {
   "cell_type": "code",
   "execution_count": 33,
   "id": "b59f2e30",
   "metadata": {
    "ExecuteTime": {
     "end_time": "2024-03-12T12:36:12.504936Z",
     "start_time": "2024-03-12T12:36:12.381435600Z"
    }
   },
   "outputs": [
    {
     "name": "stdout",
     "output_type": "stream",
     "text": [
      "22 coefficients\n",
      "[ 4.64e+13  4.64e+13  2.49e+12  2.49e+12  2.49e+12  2.36e+12  2.36e+12\n",
      "  2.36e+12  1.25e+11  1.25e+11  1.25e+11  1.70e+12  1.70e+12  1.70e+12\n",
      "  2.39e+11  2.39e+11  2.39e+11 -2.48e-02 -4.01e-02  2.01e-02  2.23e-01\n",
      " -1.81e-02]\n",
      "b = -53325851786167.875\n"
     ]
    }
   ],
   "source": [
    "print(len(regressor.coef_), \"coefficients\")\n",
    "print(regressor.coef_)\n",
    "print(\"b =\", regressor.intercept_)"
   ]
  },
  {
   "cell_type": "code",
   "execution_count": 34,
   "id": "0019b981",
   "metadata": {
    "ExecuteTime": {
     "end_time": "2024-03-12T12:36:12.505933500Z",
     "start_time": "2024-03-12T12:36:12.381435600Z"
    }
   },
   "outputs": [
    {
     "name": "stdout",
     "output_type": "stream",
     "text": [
      "y = -53325851786167.875\n",
      "    + 46403093402504.164 X0\n",
      "    + 46403093402503.945 X1\n",
      "    + 2492707796065.299 X2\n",
      "    + 2492707796065.429 X3\n",
      "    + 2492707796065.112 X4\n",
      "    + 2361347222642.24 X5\n",
      "    + 2361347222641.942 X6\n",
      "    + 2361347222642.2046 X7\n",
      "    + 125422206684.01772 X8\n",
      "    + 125422206683.58429 X9\n",
      "    + 125422206683.5875 X10\n",
      "    + 1704260603232.3494 X11\n",
      "    + 1704260603232.6006 X12\n",
      "    + 1704260603232.005 X13\n",
      "    + 239020555045.3599 X14\n",
      "    + 239020555045.17615 X15\n",
      "    + 239020555045.33154 X16\n",
      "    + -0.02477712814487419 X17\n",
      "    + -0.04009247170877707 X18\n",
      "    + 0.020081400074211917 X19\n",
      "    + 0.2227379537337833 X20\n",
      "    + -0.018087722598100636 X21\n"
     ]
    }
   ],
   "source": [
    "print(\"y = %s\" % regressor.intercept_)\n",
    "for i in range(len(regressor.coef_)):\n",
    "    print(f\"    + {regressor.coef_[i]} X{i}\")"
   ]
  }
 ],
 "metadata": {
  "kernelspec": {
   "display_name": "Python 3 (ipykernel)",
   "language": "python",
   "name": "python3"
  },
  "language_info": {
   "codemirror_mode": {
    "name": "ipython",
    "version": 3
   },
   "file_extension": ".py",
   "mimetype": "text/x-python",
   "name": "python",
   "nbconvert_exporter": "python",
   "pygments_lexer": "ipython3",
   "version": "3.9.12"
  }
 },
 "nbformat": 4,
 "nbformat_minor": 5
}
