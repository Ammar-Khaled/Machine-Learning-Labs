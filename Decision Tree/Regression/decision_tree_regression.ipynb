{
 "cells": [
  {
   "cell_type": "code",
   "execution_count": 10,
   "metadata": {
    "collapsed": false,
    "ExecuteTime": {
     "end_time": "2024-05-12T10:49:42.488538200Z",
     "start_time": "2024-05-12T10:49:42.481475700Z"
    }
   },
   "outputs": [],
   "source": [
    "import numpy as np\n",
    "import matplotlib.pyplot as plt\n",
    "import pandas as pd"
   ]
  },
  {
   "cell_type": "code",
   "execution_count": 11,
   "metadata": {
    "collapsed": false,
    "ExecuteTime": {
     "end_time": "2024-05-12T10:49:42.551024200Z",
     "start_time": "2024-05-12T10:49:42.488538200Z"
    }
   },
   "outputs": [],
   "source": [
    "dataset = pd.read_csv('StudentsPerformance.csv')\n",
    "X = dataset.iloc[:, 1:-1].values\n",
    "y = dataset.iloc[:, -1].values"
   ]
  },
  {
   "cell_type": "code",
   "execution_count": 12,
   "outputs": [
    {
     "name": "stdout",
     "output_type": "stream",
     "text": [
      "<class 'pandas.core.frame.DataFrame'>\n",
      "RangeIndex: 1000 entries, 0 to 999\n",
      "Data columns (total 7 columns):\n",
      " #   Column         Non-Null Count  Dtype \n",
      "---  ------         --------------  ----- \n",
      " 0   gender         1000 non-null   object\n",
      " 1   education      1000 non-null   object\n",
      " 2   lunch          1000 non-null   object\n",
      " 3   preparation    1000 non-null   int64 \n",
      " 4   reading score  1000 non-null   int64 \n",
      " 5   writing score  1000 non-null   int64 \n",
      " 6   exam score     1000 non-null   int64 \n",
      "dtypes: int64(4), object(3)\n",
      "memory usage: 54.8+ KB\n"
     ]
    }
   ],
   "source": [
    "dataset.info()"
   ],
   "metadata": {
    "collapsed": false,
    "ExecuteTime": {
     "end_time": "2024-05-12T10:49:42.551024200Z",
     "start_time": "2024-05-12T10:49:42.504160500Z"
    }
   }
  },
  {
   "cell_type": "code",
   "execution_count": 13,
   "outputs": [
    {
     "data": {
      "text/plain": "array([[\"bachelor's degree\", 'standard', 0, 72, 74],\n       ['some college', 'standard', 1, 90, 88],\n       [\"master's degree\", 'standard', 0, 95, 93],\n       ...,\n       ['high school', 'free', 1, 71, 65],\n       ['some college', 'standard', 1, 78, 77],\n       ['some college', 'free', 0, 86, 86]], dtype=object)"
     },
     "execution_count": 13,
     "metadata": {},
     "output_type": "execute_result"
    }
   ],
   "source": [
    "X"
   ],
   "metadata": {
    "collapsed": false,
    "ExecuteTime": {
     "end_time": "2024-05-12T10:49:42.551024200Z",
     "start_time": "2024-05-12T10:49:42.519781700Z"
    }
   }
  },
  {
   "cell_type": "code",
   "execution_count": 14,
   "outputs": [],
   "source": [
    "# encoding categorical data\n",
    "from sklearn.compose import ColumnTransformer\n",
    "from sklearn.preprocessing import OneHotEncoder\n",
    "\n",
    "transformer = ColumnTransformer(\n",
    "    transformers=[(\"categorical_encoder\", OneHotEncoder(), [0, 1])], remainder='passthrough')\n",
    "X = np.array(transformer.fit_transform(X))"
   ],
   "metadata": {
    "collapsed": false,
    "ExecuteTime": {
     "end_time": "2024-05-12T10:49:42.551024200Z",
     "start_time": "2024-05-12T10:49:42.535404200Z"
    }
   }
  },
  {
   "cell_type": "code",
   "execution_count": 15,
   "outputs": [
    {
     "data": {
      "text/plain": "array([[0.0, 1.0, 0.0, ..., 0, 72, 74],\n       [0.0, 0.0, 0.0, ..., 1, 90, 88],\n       [0.0, 0.0, 0.0, ..., 0, 95, 93],\n       ...,\n       [0.0, 0.0, 1.0, ..., 1, 71, 65],\n       [0.0, 0.0, 0.0, ..., 1, 78, 77],\n       [0.0, 0.0, 0.0, ..., 0, 86, 86]], dtype=object)"
     },
     "execution_count": 15,
     "metadata": {},
     "output_type": "execute_result"
    }
   ],
   "source": [
    "X"
   ],
   "metadata": {
    "collapsed": false,
    "ExecuteTime": {
     "end_time": "2024-05-12T10:49:42.566652700Z",
     "start_time": "2024-05-12T10:49:42.551024200Z"
    }
   }
  },
  {
   "cell_type": "code",
   "execution_count": 16,
   "metadata": {
    "collapsed": false,
    "ExecuteTime": {
     "end_time": "2024-05-12T10:49:42.582268800Z",
     "start_time": "2024-05-12T10:49:42.566652700Z"
    }
   },
   "outputs": [
    {
     "data": {
      "text/plain": "DecisionTreeRegressor(random_state=0)"
     },
     "execution_count": 16,
     "metadata": {},
     "output_type": "execute_result"
    }
   ],
   "source": [
    "from sklearn.tree import DecisionTreeRegressor\n",
    "regressor = DecisionTreeRegressor(random_state=0)\n",
    "# random_state=0 for reproducibility:\n",
    "# the model will always result in the same sequence of splits, given the same input data.\n",
    "regressor.fit(X, y)"
   ]
  },
  {
   "cell_type": "code",
   "execution_count": 17,
   "outputs": [
    {
     "data": {
      "text/plain": "Text(0, 0.5, 'exam score')"
     },
     "execution_count": 17,
     "metadata": {},
     "output_type": "execute_result"
    },
    {
     "data": {
      "text/plain": "<Figure size 432x288 with 1 Axes>",
      "image/png": "[encoded data removed]"
     },
     "metadata": {
      "needs_background": "light"
     },
     "output_type": "display_data"
    }
   ],
   "source": [
    "X_feature = X[:100, -1]\n",
    "plt.scatter(X_feature, y[:100], c='r')\n",
    "plt.plot(X_feature, regressor.predict(X[:100]), c='b')\n",
    "plt.title('Decision Tree Regression')\n",
    "plt.xlabel('reading score')\n",
    "plt.ylabel('exam score')"
   ],
   "metadata": {
    "collapsed": false,
    "ExecuteTime": {
     "end_time": "2024-05-12T10:49:42.771787800Z",
     "start_time": "2024-05-12T10:49:42.597887400Z"
    }
   }
  },
  {
   "cell_type": "code",
   "execution_count": 18,
   "outputs": [],
   "source": [
    "# import export_graphviz\n",
    "from sklearn.tree import export_graphviz\n",
    "\n",
    "# export the decision tree to a tree.dot file\n",
    "# for visualizing the plot easily anywhere\n",
    "export_graphviz(regressor, out_file='tree.dot')"
   ],
   "metadata": {
    "collapsed": false,
    "ExecuteTime": {
     "end_time": "2024-05-12T10:49:42.912381900Z",
     "start_time": "2024-05-12T10:49:42.756166300Z"
    }
   }
  }
 ],
 "metadata": {
  "kernelspec": {
   "display_name": "Python 3",
   "language": "python",
   "name": "python3"
  },
  "language_info": {
   "codemirror_mode": {
    "name": "ipython",
    "version": 3
   },
   "file_extension": ".py",
   "mimetype": "text/x-python",
   "name": "python",
   "nbconvert_exporter": "python",
   "pygments_lexer": "ipython3",
   "version": "3.9.12"
  }
 },
 "nbformat": 4,
 "nbformat_minor": 0
}
