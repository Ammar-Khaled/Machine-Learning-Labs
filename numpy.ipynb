{
 "cells": [
  {
   "cell_type": "markdown",
   "metadata": {
    "collapsed": false
   },
   "source": [
    "### What is numpy?\n",
    "NumPy is the fundamental package for scientific computing in Python. It is a Python library that provides a multidimensional array object, various derived objects (such as masked arrays and matrices), and an assortment of routines for fast operations on arrays, including mathematical, logical, shape manipulation, sorting, selecting, I/O, basic linear algebra, basic statistical operations, random simulation and much more."
   ]
  },
  {
   "cell_type": "code",
   "execution_count": 12,
   "metadata": {
    "ExecuteTime": {
     "end_time": "2024-05-12T12:19:49.827258500Z",
     "start_time": "2024-05-12T12:19:44.378525900Z"
    },
    "collapsed": false
   },
   "outputs": [
    {
     "name": "stdout",
     "output_type": "stream",
     "text": [
      "Requirement already satisfied: numpy in c:\\users\\lenovo\\anaconda3\\lib\\site-packages (1.21.5)\n",
      "Note: you may need to restart the kernel to use updated packages.\n"
     ]
    }
   ],
   "source": [
    "%pip install numpy"
   ]
  },
  {
   "cell_type": "code",
   "execution_count": 13,
   "metadata": {
    "ExecuteTime": {
     "end_time": "2024-03-10T12:40:57.620667800Z",
     "start_time": "2024-03-10T12:40:57.280577Z"
    }
   },
   "outputs": [],
   "source": [
    "import numpy as np"
   ]
  },
  {
   "cell_type": "markdown",
   "metadata": {},
   "source": [
    "### Numpy Arrays vs Python Lists\n",
    "| Aspect            | Numpy Arrays                             | Python Lists                              |\n",
    "|-------------------|------------------------------------------|-------------------------------------------|\n",
    "| Data Types        | Homogeneous (same data type)            | Heterogeneous (can contain any data type)|\n",
    "| Performance       | More efficient for numerical operations | Less efficient for numerical operations  |\n",
    "| Functionality     | Specialized functions for numerical ops| General-purpose methods for common tasks |\n",
    "| Memory Overhead   | Less memory overhead                    | More memory overhead                      |\n",
    "| Usage             | Numerical and scientific computing      | General-purpose programming               |\n"
   ]
  },
  {
   "cell_type": "markdown",
   "metadata": {},
   "source": [
    "An \"array\" is a central data structure of the NumPy library.<br>\n",
    "The elements are all of the same type, referred to as the array \"dtype\".<br>\n",
    "The \"rank\" of the array is the number of dimensions.<br>\n",
    "The \"shape\" of the array is a tuple of integers giving the size of the array along each dimension.<br>\n",
    "\"vector\" is an array with a single dimension <br>\n",
    "\"matrix\" refers to an array with two dimensions <br>\n",
    "\"tensor\" refers to an array with three or more dimensions <br>\n",
    "\"dimensions\" are also called \"axes\". <br>"
   ]
  },
  {
   "cell_type": "code",
   "execution_count": 14,
   "metadata": {
    "ExecuteTime": {
     "end_time": "2024-03-10T12:40:57.697340Z",
     "start_time": "2024-03-10T12:40:57.289555700Z"
    }
   },
   "outputs": [
    {
     "data": {
      "text/plain": [
       "array([7, 7, 7])"
      ]
     },
     "execution_count": 14,
     "metadata": {},
     "output_type": "execute_result"
    }
   ],
   "source": [
    "#  initialize NumPy arrays\n",
    "a = np.array([1, 2, 3, 4, 5, 6])\n",
    "a = np.array([[1, 2, 3], [4, 5, 6]])\n",
    "a = np.zeros(2)  # [0., 0.]\n",
    "a = np.ones(2)  # [1., 1.]\n",
    "a = np.random.rand(2, 2)  # uniform in [0, 1]\n",
    "a = np.arange(10)  # 0 .. n-1\n",
    "a = np.linspace(0, 10, num=5)\n",
    "# 5 numbers between 0 .. 10, evenly spaced array([0. , 2.5, 5. , 7.5, 10.])\n",
    "a = np.empty(2)  # uninitialized\n",
    "# 2x3 array with all elements 7: array([[7, 7, 7], [7, 7, 7]])\n",
    "a = np.full((2, 3), 7)\n",
    "a[0]  # zero-based indexing"
   ]
  },
  {
   "cell_type": "code",
   "execution_count": 15,
   "metadata": {
    "ExecuteTime": {
     "end_time": "2024-03-10T12:40:57.737274800Z",
     "start_time": "2024-03-10T12:40:57.308505500Z"
    }
   },
   "outputs": [
    {
     "data": {
      "text/plain": [
       "array([1, 2, 3, 4, 5, 6, 1, 2, 3])"
      ]
     },
     "execution_count": 15,
     "metadata": {},
     "output_type": "execute_result"
    }
   ],
   "source": [
    "# Adding, removing, and sorting elements\n",
    "a = np.array([1, 2, 3])\n",
    "a = np.append(a, [4, 5, 6])\n",
    "a = np.insert(a, 1, 10)\n",
    "a = np.delete(a, [1])\n",
    "a = np.sort(a)\n",
    "b = np.array([1, 2, 3])\n",
    "c = np.concatenate((a, b))\n",
    "c"
   ]
  },
  {
   "cell_type": "code",
   "execution_count": 16,
   "metadata": {},
   "outputs": [
    {
     "name": "stdout",
     "output_type": "stream",
     "text": [
      "3\n",
      "24\n",
      "(3, 2, 4)\n"
     ]
    }
   ],
   "source": [
    "a = np.array([[[0, 1, 2, 3],\n",
    "               [4, 5, 6, 7]],\n",
    "\n",
    "              [[0, 1, 2, 3],\n",
    "               [4, 5, 6, 7]],\n",
    "\n",
    "              [[0, 1, 2, 3],\n",
    "               [4, 5, 6, 7]]])\n",
    "\n",
    "print(a.ndim)  # number of dimensions\n",
    "print(a.size)  # number of elements\n",
    "print(a.shape)  # shape of the array"
   ]
  },
  {
   "cell_type": "code",
   "execution_count": 17,
   "metadata": {},
   "outputs": [
    {
     "name": "stdout",
     "output_type": "stream",
     "text": [
      "[0 1 2 3 4 5]\n",
      "[[0 1]\n",
      " [2 3]\n",
      " [4 5]]\n"
     ]
    }
   ],
   "source": [
    "# reshape\n",
    "a = np.arange(6)\n",
    "print(a)\n",
    "a = a.reshape(3, 2)\n",
    "print(a)"
   ]
  },
  {
   "cell_type": "code",
   "execution_count": 18,
   "metadata": {},
   "outputs": [
    {
     "name": "stdout",
     "output_type": "stream",
     "text": [
      "(6,)\n"
     ]
    },
    {
     "data": {
      "text/plain": [
       "(1, 6)"
      ]
     },
     "execution_count": 18,
     "metadata": {},
     "output_type": "execute_result"
    }
   ],
   "source": [
    "# convert a 1D array into a 2D array using np.newaxis, np.expand_dims\n",
    "a = np.array([1, 2, 3, 4, 5, 6])\n",
    "print(a.shape)\n",
    "a2 = a[np.newaxis, :]\n",
    "a2.shape"
   ]
  },
  {
   "cell_type": "code",
   "execution_count": 19,
   "metadata": {},
   "outputs": [
    {
     "name": "stdout",
     "output_type": "stream",
     "text": [
      "0\n",
      "[0 1]\n",
      "2\n",
      "[1 2]\n"
     ]
    }
   ],
   "source": [
    "# Indexing and slicing\n",
    "\n",
    "# same ways as Python lists.\n",
    "a = np.array([0, 1, 2])\n",
    "print(a[0])\n",
    "print(a[0:2])\n",
    "print(a[-1])\n",
    "print(a[-2:])"
   ]
  },
  {
   "cell_type": "code",
   "execution_count": 20,
   "metadata": {},
   "outputs": [
    {
     "name": "stdout",
     "output_type": "stream",
     "text": [
      "[1 2 3 4 5 6]\n",
      "[ 2  4  6  8 10 12]\n",
      "[ 3  4  5  6  7  8  9 10]\n"
     ]
    }
   ],
   "source": [
    "# conditional indexing\n",
    "a = np.array([[1, 2, 3, 4], [5, 6, 7, 8], [9, 10, 11, 12]])\n",
    "print(a[a < 7])\n",
    "print(a[a % 2 == 0])\n",
    "print(a[(a > 2) & (a < 11)])"
   ]
  },
  {
   "cell_type": "code",
   "execution_count": 21,
   "metadata": {},
   "outputs": [
    {
     "name": "stdout",
     "output_type": "stream",
     "text": [
      "[2. 3.]\n",
      "[0. 1.]\n",
      "[1. 2.]\n",
      "[1. 2.]\n",
      "[1.         1.41421356]\n",
      "[2.71828183 7.3890561 ]\n"
     ]
    }
   ],
   "source": [
    "# Basic array operations\n",
    "# additiion, subtraction, multiplication, division, square root, exponentiation operators\n",
    "data = np.array([1, 2])\n",
    "ones = np.ones(2)\n",
    "print(data + ones)\n",
    "print(data - ones)\n",
    "print(data * ones)\n",
    "print(data / ones)\n",
    "print(np.sqrt(data))\n",
    "print(np.exp(data))"
   ]
  },
  {
   "cell_type": "code",
   "execution_count": 22,
   "metadata": {},
   "outputs": [
    {
     "name": "stdout",
     "output_type": "stream",
     "text": [
      "3\n",
      "1\n",
      "2\n"
     ]
    }
   ],
   "source": [
    "data = np.array([1, 2])\n",
    "print(data.sum())\n",
    "print(data.min())\n",
    "print(data.max())"
   ]
  },
  {
   "cell_type": "code",
   "execution_count": 23,
   "metadata": {},
   "outputs": [
    {
     "data": {
      "text/plain": [
       "(array([1, 2, 3]), 3)"
      ]
     },
     "execution_count": 23,
     "metadata": {},
     "output_type": "execute_result"
    }
   ],
   "source": [
    "# get unique items and counts\n",
    "a = np.array([1, 2, 2, 3, 3, 3])\n",
    "unique_values = np.unique(a)\n",
    "unique_values, unique_values.size"
   ]
  },
  {
   "cell_type": "code",
   "execution_count": 24,
   "metadata": {},
   "outputs": [
    {
     "name": "stdout",
     "output_type": "stream",
     "text": [
      "[[1 3 5]\n",
      " [2 4 6]]\n",
      "[[1 3 5]\n",
      " [2 4 6]]\n",
      "[[1 2 3]\n",
      " [4 5 6]]\n"
     ]
    }
   ],
   "source": [
    "# ransposing a matrix\n",
    "data = np.array([[1, 2], [3, 4], [5, 6]])\n",
    "print(data.T)\n",
    "print(data.transpose())\n",
    "print(data.reshape(2, 3))"
   ]
  },
  {
   "cell_type": "code",
   "execution_count": 25,
   "metadata": {},
   "outputs": [
    {
     "name": "stdout",
     "output_type": "stream",
     "text": [
      "[1 2 3 4 5 6 7 8]\n",
      "[8 7 6 5 4 3 2 1]\n",
      "[[1 2 3]\n",
      " [4 5 6]\n",
      " [7 8 9]]\n",
      "[[9 8 7]\n",
      " [6 5 4]\n",
      " [3 2 1]]\n"
     ]
    }
   ],
   "source": [
    "# reversing an array\n",
    "arr = np.array([1, 2, 3, 4, 5, 6, 7, 8])\n",
    "print(arr)\n",
    "reversed_arr = np.flip(arr)\n",
    "print(reversed_arr)\n",
    "# reversing a 2D array\n",
    "arr = np.array([[1, 2, 3], [4, 5, 6], [7, 8, 9]])\n",
    "print(arr)\n",
    "reversed_arr = np.flip(arr)\n",
    "print(reversed_arr)"
   ]
  }
 ],
 "metadata": {
  "kernelspec": {
   "display_name": "Python 3 (ipykernel)",
   "language": "python",
   "name": "python3"
  },
  "language_info": {
   "codemirror_mode": {
    "name": "ipython",
    "version": 3
   },
   "file_extension": ".py",
   "mimetype": "text/x-python",
   "name": "python",
   "nbconvert_exporter": "python",
   "pygments_lexer": "ipython3",
   "version": "3.9.12"
  }
 },
 "nbformat": 4,
 "nbformat_minor": 1
}
